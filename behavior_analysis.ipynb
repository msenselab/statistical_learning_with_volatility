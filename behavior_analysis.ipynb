{
  "cells": [
    {
      "attachments": {},
      "cell_type": "markdown",
      "metadata": {},
      "source": [
        "\n",
        "# Data analysis of the distractor volatility on statistical learning \n",
        "In this study, we compared high- vs. low-volatility changes of the distractor occurrence in a distractor singleton search task. The distractor prevelance was 50% in both sequences. The sequences were generated with Markov chain. \n"
      ]
    },
    {
      "cell_type": "code",
      "execution_count": 1,
      "metadata": {
        "id": "f3fd3GgHteH3"
      },
      "outputs": [],
      "source": [
        "import scipy.io\n",
        "import numpy as np\n",
        "import pandas as pd \n",
        "import pingouin as pg\n",
        "import matplotlib.pyplot as plt\n",
        "import seaborn as sns # statistical data visualization\n",
        "from statsmodels.formula.api import ols\n",
        "from statsmodels.stats.anova import *\n",
        "import warnings\n",
        "warnings.filterwarnings('ignore')\n",
        "pd.set_option('display.max_rows',None)\n",
        "pd.set_option('display.max_columns',None)\n",
        "pd.set_option('display.max_colwidth',None)"
      ]
    },
    {
      "cell_type": "code",
      "execution_count": 2,
      "metadata": {},
      "outputs": [],
      "source": [
        "# function for distractor and target locations\n",
        "##sub1-8:frequent location is [2 3 4 5 6 7 8 1]\n",
        "def func_biasloc(x,y):\n",
        "    if x==0:  return 'absent'\n",
        "    elif x==(y%8+1):  return 'frequent'\n",
        "    else:  return 'rare'\n",
        "func_biasloc=np.vectorize(func_biasloc)\n",
        "\n",
        "# def func_biasloc_tar(x,y,z):\n",
        "#     if x==(y%8+1) and z==0:  return 'frequent'\n",
        "#     elif x!=(y%8+1) and z==0:  return 'rare'\n",
        "#     else: return 'none'\n",
        "# func_biasloc_tar=np.vectorize(func_biasloc_tar)\n",
        "def func_biasloc_tar(x,y,z):\n",
        "    if x==(y%8+1) and z==0 :  return 'frequent'\n",
        "    elif x!=(y%8+1) and z==0:  return 'rare'\n",
        "    else: return 'none'\n",
        "func_biasloc_tar=np.vectorize(func_biasloc_tar)\n",
        "\n",
        "def change_width(ax, new_value) :\n",
        "    for patch in ax.patches :\n",
        "        current_width = patch.get_width()\n",
        "        diff = current_width - new_value\n",
        "        # we change the bar width\n",
        "        patch.set_width(new_value)\n",
        "        # we recenter the bar\n",
        "        patch.set_x(patch.get_x() + diff * .5)\n"
      ]
    },
    {
      "attachments": {},
      "cell_type": "markdown",
      "metadata": {
        "id": "HJC-bA2CILDi"
      },
      "source": [
        "## 1 Import data"
      ]
    },
    {
      "cell_type": "markdown",
      "metadata": {},
      "source": [
        "Check the general sample population. "
      ]
    },
    {
      "cell_type": "code",
      "execution_count": 3,
      "metadata": {},
      "outputs": [
        {
          "name": "stdout",
          "output_type": "stream",
          "text": [
            "Males: 9 Females: 15  Mean age: 26.542\n"
          ]
        }
      ],
      "source": [
        "### general infomation ###\n",
        "url_info = './csv/raw_info_all.csv'\n",
        "info = pd.read_csv(url_info)\n",
        "gender_M = ((info['gender'] == 'M') & (info['volatility'] == 1)).sum()\n",
        "gender_F = ((info['gender'] == 'F') & (info['volatility'] == 1)).sum()\n",
        "age = info.query('volatility==1').age.mean().round(3)\n",
        "print('Males:', gender_M, 'Females:', gender_F,  ' Mean age:', age)\n"
      ]
    },
    {
      "cell_type": "markdown",
      "metadata": {},
      "source": [
        "We first read the raw data. "
      ]
    },
    {
      "cell_type": "code",
      "execution_count": 4,
      "metadata": {},
      "outputs": [
        {
          "name": "stdout",
          "output_type": "stream",
          "text": [
            "(69120, 17)\n"
          ]
        },
        {
          "data": {
            "text/html": [
              "<div>\n",
              "<style scoped>\n",
              "    .dataframe tbody tr th:only-of-type {\n",
              "        vertical-align: middle;\n",
              "    }\n",
              "\n",
              "    .dataframe tbody tr th {\n",
              "        vertical-align: top;\n",
              "    }\n",
              "\n",
              "    .dataframe thead th {\n",
              "        text-align: right;\n",
              "    }\n",
              "</style>\n",
              "<table border=\"1\" class=\"dataframe\">\n",
              "  <thead>\n",
              "    <tr style=\"text-align: right;\">\n",
              "      <th></th>\n",
              "      <th>Unnamed: 0</th>\n",
              "      <th>tar_pos</th>\n",
              "      <th>dist_pos</th>\n",
              "      <th>block</th>\n",
              "      <th>correct</th>\n",
              "      <th>rt</th>\n",
              "      <th>sub</th>\n",
              "      <th>volatility</th>\n",
              "      <th>dist_repe</th>\n",
              "      <th>dist_repe_absent</th>\n",
              "      <th>dist_attendance</th>\n",
              "      <th>dist_switch</th>\n",
              "      <th>coincident</th>\n",
              "      <th>Abe_Pre</th>\n",
              "      <th>dist_pos_preced</th>\n",
              "      <th>dist_bias</th>\n",
              "      <th>tar_bias</th>\n",
              "    </tr>\n",
              "  </thead>\n",
              "  <tbody>\n",
              "    <tr>\n",
              "      <th>0</th>\n",
              "      <td>0</td>\n",
              "      <td>2.0</td>\n",
              "      <td>0.0</td>\n",
              "      <td>1.0</td>\n",
              "      <td>1.0</td>\n",
              "      <td>1.501370</td>\n",
              "      <td>1</td>\n",
              "      <td>high</td>\n",
              "      <td>0</td>\n",
              "      <td>1</td>\n",
              "      <td>NaN</td>\n",
              "      <td>NaN</td>\n",
              "      <td>none</td>\n",
              "      <td>absent</td>\n",
              "      <td>0.0</td>\n",
              "      <td>absent</td>\n",
              "      <td>frequent</td>\n",
              "    </tr>\n",
              "    <tr>\n",
              "      <th>1</th>\n",
              "      <td>1</td>\n",
              "      <td>2.0</td>\n",
              "      <td>1.0</td>\n",
              "      <td>1.0</td>\n",
              "      <td>1.0</td>\n",
              "      <td>1.000736</td>\n",
              "      <td>1</td>\n",
              "      <td>high</td>\n",
              "      <td>1</td>\n",
              "      <td>0</td>\n",
              "      <td>AP</td>\n",
              "      <td>switch</td>\n",
              "      <td>none</td>\n",
              "      <td>present</td>\n",
              "      <td>1.0</td>\n",
              "      <td>rare</td>\n",
              "      <td>none</td>\n",
              "    </tr>\n",
              "    <tr>\n",
              "      <th>2</th>\n",
              "      <td>2</td>\n",
              "      <td>2.0</td>\n",
              "      <td>1.0</td>\n",
              "      <td>1.0</td>\n",
              "      <td>1.0</td>\n",
              "      <td>1.368081</td>\n",
              "      <td>1</td>\n",
              "      <td>high</td>\n",
              "      <td>2</td>\n",
              "      <td>0</td>\n",
              "      <td>PP</td>\n",
              "      <td>non_switch</td>\n",
              "      <td>none</td>\n",
              "      <td>present</td>\n",
              "      <td>1.0</td>\n",
              "      <td>rare</td>\n",
              "      <td>none</td>\n",
              "    </tr>\n",
              "    <tr>\n",
              "      <th>3</th>\n",
              "      <td>3</td>\n",
              "      <td>2.0</td>\n",
              "      <td>0.0</td>\n",
              "      <td>1.0</td>\n",
              "      <td>1.0</td>\n",
              "      <td>0.684040</td>\n",
              "      <td>1</td>\n",
              "      <td>high</td>\n",
              "      <td>0</td>\n",
              "      <td>1</td>\n",
              "      <td>PA</td>\n",
              "      <td>switch</td>\n",
              "      <td>non-coincident</td>\n",
              "      <td>absent</td>\n",
              "      <td>0.0</td>\n",
              "      <td>absent</td>\n",
              "      <td>frequent</td>\n",
              "    </tr>\n",
              "    <tr>\n",
              "      <th>4</th>\n",
              "      <td>4</td>\n",
              "      <td>2.0</td>\n",
              "      <td>0.0</td>\n",
              "      <td>1.0</td>\n",
              "      <td>1.0</td>\n",
              "      <td>0.565839</td>\n",
              "      <td>1</td>\n",
              "      <td>high</td>\n",
              "      <td>0</td>\n",
              "      <td>2</td>\n",
              "      <td>AA</td>\n",
              "      <td>non_switch</td>\n",
              "      <td>none</td>\n",
              "      <td>absent</td>\n",
              "      <td>0.0</td>\n",
              "      <td>absent</td>\n",
              "      <td>frequent</td>\n",
              "    </tr>\n",
              "  </tbody>\n",
              "</table>\n",
              "</div>"
            ],
            "text/plain": [
              "   Unnamed: 0  tar_pos  dist_pos  block  correct        rt  sub volatility  \\\n",
              "0           0      2.0       0.0    1.0      1.0  1.501370    1       high   \n",
              "1           1      2.0       1.0    1.0      1.0  1.000736    1       high   \n",
              "2           2      2.0       1.0    1.0      1.0  1.368081    1       high   \n",
              "3           3      2.0       0.0    1.0      1.0  0.684040    1       high   \n",
              "4           4      2.0       0.0    1.0      1.0  0.565839    1       high   \n",
              "\n",
              "   dist_repe  dist_repe_absent dist_attendance dist_switch      coincident  \\\n",
              "0          0                 1             NaN         NaN            none   \n",
              "1          1                 0              AP      switch            none   \n",
              "2          2                 0              PP  non_switch            none   \n",
              "3          0                 1              PA      switch  non-coincident   \n",
              "4          0                 2              AA  non_switch            none   \n",
              "\n",
              "   Abe_Pre  dist_pos_preced dist_bias  tar_bias  \n",
              "0   absent              0.0    absent  frequent  \n",
              "1  present              1.0      rare      none  \n",
              "2  present              1.0      rare      none  \n",
              "3   absent              0.0    absent  frequent  \n",
              "4   absent              0.0    absent  frequent  "
            ]
          },
          "execution_count": 4,
          "metadata": {},
          "output_type": "execute_result"
        }
      ],
      "source": [
        "dat = (pd.read_csv('./csv/raw_data_all2.csv')\n",
        "       .assign(sub=lambda df: df['sub'].str.replace('s', '').astype(int),\n",
        "               dist_pos_preced=lambda df: df[\"dist_pos\"],\n",
        "               dist_bias=lambda df: func_biasloc(df[\"dist_pos\"], df['sub']),\n",
        "               tar_bias=lambda df: func_biasloc_tar(df[\"tar_pos\"], df['sub'], df[\"dist_pos\"])))\n",
        "# show dat dimension\n",
        "print(dat.shape)\n",
        "dat.head()"
      ]
    },
    {
      "cell_type": "markdown",
      "metadata": {},
      "source": [
        "### 1.1 Set outliers for individual data\n",
        "\n",
        "We set the outliers for the individual data. The outliers were defined as the data points that were outside the [.25, .75] + 2 x IQR range, plus the reaction time (RT) that was less than 0.150 s or greater than 4 s."
      ]
    },
    {
      "cell_type": "code",
      "execution_count": 5,
      "metadata": {},
      "outputs": [
        {
          "data": {
            "text/html": [
              "<div>\n",
              "<style scoped>\n",
              "    .dataframe tbody tr th:only-of-type {\n",
              "        vertical-align: middle;\n",
              "    }\n",
              "\n",
              "    .dataframe tbody tr th {\n",
              "        vertical-align: top;\n",
              "    }\n",
              "\n",
              "    .dataframe thead th {\n",
              "        text-align: right;\n",
              "    }\n",
              "</style>\n",
              "<table border=\"1\" class=\"dataframe\">\n",
              "  <thead>\n",
              "    <tr style=\"text-align: right;\">\n",
              "      <th></th>\n",
              "      <th>sub</th>\n",
              "      <th>median_RT</th>\n",
              "      <th>Q1_RT</th>\n",
              "      <th>Q3_RT</th>\n",
              "      <th>IQR_RT</th>\n",
              "      <th>lower_RT</th>\n",
              "      <th>upper_RT</th>\n",
              "    </tr>\n",
              "  </thead>\n",
              "  <tbody>\n",
              "    <tr>\n",
              "      <th>0</th>\n",
              "      <td>1</td>\n",
              "      <td>0.934903</td>\n",
              "      <td>0.768110</td>\n",
              "      <td>1.201833</td>\n",
              "      <td>0.433722</td>\n",
              "      <td>0.150000</td>\n",
              "      <td>2.069278</td>\n",
              "    </tr>\n",
              "    <tr>\n",
              "      <th>1</th>\n",
              "      <td>2</td>\n",
              "      <td>0.617840</td>\n",
              "      <td>0.551178</td>\n",
              "      <td>0.701380</td>\n",
              "      <td>0.150202</td>\n",
              "      <td>0.250774</td>\n",
              "      <td>1.001783</td>\n",
              "    </tr>\n",
              "    <tr>\n",
              "      <th>2</th>\n",
              "      <td>3</td>\n",
              "      <td>0.634462</td>\n",
              "      <td>0.534604</td>\n",
              "      <td>0.751424</td>\n",
              "      <td>0.216820</td>\n",
              "      <td>0.150000</td>\n",
              "      <td>1.185065</td>\n",
              "    </tr>\n",
              "    <tr>\n",
              "      <th>3</th>\n",
              "      <td>4</td>\n",
              "      <td>1.001492</td>\n",
              "      <td>0.801390</td>\n",
              "      <td>1.268435</td>\n",
              "      <td>0.467045</td>\n",
              "      <td>0.150000</td>\n",
              "      <td>2.202526</td>\n",
              "    </tr>\n",
              "    <tr>\n",
              "      <th>4</th>\n",
              "      <td>5</td>\n",
              "      <td>1.001569</td>\n",
              "      <td>0.818152</td>\n",
              "      <td>1.285121</td>\n",
              "      <td>0.466969</td>\n",
              "      <td>0.150000</td>\n",
              "      <td>2.219060</td>\n",
              "    </tr>\n",
              "  </tbody>\n",
              "</table>\n",
              "</div>"
            ],
            "text/plain": [
              "   sub  median_RT     Q1_RT     Q3_RT    IQR_RT  lower_RT  upper_RT\n",
              "0    1   0.934903  0.768110  1.201833  0.433722  0.150000  2.069278\n",
              "1    2   0.617840  0.551178  0.701380  0.150202  0.250774  1.001783\n",
              "2    3   0.634462  0.534604  0.751424  0.216820  0.150000  1.185065\n",
              "3    4   1.001492  0.801390  1.268435  0.467045  0.150000  2.202526\n",
              "4    5   1.001569  0.818152  1.285121  0.466969  0.150000  2.219060"
            ]
          },
          "execution_count": 5,
          "metadata": {},
          "output_type": "execute_result"
        }
      ],
      "source": [
        "# scale factor\n",
        "sf = 2 # sf * IQR \n",
        "\n",
        "# First step: Calculate median, Q1, Q3, and IQR\n",
        "sub_summary = (dat\n",
        "               .groupby(['sub'])\n",
        "               .agg(median_RT=('rt', 'median'),\n",
        "                    Q1_RT=('rt', lambda x: x.quantile(0.25)),\n",
        "                    Q3_RT=('rt', lambda x: x.quantile(0.75)))\n",
        "               .reset_index())\n",
        "\n",
        "# Calculate IQR\n",
        "sub_summary['IQR_RT'] = sub_summary['Q3_RT'] - sub_summary['Q1_RT']\n",
        "\n",
        "# Second step: Calculate lower and upper bounds using the calculated Q1, Q3, and IQR\n",
        "sub_summary['lower_RT'] = sub_summary['Q1_RT'] - sf * sub_summary['IQR_RT']\n",
        "sub_summary['upper_RT'] = sub_summary['Q3_RT'] + sf * sub_summary['IQR_RT']\n",
        "# lower_RT minimum value is 0.15\n",
        "sub_summary['lower_RT'] = sub_summary['lower_RT'].apply(lambda x: 0.15 if x < 0.15 else x)  \n",
        "# upper_RT maximum value is 4\n",
        "sub_summary['upper_RT'] = sub_summary['upper_RT'].apply(lambda x: 4 if x > 4 else x)\n",
        "\n",
        "# Display the first few rows to verify the results\n",
        "sub_summary.head()"
      ]
    },
    {
      "cell_type": "markdown",
      "metadata": {},
      "source": [
        "merge the individual criteria with the raw dat, as `data`, marked those outliers ourside the defined range. "
      ]
    },
    {
      "cell_type": "code",
      "execution_count": 6,
      "metadata": {},
      "outputs": [
        {
          "name": "stdout",
          "output_type": "stream",
          "text": [
            "The outlier rate is 2.82%\n"
          ]
        }
      ],
      "source": [
        "# use sub_summary lower_RT and upper_RT of each subject to mark the outlier in dat\n",
        "\n",
        "data = dat.merge(sub_summary[['sub', 'lower_RT', 'upper_RT']], on='sub')\n",
        "data['outlier'] = (data['rt'] < data['lower_RT']) | (data['rt'] > data['upper_RT']) \n",
        "\n",
        "# calculate the percentage of outliers\n",
        "outlier_percentage = (data\n",
        "                      .groupby(['sub'])\n",
        "                      .agg(outlier_percentage=('outlier', lambda x: x.mean() * 100))\n",
        "                      .reset_index())\n",
        "print(f\"The outlier rate is {outlier_percentage.outlier_percentage.mean():.2f}%\")"
      ]
    },
    {
      "cell_type": "code",
      "execution_count": 35,
      "metadata": {},
      "outputs": [
        {
          "name": "stdout",
          "output_type": "stream",
          "text": [
            "error rate is 1.61%\n"
          ]
        }
      ],
      "source": [
        "print(f\"error rate is {(1- data.correct.mean())*100:.2f}%\")"
      ]
    },
    {
      "cell_type": "code",
      "execution_count": 7,
      "metadata": {},
      "outputs": [
        {
          "name": "stdout",
          "output_type": "stream",
          "text": [
            "exclude rate is 4.13%\n"
          ]
        }
      ],
      "source": [
        "# calculate total error and outlier rate (correct == 0 or outlier is True)\n",
        "data['exclude'] = (data['correct'] < 1) | (data['outlier'] == True)\n",
        "print(f\"exclude rate is {data['exclude'].mean()*100:.2f}%\")"
      ]
    },
    {
      "attachments": {},
      "cell_type": "markdown",
      "metadata": {},
      "source": [
        "## 2 Distractor interference effect\n",
        "\n",
        "We first check the distractor interference effect, defined as the distractor presence vs. absence. For the distractor presence trials, we have two distractor locations: high vs. low probability distractor locations. This distractor conditions are defined in the column `dist_bias` (frequent, rare, absent).\n",
        "In addition, we have two distractor volatility conditions: high vs. low volatility from the column `volatility` (high, low)."
      ]
    },
    {
      "cell_type": "code",
      "execution_count": 38,
      "metadata": {},
      "outputs": [
        {
          "data": {
            "text/html": [
              "<div>\n",
              "<style scoped>\n",
              "    .dataframe tbody tr th:only-of-type {\n",
              "        vertical-align: middle;\n",
              "    }\n",
              "\n",
              "    .dataframe tbody tr th {\n",
              "        vertical-align: top;\n",
              "    }\n",
              "\n",
              "    .dataframe thead th {\n",
              "        text-align: right;\n",
              "    }\n",
              "</style>\n",
              "<table border=\"1\" class=\"dataframe\">\n",
              "  <thead>\n",
              "    <tr style=\"text-align: right;\">\n",
              "      <th></th>\n",
              "      <th>sub</th>\n",
              "      <th>volatility</th>\n",
              "      <th>dist_bias</th>\n",
              "      <th>mean_rt</th>\n",
              "      <th>error_rate</th>\n",
              "    </tr>\n",
              "  </thead>\n",
              "  <tbody>\n",
              "    <tr>\n",
              "      <th>0</th>\n",
              "      <td>1</td>\n",
              "      <td>high</td>\n",
              "      <td>absent</td>\n",
              "      <td>0.985284</td>\n",
              "      <td>1.381215</td>\n",
              "    </tr>\n",
              "    <tr>\n",
              "      <th>1</th>\n",
              "      <td>1</td>\n",
              "      <td>high</td>\n",
              "      <td>frequent</td>\n",
              "      <td>1.186675</td>\n",
              "      <td>2.164502</td>\n",
              "    </tr>\n",
              "    <tr>\n",
              "      <th>2</th>\n",
              "      <td>1</td>\n",
              "      <td>high</td>\n",
              "      <td>rare</td>\n",
              "      <td>1.200110</td>\n",
              "      <td>1.181102</td>\n",
              "    </tr>\n",
              "    <tr>\n",
              "      <th>3</th>\n",
              "      <td>1</td>\n",
              "      <td>low</td>\n",
              "      <td>absent</td>\n",
              "      <td>0.847312</td>\n",
              "      <td>0.692521</td>\n",
              "    </tr>\n",
              "    <tr>\n",
              "      <th>4</th>\n",
              "      <td>1</td>\n",
              "      <td>low</td>\n",
              "      <td>frequent</td>\n",
              "      <td>0.968744</td>\n",
              "      <td>0.665188</td>\n",
              "    </tr>\n",
              "  </tbody>\n",
              "</table>\n",
              "</div>"
            ],
            "text/plain": [
              "   sub volatility dist_bias   mean_rt  error_rate\n",
              "0    1       high    absent  0.985284    1.381215\n",
              "1    1       high  frequent  1.186675    2.164502\n",
              "2    1       high      rare  1.200110    1.181102\n",
              "3    1        low    absent  0.847312    0.692521\n",
              "4    1        low  frequent  0.968744    0.665188"
            ]
          },
          "execution_count": 38,
          "metadata": {},
          "output_type": "execute_result"
        }
      ],
      "source": [
        "# replace rt with NA if it is exclude, it will not be included in the analysis of averaging    \n",
        "data['rt'] = data['rt'].where(~data['exclude'])\n",
        "\n",
        "# Calculate mean rt and error rate for each sub within each condition\n",
        "grouped_data = (data\n",
        "                .groupby(['sub', 'volatility','dist_bias'])\n",
        "                .agg(mean_rt=('rt', 'mean'),\n",
        "                     error_rate=('correct', lambda x: (1 - x.mean()) * 100))\n",
        "                .reset_index())\n",
        "# spread the grouped_data to wide format for JASP Bayesian ANOVA\n",
        "mean_data = grouped_data.pivot_table(index=['sub'], columns=['volatility', 'dist_bias'], \n",
        "                         values=['mean_rt', 'error_rate'])\n",
        "mean_data.columns = ['_'.join(col).strip() for col in mean_data.columns.values]\n",
        "mean_data.reset_index().to_csv('./csv/mean_data.csv', index=False)\n",
        "\n",
        "grouped_data.head()"
      ]
    },
    {
      "cell_type": "code",
      "execution_count": 41,
      "metadata": {},
      "outputs": [
        {
          "name": "stdout",
          "output_type": "stream",
          "text": [
            "Mean RT for high vs. low volatility:\n"
          ]
        },
        {
          "data": {
            "text/plain": [
              "volatility\n",
              "high    1.126699\n",
              "low     1.002373\n",
              "Name: mean_rt, dtype: float64"
            ]
          },
          "execution_count": 41,
          "metadata": {},
          "output_type": "execute_result"
        }
      ],
      "source": [
        "print(\"Mean RT for high vs. low volatility:\")\n",
        "grouped_data.groupby('volatility').mean_rt.mean()"
      ]
    },
    {
      "cell_type": "code",
      "execution_count": 67,
      "metadata": {},
      "outputs": [
        {
          "data": {
            "text/html": [
              "<div>\n",
              "<style scoped>\n",
              "    .dataframe tbody tr th:only-of-type {\n",
              "        vertical-align: middle;\n",
              "    }\n",
              "\n",
              "    .dataframe tbody tr th {\n",
              "        vertical-align: top;\n",
              "    }\n",
              "\n",
              "    .dataframe thead th {\n",
              "        text-align: right;\n",
              "    }\n",
              "</style>\n",
              "<table border=\"1\" class=\"dataframe\">\n",
              "  <thead>\n",
              "    <tr style=\"text-align: right;\">\n",
              "      <th></th>\n",
              "      <th>volatility</th>\n",
              "      <th>region</th>\n",
              "      <th>interference</th>\n",
              "    </tr>\n",
              "  </thead>\n",
              "  <tbody>\n",
              "    <tr>\n",
              "      <th>0</th>\n",
              "      <td>high</td>\n",
              "      <td>frequent</td>\n",
              "      <td>85.77</td>\n",
              "    </tr>\n",
              "    <tr>\n",
              "      <th>1</th>\n",
              "      <td>high</td>\n",
              "      <td>rare</td>\n",
              "      <td>191.79</td>\n",
              "    </tr>\n",
              "    <tr>\n",
              "      <th>2</th>\n",
              "      <td>low</td>\n",
              "      <td>frequent</td>\n",
              "      <td>63.68</td>\n",
              "    </tr>\n",
              "    <tr>\n",
              "      <th>3</th>\n",
              "      <td>low</td>\n",
              "      <td>rare</td>\n",
              "      <td>137.77</td>\n",
              "    </tr>\n",
              "  </tbody>\n",
              "</table>\n",
              "</div>"
            ],
            "text/plain": [
              "  volatility    region  interference\n",
              "0       high  frequent         85.77\n",
              "1       high      rare        191.79\n",
              "2        low  frequent         63.68\n",
              "3        low      rare        137.77"
            ]
          },
          "execution_count": 67,
          "metadata": {},
          "output_type": "execute_result"
        }
      ],
      "source": [
        "# calculate the interference effect: dist_bias as the baseline, and calculate the difference between rare and baseline, frequent and baseline, for each subj, volatility\n",
        "dis_interference = (grouped_data\n",
        "                .pivot_table(index=['sub', 'volatility'], columns='dist_bias', values='mean_rt')\n",
        "                .reset_index()\n",
        "                .assign(frequent=lambda df: (df['frequent'] - df['absent'])*1000,\n",
        "                        rare=lambda df: (df['rare'] - df['absent'])*1000)\n",
        "                .melt(id_vars=['sub', 'volatility'], value_vars=['frequent', 'rare'],\n",
        "                      var_name='region', value_name='interference'))\n",
        "\n",
        "dis_interference.groupby(['volatility', 'region']).interference.mean().reset_index().round(2)"
      ]
    },
    {
      "cell_type": "code",
      "execution_count": 84,
      "metadata": {},
      "outputs": [
        {
          "name": "stdout",
          "output_type": "stream",
          "text": [
            "p-values:\n",
            "(array([ True,  True,  True,  True]), array([9.15947129e-13, 6.72492318e-08, 6.11199181e-07, 7.72767206e-05]))\n",
            "cohen-d:\n",
            "[3.0617267293810535, 1.723380462515543, 1.514222149116487, 1.0935187856785316]\n"
          ]
        }
      ],
      "source": [
        "# t-test for interference effect, separate for high and low volatility\n",
        "tt1 = pg.ttest(dis_interference.query('volatility==\"low\" and region == \"rare\"').interference, 0)\n",
        "tt2 = pg.ttest(dis_interference.query('volatility==\"high\" and region == \"rare\"').interference, 0)\n",
        "tt3 = pg.ttest(dis_interference.query('volatility==\"low\" and region == \"frequent\"').interference, 0)\n",
        "tt4 = pg.ttest(dis_interference.query('volatility==\"high\" and region == \"frequent\"').interference, 0)\n",
        "## add all p-val to a list\n",
        "p_val = [tt1['p-val'][0], tt2['p-val'][0], tt3['p-val'][0], tt4['p-val'][0]]\n",
        "## add all cohen-d to a list\n",
        "cohen_d = [tt1['cohen-d'][0], tt2['cohen-d'][0], tt3['cohen-d'][0], tt4['cohen-d'][0]]\n",
        "# print the list bonferroni correction\n",
        "print('p-values:')\n",
        "print(pg.multicomp(p_val, method='bonf'))\n",
        "print('cohen-d:')\n",
        "print(cohen_d)\n"
      ]
    },
    {
      "cell_type": "code",
      "execution_count": 88,
      "metadata": {},
      "outputs": [
        {
          "data": {
            "text/html": [
              "<div>\n",
              "<style scoped>\n",
              "    .dataframe tbody tr th:only-of-type {\n",
              "        vertical-align: middle;\n",
              "    }\n",
              "\n",
              "    .dataframe tbody tr th {\n",
              "        vertical-align: top;\n",
              "    }\n",
              "\n",
              "    .dataframe thead th {\n",
              "        text-align: right;\n",
              "    }\n",
              "</style>\n",
              "<table border=\"1\" class=\"dataframe\">\n",
              "  <thead>\n",
              "    <tr style=\"text-align: right;\">\n",
              "      <th></th>\n",
              "      <th>T</th>\n",
              "      <th>dof</th>\n",
              "      <th>alternative</th>\n",
              "      <th>p-val</th>\n",
              "      <th>CI95%</th>\n",
              "      <th>cohen-d</th>\n",
              "      <th>BF10</th>\n",
              "      <th>power</th>\n",
              "    </tr>\n",
              "  </thead>\n",
              "  <tbody>\n",
              "    <tr>\n",
              "      <th>T-test</th>\n",
              "      <td>8.044032</td>\n",
              "      <td>23</td>\n",
              "      <td>two-sided</td>\n",
              "      <td>3.903199e-08</td>\n",
              "      <td>[55.04, 93.14]</td>\n",
              "      <td>1.701189</td>\n",
              "      <td>3.607e+05</td>\n",
              "      <td>1.0</td>\n",
              "    </tr>\n",
              "  </tbody>\n",
              "</table>\n",
              "</div>"
            ],
            "text/plain": [
              "               T  dof alternative         p-val           CI95%   cohen-d  \\\n",
              "T-test  8.044032   23   two-sided  3.903199e-08  [55.04, 93.14]  1.701189   \n",
              "\n",
              "             BF10  power  \n",
              "T-test  3.607e+05    1.0  "
            ]
          },
          "execution_count": 88,
          "metadata": {},
          "output_type": "execute_result"
        }
      ],
      "source": [
        "# paired t-test for interference effect, separate for high and low volatility\n",
        "pg.ttest(dis_interference.query('volatility==\"low\" and region == \"rare\"').interference,\n",
        "               dis_interference.query('volatility==\"low\" and region == \"frequent\"').interference, paired=True)"
      ]
    },
    {
      "cell_type": "code",
      "execution_count": 87,
      "metadata": {},
      "outputs": [
        {
          "data": {
            "text/html": [
              "<div>\n",
              "<style scoped>\n",
              "    .dataframe tbody tr th:only-of-type {\n",
              "        vertical-align: middle;\n",
              "    }\n",
              "\n",
              "    .dataframe tbody tr th {\n",
              "        vertical-align: top;\n",
              "    }\n",
              "\n",
              "    .dataframe thead th {\n",
              "        text-align: right;\n",
              "    }\n",
              "</style>\n",
              "<table border=\"1\" class=\"dataframe\">\n",
              "  <thead>\n",
              "    <tr style=\"text-align: right;\">\n",
              "      <th></th>\n",
              "      <th>T</th>\n",
              "      <th>dof</th>\n",
              "      <th>alternative</th>\n",
              "      <th>p-val</th>\n",
              "      <th>CI95%</th>\n",
              "      <th>cohen-d</th>\n",
              "      <th>BF10</th>\n",
              "      <th>power</th>\n",
              "    </tr>\n",
              "  </thead>\n",
              "  <tbody>\n",
              "    <tr>\n",
              "      <th>T-test</th>\n",
              "      <td>7.100411</td>\n",
              "      <td>23</td>\n",
              "      <td>two-sided</td>\n",
              "      <td>3.116291e-07</td>\n",
              "      <td>[75.13, 136.91]</td>\n",
              "      <td>1.101315</td>\n",
              "      <td>5.249e+04</td>\n",
              "      <td>0.999311</td>\n",
              "    </tr>\n",
              "  </tbody>\n",
              "</table>\n",
              "</div>"
            ],
            "text/plain": [
              "               T  dof alternative         p-val            CI95%   cohen-d  \\\n",
              "T-test  7.100411   23   two-sided  3.116291e-07  [75.13, 136.91]  1.101315   \n",
              "\n",
              "             BF10     power  \n",
              "T-test  5.249e+04  0.999311  "
            ]
          },
          "execution_count": 87,
          "metadata": {},
          "output_type": "execute_result"
        }
      ],
      "source": [
        "pg.ttest(dis_interference.query('volatility==\"high\" and region == \"rare\"').interference,\n",
        "               dis_interference.query('volatility==\"high\" and region == \"frequent\"').interference, paired=True)"
      ]
    },
    {
      "cell_type": "markdown",
      "metadata": {},
      "source": [
        "Let's visualize the distractor interference effect in the RT."
      ]
    },
    {
      "cell_type": "code",
      "execution_count": 9,
      "metadata": {},
      "outputs": [
        {
          "data": {
            "image/png": "[encoded data removed]",
            "text/plain": [
              "<Figure size 640x480 with 2 Axes>"
            ]
          },
          "metadata": {},
          "output_type": "display_data"
        }
      ],
      "source": [
        "def plot_rt(ax):\n",
        "    # initialize the plot size\n",
        "    #ax.figure.set_size_inches(3.5, 3.5)\n",
        "    # visualize the mean rt and error rate within one graph as scatter plot and bar plot\n",
        "    sns.barplot(data=grouped_data, x='dist_bias', y='mean_rt', hue='volatility', \n",
        "                width=0.7, gap = 0.2, ax = ax)\n",
        "    # add stripplot on top of the bar plot\n",
        "    sns.stripplot(data=grouped_data, x='dist_bias', y='mean_rt', hue='volatility', \n",
        "                  dodge=True, alpha = .25, zorder =1, legend = False, ax = ax)\n",
        "    # y-axis label: Response Time (s)\n",
        "    ax.set_ylabel('Response Time (s)')\n",
        "    ax.set_xlabel('Distractor Condition')    \n",
        "    # add right y-axis label: Error Rate (%), without confidence interval\n",
        "    ax2 = ax.twinx()\n",
        "    sns.pointplot(data=grouped_data, x='dist_bias', y='error_rate', hue='volatility', markers = ['o', 's'], \n",
        "                  linestyles = ['-', '--'],  join = False, scale = 0.7, alpha = 0.5, ci = None, legend = False, ax = ax2)\n",
        "\n",
        "    ax2.set_ylim(0, 10)\n",
        "    ax2.set_ylabel('Error Rate (%)')\n",
        "\n",
        "plot_rt(plt.gca())\n"
      ]
    },
    {
      "cell_type": "code",
      "execution_count": 10,
      "metadata": {},
      "outputs": [
        {
          "data": {
            "text/html": [
              "<div>\n",
              "<style scoped>\n",
              "    .dataframe tbody tr th:only-of-type {\n",
              "        vertical-align: middle;\n",
              "    }\n",
              "\n",
              "    .dataframe tbody tr th {\n",
              "        vertical-align: top;\n",
              "    }\n",
              "\n",
              "    .dataframe thead th {\n",
              "        text-align: right;\n",
              "    }\n",
              "</style>\n",
              "<table border=\"1\" class=\"dataframe\">\n",
              "  <thead>\n",
              "    <tr style=\"text-align: right;\">\n",
              "      <th></th>\n",
              "      <th>Source</th>\n",
              "      <th>SS</th>\n",
              "      <th>ddof1</th>\n",
              "      <th>ddof2</th>\n",
              "      <th>MS</th>\n",
              "      <th>F</th>\n",
              "      <th>p-unc</th>\n",
              "      <th>p-GG-corr</th>\n",
              "      <th>ng2</th>\n",
              "      <th>eps</th>\n",
              "    </tr>\n",
              "  </thead>\n",
              "  <tbody>\n",
              "    <tr>\n",
              "      <th>0</th>\n",
              "      <td>volatility</td>\n",
              "      <td>1.382</td>\n",
              "      <td>1</td>\n",
              "      <td>23</td>\n",
              "      <td>1.382</td>\n",
              "      <td>0.301</td>\n",
              "      <td>0.588</td>\n",
              "      <td>0.588</td>\n",
              "      <td>0.003</td>\n",
              "      <td>1.000</td>\n",
              "    </tr>\n",
              "    <tr>\n",
              "      <th>1</th>\n",
              "      <td>dist_bias</td>\n",
              "      <td>0.401</td>\n",
              "      <td>2</td>\n",
              "      <td>46</td>\n",
              "      <td>0.201</td>\n",
              "      <td>0.338</td>\n",
              "      <td>0.715</td>\n",
              "      <td>0.705</td>\n",
              "      <td>0.001</td>\n",
              "      <td>0.954</td>\n",
              "    </tr>\n",
              "    <tr>\n",
              "      <th>2</th>\n",
              "      <td>volatility * dist_bias</td>\n",
              "      <td>1.747</td>\n",
              "      <td>2</td>\n",
              "      <td>46</td>\n",
              "      <td>0.874</td>\n",
              "      <td>2.447</td>\n",
              "      <td>0.098</td>\n",
              "      <td>0.104</td>\n",
              "      <td>0.004</td>\n",
              "      <td>0.894</td>\n",
              "    </tr>\n",
              "  </tbody>\n",
              "</table>\n",
              "</div>"
            ],
            "text/plain": [
              "                   Source     SS  ddof1  ddof2     MS      F  p-unc  \\\n",
              "0              volatility  1.382      1     23  1.382  0.301  0.588   \n",
              "1               dist_bias  0.401      2     46  0.201  0.338  0.715   \n",
              "2  volatility * dist_bias  1.747      2     46  0.874  2.447  0.098   \n",
              "\n",
              "   p-GG-corr    ng2    eps  \n",
              "0      0.588  0.003  1.000  \n",
              "1      0.705  0.001  0.954  \n",
              "2      0.104  0.004  0.894  "
            ]
          },
          "execution_count": 10,
          "metadata": {},
          "output_type": "execute_result"
        }
      ],
      "source": [
        "##Statistics: global inhibition_rt\n",
        "pg.rm_anova(dv='error_rate', within=['volatility','dist_bias'], subject='sub', data=grouped_data, detailed=True).round(3)\n"
      ]
    },
    {
      "cell_type": "code",
      "execution_count": 11,
      "metadata": {},
      "outputs": [
        {
          "data": {
            "text/html": [
              "<div>\n",
              "<style scoped>\n",
              "    .dataframe tbody tr th:only-of-type {\n",
              "        vertical-align: middle;\n",
              "    }\n",
              "\n",
              "    .dataframe tbody tr th {\n",
              "        vertical-align: top;\n",
              "    }\n",
              "\n",
              "    .dataframe thead th {\n",
              "        text-align: right;\n",
              "    }\n",
              "</style>\n",
              "<table border=\"1\" class=\"dataframe\">\n",
              "  <thead>\n",
              "    <tr style=\"text-align: right;\">\n",
              "      <th></th>\n",
              "      <th>Source</th>\n",
              "      <th>SS</th>\n",
              "      <th>ddof1</th>\n",
              "      <th>ddof2</th>\n",
              "      <th>MS</th>\n",
              "      <th>F</th>\n",
              "      <th>p-unc</th>\n",
              "      <th>p-GG-corr</th>\n",
              "      <th>np2</th>\n",
              "      <th>eps</th>\n",
              "    </tr>\n",
              "  </thead>\n",
              "  <tbody>\n",
              "    <tr>\n",
              "      <th>0</th>\n",
              "      <td>volatility</td>\n",
              "      <td>0.556</td>\n",
              "      <td>1</td>\n",
              "      <td>23</td>\n",
              "      <td>0.556</td>\n",
              "      <td>12.655</td>\n",
              "      <td>0.002</td>\n",
              "      <td>0.002</td>\n",
              "      <td>0.355</td>\n",
              "      <td>1.000</td>\n",
              "    </tr>\n",
              "    <tr>\n",
              "      <th>1</th>\n",
              "      <td>dist_bias</td>\n",
              "      <td>0.654</td>\n",
              "      <td>2</td>\n",
              "      <td>46</td>\n",
              "      <td>0.327</td>\n",
              "      <td>92.987</td>\n",
              "      <td>0.000</td>\n",
              "      <td>0.000</td>\n",
              "      <td>0.802</td>\n",
              "      <td>0.856</td>\n",
              "    </tr>\n",
              "    <tr>\n",
              "      <th>2</th>\n",
              "      <td>volatility * dist_bias</td>\n",
              "      <td>0.018</td>\n",
              "      <td>2</td>\n",
              "      <td>46</td>\n",
              "      <td>0.009</td>\n",
              "      <td>6.152</td>\n",
              "      <td>0.004</td>\n",
              "      <td>0.010</td>\n",
              "      <td>0.211</td>\n",
              "      <td>0.746</td>\n",
              "    </tr>\n",
              "  </tbody>\n",
              "</table>\n",
              "</div>"
            ],
            "text/plain": [
              "                   Source     SS  ddof1  ddof2     MS       F  p-unc  \\\n",
              "0              volatility  0.556      1     23  0.556  12.655  0.002   \n",
              "1               dist_bias  0.654      2     46  0.327  92.987  0.000   \n",
              "2  volatility * dist_bias  0.018      2     46  0.009   6.152  0.004   \n",
              "\n",
              "   p-GG-corr    np2    eps  \n",
              "0      0.002  0.355  1.000  \n",
              "1      0.000  0.802  0.856  \n",
              "2      0.010  0.211  0.746  "
            ]
          },
          "execution_count": 11,
          "metadata": {},
          "output_type": "execute_result"
        }
      ],
      "source": [
        "pg.rm_anova(dv='mean_rt', within=['volatility','dist_bias'], subject='sub', data=grouped_data, detailed=True, effsize='np2', correction=True).round(3)\n"
      ]
    },
    {
      "cell_type": "markdown",
      "metadata": {},
      "source": [
        "Note for the statistics: There was no significant differences for the error rates. However, Both volatlity and distractor types and their interaction were significant for the RTs. This is likely due to the different distractor interference (high vs. low) in the high vs. low volatility conditions. \n",
        "\n",
        "To better understand the interaction, we use the `distractor absent` condition as the baseline, and compare the distractor interference effect defined by the difference between rare and frequent locations, in the high vs. low volatility conditions."
      ]
    },
    {
      "cell_type": "code",
      "execution_count": 12,
      "metadata": {},
      "outputs": [
        {
          "name": "stdout",
          "output_type": "stream",
          "text": [
            "volatility\n",
            "high    106.024223\n",
            "low      74.089361\n",
            "Name: pcue, dtype: float64\n"
          ]
        },
        {
          "data": {
            "text/html": [
              "<div>\n",
              "<style scoped>\n",
              "    .dataframe tbody tr th:only-of-type {\n",
              "        vertical-align: middle;\n",
              "    }\n",
              "\n",
              "    .dataframe tbody tr th {\n",
              "        vertical-align: top;\n",
              "    }\n",
              "\n",
              "    .dataframe thead th {\n",
              "        text-align: right;\n",
              "    }\n",
              "</style>\n",
              "<table border=\"1\" class=\"dataframe\">\n",
              "  <thead>\n",
              "    <tr style=\"text-align: right;\">\n",
              "      <th>dist_bias</th>\n",
              "      <th>sub</th>\n",
              "      <th>volatility</th>\n",
              "      <th>absent</th>\n",
              "      <th>frequent</th>\n",
              "      <th>rare</th>\n",
              "      <th>pcue</th>\n",
              "    </tr>\n",
              "  </thead>\n",
              "  <tbody>\n",
              "    <tr>\n",
              "      <th>0</th>\n",
              "      <td>1</td>\n",
              "      <td>high</td>\n",
              "      <td>0.985284</td>\n",
              "      <td>1.186675</td>\n",
              "      <td>1.200110</td>\n",
              "      <td>13.434457</td>\n",
              "    </tr>\n",
              "    <tr>\n",
              "      <th>1</th>\n",
              "      <td>1</td>\n",
              "      <td>low</td>\n",
              "      <td>0.847312</td>\n",
              "      <td>0.968744</td>\n",
              "      <td>1.013545</td>\n",
              "      <td>44.800903</td>\n",
              "    </tr>\n",
              "    <tr>\n",
              "      <th>2</th>\n",
              "      <td>2</td>\n",
              "      <td>high</td>\n",
              "      <td>0.602627</td>\n",
              "      <td>0.627809</td>\n",
              "      <td>0.672436</td>\n",
              "      <td>44.626362</td>\n",
              "    </tr>\n",
              "    <tr>\n",
              "      <th>3</th>\n",
              "      <td>2</td>\n",
              "      <td>low</td>\n",
              "      <td>0.620850</td>\n",
              "      <td>0.642824</td>\n",
              "      <td>0.692460</td>\n",
              "      <td>49.635818</td>\n",
              "    </tr>\n",
              "    <tr>\n",
              "      <th>4</th>\n",
              "      <td>3</td>\n",
              "      <td>high</td>\n",
              "      <td>0.685704</td>\n",
              "      <td>0.693080</td>\n",
              "      <td>0.806546</td>\n",
              "      <td>113.465990</td>\n",
              "    </tr>\n",
              "  </tbody>\n",
              "</table>\n",
              "</div>"
            ],
            "text/plain": [
              "dist_bias  sub volatility    absent  frequent      rare        pcue\n",
              "0            1       high  0.985284  1.186675  1.200110   13.434457\n",
              "1            1        low  0.847312  0.968744  1.013545   44.800903\n",
              "2            2       high  0.602627  0.627809  0.672436   44.626362\n",
              "3            2        low  0.620850  0.642824  0.692460   49.635818\n",
              "4            3       high  0.685704  0.693080  0.806546  113.465990"
            ]
          },
          "execution_count": 12,
          "metadata": {},
          "output_type": "execute_result"
        }
      ],
      "source": [
        "# now pivot dist_bias to columns, and calculate differences between rare and freq within each volatility and sub\n",
        "prob_cueing = (grouped_data\n",
        "        .pivot_table(index=['sub', 'volatility'], columns='dist_bias', values='mean_rt')\n",
        "        .assign(pcue = lambda df: (df['rare'] - df['frequent'])*1000) # probablistic cueing effect\n",
        "        .reset_index())\n",
        "print(prob_cueing.groupby('volatility')['pcue'].mean())\n",
        "prob_cueing.head()\n"
      ]
    },
    {
      "cell_type": "code",
      "execution_count": 97,
      "metadata": {},
      "outputs": [
        {
          "data": {
            "image/png": "[encoded data removed]",
            "text/plain": [
              "<Figure size 640x480 with 1 Axes>"
            ]
          },
          "metadata": {},
          "output_type": "display_data"
        }
      ],
      "source": [
        "def plot_dcue(ax):\n",
        "    # initialize the plot size\n",
        "    #ax.figure.set_size_inches(3.5, 3.5)\n",
        "    # visualize the mean probability cueing (`pcue`) for each volatility as bar plot\n",
        "    sns.barplot(data=prob_cueing, x='volatility', y='pcue', hue = 'volatility', width = 0.7, gap = 0.2, ax=ax)\n",
        "    ax.set_ylabel('Distractor Probability Cueing (ms)')\n",
        "    ax.set_xlabel('Volatility Type')\n",
        "    # add significance bar and annotation\n",
        "    y_max = 150\n",
        "    y, h, col = y_max + y_max/50, y_max/50, 'k'\n",
        "    ax.plot([0, 0, 1, 1], [y, y+h, y+h, y], lw=1.5, c=col)\n",
        "    ax.text((0+1)/2, y+h, \"*\", ha='center', va='bottom', color=col)\n",
        "    ax.set_ylim(0, 170)\n",
        "\n",
        "plot_dcue(plt.gca())\n"
      ]
    },
    {
      "cell_type": "code",
      "execution_count": 14,
      "metadata": {},
      "outputs": [
        {
          "data": {
            "text/html": [
              "<div>\n",
              "<style scoped>\n",
              "    .dataframe tbody tr th:only-of-type {\n",
              "        vertical-align: middle;\n",
              "    }\n",
              "\n",
              "    .dataframe tbody tr th {\n",
              "        vertical-align: top;\n",
              "    }\n",
              "\n",
              "    .dataframe thead th {\n",
              "        text-align: right;\n",
              "    }\n",
              "</style>\n",
              "<table border=\"1\" class=\"dataframe\">\n",
              "  <thead>\n",
              "    <tr style=\"text-align: right;\">\n",
              "      <th></th>\n",
              "      <th>Contrast</th>\n",
              "      <th>A</th>\n",
              "      <th>B</th>\n",
              "      <th>Paired</th>\n",
              "      <th>Parametric</th>\n",
              "      <th>T</th>\n",
              "      <th>dof</th>\n",
              "      <th>alternative</th>\n",
              "      <th>p-unc</th>\n",
              "      <th>BF10</th>\n",
              "      <th>cohen</th>\n",
              "    </tr>\n",
              "  </thead>\n",
              "  <tbody>\n",
              "    <tr>\n",
              "      <th>0</th>\n",
              "      <td>volatility</td>\n",
              "      <td>high</td>\n",
              "      <td>low</td>\n",
              "      <td>True</td>\n",
              "      <td>True</td>\n",
              "      <td>2.35</td>\n",
              "      <td>23.0</td>\n",
              "      <td>two-sided</td>\n",
              "      <td>0.028</td>\n",
              "      <td>2.087</td>\n",
              "      <td>0.525</td>\n",
              "    </tr>\n",
              "  </tbody>\n",
              "</table>\n",
              "</div>"
            ],
            "text/plain": [
              "     Contrast     A    B  Paired  Parametric     T   dof alternative  p-unc  \\\n",
              "0  volatility  high  low    True        True  2.35  23.0   two-sided  0.028   \n",
              "\n",
              "    BF10  cohen  \n",
              "0  2.087  0.525  "
            ]
          },
          "execution_count": 14,
          "metadata": {},
          "output_type": "execute_result"
        }
      ],
      "source": [
        "pg.pairwise_tests(dv ='pcue', within=['volatility'], subject='sub', \n",
        "                  data=prob_cueing, padjust='fdr_bh', effsize='cohen').round(3)"
      ]
    },
    {
      "cell_type": "markdown",
      "metadata": {},
      "source": [
        "statistical note: the probability cueing was higher in the high volatility condition than the low volatility condition.\n",
        "\n",
        "Next, we will examine the Target location effect, defined by the target appeared at the frequent vs. rare locations, separately for the high vs. low volatility conditions."
      ]
    },
    {
      "cell_type": "code",
      "execution_count": 99,
      "metadata": {},
      "outputs": [
        {
          "data": {
            "text/plain": [
              "volatility\n",
              "high    84.560175\n",
              "low     14.522700\n",
              "Name: ptar, dtype: float64"
            ]
          },
          "execution_count": 99,
          "metadata": {},
          "output_type": "execute_result"
        }
      ],
      "source": [
        "# target location was stored in the column `tar_bias`\n",
        "target_location = (data.query('tar_bias != \"none\"') #filter out distractor present trials\n",
        "                     .groupby(['sub', 'volatility', 'tar_bias'])\n",
        "                     .agg(mean_rt=('rt', 'mean'))\n",
        "                     .pivot_table(index=['sub', 'volatility'], columns='tar_bias', values='mean_rt')\n",
        "                     .assign(ptar=lambda x: (x['frequent'] - x['rare'])*1000) # target location effect\n",
        "                     .reset_index())\n",
        "target_location.groupby('volatility')['ptar'].mean()"
      ]
    },
    {
      "cell_type": "code",
      "execution_count": 16,
      "metadata": {},
      "outputs": [
        {
          "data": {
            "text/html": [
              "<div>\n",
              "<style scoped>\n",
              "    .dataframe tbody tr th:only-of-type {\n",
              "        vertical-align: middle;\n",
              "    }\n",
              "\n",
              "    .dataframe tbody tr th {\n",
              "        vertical-align: top;\n",
              "    }\n",
              "\n",
              "    .dataframe thead th {\n",
              "        text-align: right;\n",
              "    }\n",
              "</style>\n",
              "<table border=\"1\" class=\"dataframe\">\n",
              "  <thead>\n",
              "    <tr style=\"text-align: right;\">\n",
              "      <th></th>\n",
              "      <th>Contrast</th>\n",
              "      <th>A</th>\n",
              "      <th>B</th>\n",
              "      <th>Paired</th>\n",
              "      <th>Parametric</th>\n",
              "      <th>T</th>\n",
              "      <th>dof</th>\n",
              "      <th>alternative</th>\n",
              "      <th>p-unc</th>\n",
              "      <th>BF10</th>\n",
              "      <th>cohen</th>\n",
              "    </tr>\n",
              "  </thead>\n",
              "  <tbody>\n",
              "    <tr>\n",
              "      <th>0</th>\n",
              "      <td>volatility</td>\n",
              "      <td>high</td>\n",
              "      <td>low</td>\n",
              "      <td>True</td>\n",
              "      <td>True</td>\n",
              "      <td>3.539</td>\n",
              "      <td>23.0</td>\n",
              "      <td>two-sided</td>\n",
              "      <td>0.002</td>\n",
              "      <td>21.465</td>\n",
              "      <td>0.615</td>\n",
              "    </tr>\n",
              "  </tbody>\n",
              "</table>\n",
              "</div>"
            ],
            "text/plain": [
              "     Contrast     A    B  Paired  Parametric      T   dof alternative  p-unc  \\\n",
              "0  volatility  high  low    True        True  3.539  23.0   two-sided  0.002   \n",
              "\n",
              "     BF10  cohen  \n",
              "0  21.465  0.615  "
            ]
          },
          "execution_count": 16,
          "metadata": {},
          "output_type": "execute_result"
        }
      ],
      "source": [
        "# statistical test of target location effect `ptar` between volatilities\n",
        "pg.pairwise_ttests(dv='ptar', within='volatility', subject='sub', data=target_location, padjust='fdr_bh', effsize='cohen').round(3)"
      ]
    },
    {
      "cell_type": "code",
      "execution_count": 102,
      "metadata": {},
      "outputs": [
        {
          "data": {
            "text/html": [
              "<div>\n",
              "<style scoped>\n",
              "    .dataframe tbody tr th:only-of-type {\n",
              "        vertical-align: middle;\n",
              "    }\n",
              "\n",
              "    .dataframe tbody tr th {\n",
              "        vertical-align: top;\n",
              "    }\n",
              "\n",
              "    .dataframe thead th {\n",
              "        text-align: right;\n",
              "    }\n",
              "</style>\n",
              "<table border=\"1\" class=\"dataframe\">\n",
              "  <thead>\n",
              "    <tr style=\"text-align: right;\">\n",
              "      <th></th>\n",
              "      <th>T</th>\n",
              "      <th>dof</th>\n",
              "      <th>alternative</th>\n",
              "      <th>p-val</th>\n",
              "      <th>CI95%</th>\n",
              "      <th>cohen-d</th>\n",
              "      <th>BF10</th>\n",
              "      <th>power</th>\n",
              "    </tr>\n",
              "  </thead>\n",
              "  <tbody>\n",
              "    <tr>\n",
              "      <th>T-test</th>\n",
              "      <td>0.646604</td>\n",
              "      <td>23</td>\n",
              "      <td>two-sided</td>\n",
              "      <td>0.524289</td>\n",
              "      <td>[-31.94, 60.98]</td>\n",
              "      <td>0.131987</td>\n",
              "      <td>0.26</td>\n",
              "      <td>0.095067</td>\n",
              "    </tr>\n",
              "  </tbody>\n",
              "</table>\n",
              "</div>"
            ],
            "text/plain": [
              "               T  dof alternative     p-val            CI95%   cohen-d  BF10  \\\n",
              "T-test  0.646604   23   two-sided  0.524289  [-31.94, 60.98]  0.131987  0.26   \n",
              "\n",
              "           power  \n",
              "T-test  0.095067  "
            ]
          },
          "execution_count": 102,
          "metadata": {},
          "output_type": "execute_result"
        }
      ],
      "source": [
        "pg.ttest(target_location.query('volatility==\"low\"').ptar, 0)\n"
      ]
    },
    {
      "cell_type": "code",
      "execution_count": 103,
      "metadata": {},
      "outputs": [
        {
          "data": {
            "text/html": [
              "<div>\n",
              "<style scoped>\n",
              "    .dataframe tbody tr th:only-of-type {\n",
              "        vertical-align: middle;\n",
              "    }\n",
              "\n",
              "    .dataframe tbody tr th {\n",
              "        vertical-align: top;\n",
              "    }\n",
              "\n",
              "    .dataframe thead th {\n",
              "        text-align: right;\n",
              "    }\n",
              "</style>\n",
              "<table border=\"1\" class=\"dataframe\">\n",
              "  <thead>\n",
              "    <tr style=\"text-align: right;\">\n",
              "      <th></th>\n",
              "      <th>T</th>\n",
              "      <th>dof</th>\n",
              "      <th>alternative</th>\n",
              "      <th>p-val</th>\n",
              "      <th>CI95%</th>\n",
              "      <th>cohen-d</th>\n",
              "      <th>BF10</th>\n",
              "      <th>power</th>\n",
              "    </tr>\n",
              "  </thead>\n",
              "  <tbody>\n",
              "    <tr>\n",
              "      <th>T-test</th>\n",
              "      <td>3.518449</td>\n",
              "      <td>23</td>\n",
              "      <td>two-sided</td>\n",
              "      <td>0.001843</td>\n",
              "      <td>[34.84, 134.28]</td>\n",
              "      <td>0.7182</td>\n",
              "      <td>20.569</td>\n",
              "      <td>0.920459</td>\n",
              "    </tr>\n",
              "  </tbody>\n",
              "</table>\n",
              "</div>"
            ],
            "text/plain": [
              "               T  dof alternative     p-val            CI95%  cohen-d    BF10  \\\n",
              "T-test  3.518449   23   two-sided  0.001843  [34.84, 134.28]   0.7182  20.569   \n",
              "\n",
              "           power  \n",
              "T-test  0.920459  "
            ]
          },
          "execution_count": 103,
          "metadata": {},
          "output_type": "execute_result"
        }
      ],
      "source": [
        "pg.ttest(target_location.query('volatility==\"high\"').ptar, 0)\n"
      ]
    },
    {
      "cell_type": "code",
      "execution_count": 104,
      "metadata": {},
      "outputs": [
        {
          "data": {
            "text/plain": [
              "(array([False,  True]), array([1.    , 0.0036]))"
            ]
          },
          "execution_count": 104,
          "metadata": {},
          "output_type": "execute_result"
        }
      ],
      "source": [
        "pg.multicomp([0.524, 0.0018], method='bonf')"
      ]
    },
    {
      "cell_type": "code",
      "execution_count": 96,
      "metadata": {},
      "outputs": [
        {
          "data": {
            "image/png": "[encoded data removed]",
            "text/plain": [
              "<Figure size 640x480 with 1 Axes>"
            ]
          },
          "metadata": {},
          "output_type": "display_data"
        }
      ],
      "source": [
        "def plot_tloc(ax):\n",
        "    # initialize the plot size\n",
        "    #ax.figure.set_size_inches(3.5, 3.5)\n",
        "    # visualize the `ptar` for each volatility as bar plot\n",
        "    sns.barplot(data=target_location, x='volatility', y='ptar', hue = 'volatility', width = 0.7, gap = 0.2, ax = ax)\n",
        "    # add stripplot on top of the bar plot\n",
        "    #sns.stripplot(data=target_location, x='volatility', y='ptar', hue='volatility',  alpha = .25, zorder =1, legend = False)\n",
        "    ax.set_ylabel('Target Location Effect (ms)')\n",
        "    ax.set_xlabel('Volatility Type')\n",
        "    # add significance bar and annotation\n",
        "    y_max = 140\n",
        "    y, h, col = y_max + y_max/50, y_max/50, 'k'\n",
        "    ax.plot([0, 0, 1, 1], [y, y+h, y+h, y], lw=1.5, c=col)\n",
        "    ax.text((0+1)/2, y+h, \"**\", ha='center', va='bottom', color=col)\n",
        "    ax.set_ylim(-30, 160)\n",
        "    \n",
        "\n",
        "\n",
        "plot_tloc(plt.gca())"
      ]
    },
    {
      "cell_type": "code",
      "execution_count": 98,
      "metadata": {},
      "outputs": [
        {
          "data": {
            "image/png": "[encoded data removed]",
            "text/plain": [
              "<Figure size 1000x350 with 4 Axes>"
            ]
          },
          "metadata": {},
          "output_type": "display_data"
        }
      ],
      "source": [
        "# combine plot_rt, plot_pcue, and plot_tloc into one figure\n",
        "fig, axes = plt.subplots(1, 3, figsize=(10, 3.5))\n",
        "plot_rt(axes[0])\n",
        "axes[0].text(-0.1, 1.1, 'a', transform=axes[0].transAxes, fontsize=16, fontweight='bold', va='top', ha='right')\n",
        "plot_dcue(axes[1])\n",
        "axes[1].text(-0.1, 1.1, 'b', transform=axes[1].transAxes, fontsize=16, fontweight='bold', va='top', ha='right')\n",
        "plot_tloc(axes[2])\n",
        "axes[2].text(-0.1, 1.1, 'c', transform=axes[2].transAxes, fontsize=16, fontweight='bold', va='top', ha='right')\n",
        "plt.tight_layout()\n",
        "plt.show()\n",
        "# save the figure\n",
        "fig.savefig('./figs/fig2.png', dpi=300, bbox_inches='tight')\n",
        "fig.savefig('./figs/fig2.pdf', dpi=300, bbox_inches='tight')"
      ]
    },
    {
      "attachments": {},
      "cell_type": "markdown",
      "metadata": {},
      "source": [
        "## 3 Distrator repetition suppression effect (rt cost)  \n"
      ]
    },
    {
      "cell_type": "code",
      "execution_count": 19,
      "metadata": {},
      "outputs": [
        {
          "data": {
            "text/html": [
              "<div>\n",
              "<style scoped>\n",
              "    .dataframe tbody tr th:only-of-type {\n",
              "        vertical-align: middle;\n",
              "    }\n",
              "\n",
              "    .dataframe tbody tr th {\n",
              "        vertical-align: top;\n",
              "    }\n",
              "\n",
              "    .dataframe thead th {\n",
              "        text-align: right;\n",
              "    }\n",
              "</style>\n",
              "<table border=\"1\" class=\"dataframe\">\n",
              "  <thead>\n",
              "    <tr style=\"text-align: right;\">\n",
              "      <th></th>\n",
              "      <th>sub</th>\n",
              "      <th>volatility</th>\n",
              "      <th>dist_repe</th>\n",
              "      <th>rt</th>\n",
              "      <th>trial_count</th>\n",
              "      <th>baseline_rt</th>\n",
              "      <th>interference</th>\n",
              "    </tr>\n",
              "  </thead>\n",
              "  <tbody>\n",
              "    <tr>\n",
              "      <th>1</th>\n",
              "      <td>1</td>\n",
              "      <td>high</td>\n",
              "      <td>1</td>\n",
              "      <td>1.218</td>\n",
              "      <td>510</td>\n",
              "      <td>0.985</td>\n",
              "      <td>233.164</td>\n",
              "    </tr>\n",
              "    <tr>\n",
              "      <th>2</th>\n",
              "      <td>1</td>\n",
              "      <td>high</td>\n",
              "      <td>2</td>\n",
              "      <td>1.134</td>\n",
              "      <td>155</td>\n",
              "      <td>0.985</td>\n",
              "      <td>148.383</td>\n",
              "    </tr>\n",
              "    <tr>\n",
              "      <th>3</th>\n",
              "      <td>1</td>\n",
              "      <td>high</td>\n",
              "      <td>3</td>\n",
              "      <td>1.097</td>\n",
              "      <td>39</td>\n",
              "      <td>0.985</td>\n",
              "      <td>111.972</td>\n",
              "    </tr>\n",
              "    <tr>\n",
              "      <th>4</th>\n",
              "      <td>1</td>\n",
              "      <td>high</td>\n",
              "      <td>4</td>\n",
              "      <td>1.072</td>\n",
              "      <td>9</td>\n",
              "      <td>0.985</td>\n",
              "      <td>87.182</td>\n",
              "    </tr>\n",
              "    <tr>\n",
              "      <th>6</th>\n",
              "      <td>1</td>\n",
              "      <td>low</td>\n",
              "      <td>1</td>\n",
              "      <td>1.071</td>\n",
              "      <td>213</td>\n",
              "      <td>0.847</td>\n",
              "      <td>224.123</td>\n",
              "    </tr>\n",
              "  </tbody>\n",
              "</table>\n",
              "</div>"
            ],
            "text/plain": [
              "   sub volatility  dist_repe     rt  trial_count  baseline_rt  interference\n",
              "1    1       high          1  1.218          510        0.985       233.164\n",
              "2    1       high          2  1.134          155        0.985       148.383\n",
              "3    1       high          3  1.097           39        0.985       111.972\n",
              "4    1       high          4  1.072            9        0.985        87.182\n",
              "6    1        low          1  1.071          213        0.847       224.123"
            ]
          },
          "execution_count": 19,
          "metadata": {},
          "output_type": "execute_result"
        }
      ],
      "source": [
        "# average rt for each sub, volatility, and dist_repe from data\n",
        "# \n",
        "dist_rt_sub = (data.query(\"dist_repe < 5\")\n",
        "               .groupby(['sub', 'volatility','dist_repe'])\n",
        "               .agg({'rt':'mean', 'correct':'count'})\n",
        "               .rename(columns={'correct':'trial_count'})\n",
        "               .reset_index())\n",
        "\n",
        "# select dist_repe ==0 as baseline, and merge back to the original data (exclude dist_repe == 0)\n",
        "baseline_rt = dist_rt_sub.query('dist_repe == 0').rename(columns={'rt': 'baseline_rt'}).drop(columns=['dist_repe', 'trial_count'])\n",
        "dist_rt_sub = (dist_rt_sub\n",
        "               .merge(baseline_rt, on=['sub', 'volatility'], how='left')\n",
        "               .query('dist_repe != 0').\n",
        "               assign(interference=lambda df: (df['rt'] - df['baseline_rt'])*1000))\n",
        "dist_rt_sub.head().round(3)"
      ]
    },
    {
      "cell_type": "code",
      "execution_count": 20,
      "metadata": {},
      "outputs": [
        {
          "data": {
            "text/html": [
              "<div>\n",
              "<style scoped>\n",
              "    .dataframe tbody tr th:only-of-type {\n",
              "        vertical-align: middle;\n",
              "    }\n",
              "\n",
              "    .dataframe tbody tr th {\n",
              "        vertical-align: top;\n",
              "    }\n",
              "\n",
              "    .dataframe thead th {\n",
              "        text-align: right;\n",
              "    }\n",
              "</style>\n",
              "<table border=\"1\" class=\"dataframe\">\n",
              "  <thead>\n",
              "    <tr style=\"text-align: right;\">\n",
              "      <th></th>\n",
              "      <th>volatility</th>\n",
              "      <th>dist_repe</th>\n",
              "      <th>interference</th>\n",
              "      <th>trial_count</th>\n",
              "    </tr>\n",
              "  </thead>\n",
              "  <tbody>\n",
              "    <tr>\n",
              "      <th>0</th>\n",
              "      <td>high</td>\n",
              "      <td>1</td>\n",
              "      <td>154.933</td>\n",
              "      <td>508.125</td>\n",
              "    </tr>\n",
              "    <tr>\n",
              "      <th>1</th>\n",
              "      <td>high</td>\n",
              "      <td>2</td>\n",
              "      <td>51.154</td>\n",
              "      <td>152.667</td>\n",
              "    </tr>\n",
              "    <tr>\n",
              "      <th>2</th>\n",
              "      <td>high</td>\n",
              "      <td>3</td>\n",
              "      <td>28.622</td>\n",
              "      <td>45.875</td>\n",
              "    </tr>\n",
              "    <tr>\n",
              "      <th>3</th>\n",
              "      <td>high</td>\n",
              "      <td>4</td>\n",
              "      <td>63.689</td>\n",
              "      <td>11.375</td>\n",
              "    </tr>\n",
              "    <tr>\n",
              "      <th>4</th>\n",
              "      <td>low</td>\n",
              "      <td>1</td>\n",
              "      <td>158.302</td>\n",
              "      <td>218.375</td>\n",
              "    </tr>\n",
              "    <tr>\n",
              "      <th>5</th>\n",
              "      <td>low</td>\n",
              "      <td>2</td>\n",
              "      <td>81.835</td>\n",
              "      <td>163.208</td>\n",
              "    </tr>\n",
              "    <tr>\n",
              "      <th>6</th>\n",
              "      <td>low</td>\n",
              "      <td>3</td>\n",
              "      <td>67.519</td>\n",
              "      <td>109.875</td>\n",
              "    </tr>\n",
              "    <tr>\n",
              "      <th>7</th>\n",
              "      <td>low</td>\n",
              "      <td>4</td>\n",
              "      <td>49.425</td>\n",
              "      <td>73.583</td>\n",
              "    </tr>\n",
              "  </tbody>\n",
              "</table>\n",
              "</div>"
            ],
            "text/plain": [
              "  volatility  dist_repe  interference  trial_count\n",
              "0       high          1       154.933      508.125\n",
              "1       high          2        51.154      152.667\n",
              "2       high          3        28.622       45.875\n",
              "3       high          4        63.689       11.375\n",
              "4        low          1       158.302      218.375\n",
              "5        low          2        81.835      163.208\n",
              "6        low          3        67.519      109.875\n",
              "7        low          4        49.425       73.583"
            ]
          },
          "execution_count": 20,
          "metadata": {},
          "output_type": "execute_result"
        }
      ],
      "source": [
        "# check grand mean of interference and the average number of trials\n",
        "(dist_rt_sub.groupby(['volatility', 'dist_repe']).agg({'interference':'mean', 'trial_count':'mean'}).reset_index().round(3))"
      ]
    },
    {
      "cell_type": "code",
      "execution_count": 28,
      "metadata": {},
      "outputs": [
        {
          "data": {
            "image/png": "[encoded data removed]",
            "text/plain": [
              "<Figure size 640x480 with 1 Axes>"
            ]
          },
          "metadata": {},
          "output_type": "display_data"
        }
      ],
      "source": [
        "def plot_pcue(ax):\n",
        "    # visualize the interference effect as a function of dist_repe, separated by volatility, line plot\n",
        "    sns.pointplot(data=dist_rt_sub, x='dist_repe', y='interference', \n",
        "                 hue='volatility', markers=['o','s'], markersize=10, dodge = 0.1, \n",
        "                 linewidth=2, ax = ax)\n",
        "    ax.set_xlabel('Distractor Repetition')\n",
        "    ax.set_ylabel('Distractor Interference (ms)')\n",
        "    ax.axhline(0, color='k', linestyle='--')\n",
        "\n",
        "\n",
        "plot_pcue(plt.gca())"
      ]
    },
    {
      "cell_type": "code",
      "execution_count": 22,
      "metadata": {},
      "outputs": [
        {
          "data": {
            "text/html": [
              "<div>\n",
              "<style scoped>\n",
              "    .dataframe tbody tr th:only-of-type {\n",
              "        vertical-align: middle;\n",
              "    }\n",
              "\n",
              "    .dataframe tbody tr th {\n",
              "        vertical-align: top;\n",
              "    }\n",
              "\n",
              "    .dataframe thead th {\n",
              "        text-align: right;\n",
              "    }\n",
              "</style>\n",
              "<table border=\"1\" class=\"dataframe\">\n",
              "  <thead>\n",
              "    <tr style=\"text-align: right;\">\n",
              "      <th></th>\n",
              "      <th>dist_repe</th>\n",
              "      <th>1</th>\n",
              "      <th>2</th>\n",
              "      <th>3</th>\n",
              "      <th>4</th>\n",
              "    </tr>\n",
              "    <tr>\n",
              "      <th>volatility</th>\n",
              "      <th>dist_bias</th>\n",
              "      <th></th>\n",
              "      <th></th>\n",
              "      <th></th>\n",
              "      <th></th>\n",
              "    </tr>\n",
              "  </thead>\n",
              "  <tbody>\n",
              "    <tr>\n",
              "      <th rowspan=\"2\" valign=\"top\">high</th>\n",
              "      <th>frequent</th>\n",
              "      <td>327.625</td>\n",
              "      <td>97.625</td>\n",
              "      <td>29.250</td>\n",
              "      <td>7.042</td>\n",
              "    </tr>\n",
              "    <tr>\n",
              "      <th>rare</th>\n",
              "      <td>180.500</td>\n",
              "      <td>55.042</td>\n",
              "      <td>16.625</td>\n",
              "      <td>4.333</td>\n",
              "    </tr>\n",
              "    <tr>\n",
              "      <th rowspan=\"2\" valign=\"top\">low</th>\n",
              "      <th>frequent</th>\n",
              "      <td>139.125</td>\n",
              "      <td>102.333</td>\n",
              "      <td>68.667</td>\n",
              "      <td>45.833</td>\n",
              "    </tr>\n",
              "    <tr>\n",
              "      <th>rare</th>\n",
              "      <td>79.250</td>\n",
              "      <td>60.875</td>\n",
              "      <td>41.208</td>\n",
              "      <td>27.750</td>\n",
              "    </tr>\n",
              "  </tbody>\n",
              "</table>\n",
              "</div>"
            ],
            "text/plain": [
              "dist_repe                   1        2       3       4\n",
              "volatility dist_bias                                  \n",
              "high       frequent   327.625   97.625  29.250   7.042\n",
              "           rare       180.500   55.042  16.625   4.333\n",
              "low        frequent   139.125  102.333  68.667  45.833\n",
              "           rare        79.250   60.875  41.208  27.750"
            ]
          },
          "execution_count": 22,
          "metadata": {},
          "output_type": "execute_result"
        }
      ],
      "source": [
        "dist_loc_rt_l = (data.query(\"dist_repe > 0 and dist_repe < 5\")\n",
        "               .groupby(['sub', 'volatility','dist_repe','dist_bias'])\n",
        "               .agg({'rt':'mean', 'correct':'count'}) # calculate mean rt and trial count\n",
        "                .rename(columns={'correct':'trial_count'})\n",
        "                .reset_index())\n",
        "# check average number of trials\n",
        "(dist_loc_rt_l.groupby(['volatility',  'dist_bias', 'dist_repe'])\n",
        " .agg({'trial_count':'mean'}).reset_index()\n",
        " .pivot_table(index=['volatility', 'dist_bias'], columns='dist_repe', values='trial_count').round(3))"
      ]
    },
    {
      "cell_type": "markdown",
      "metadata": {},
      "source": [
        "note: the average trial number for repetition of 4 were relatively low for the high-volatility session (7.04 and 4.33)"
      ]
    },
    {
      "cell_type": "code",
      "execution_count": 23,
      "metadata": {},
      "outputs": [
        {
          "data": {
            "text/html": [
              "<div>\n",
              "<style scoped>\n",
              "    .dataframe tbody tr th:only-of-type {\n",
              "        vertical-align: middle;\n",
              "    }\n",
              "\n",
              "    .dataframe tbody tr th {\n",
              "        vertical-align: top;\n",
              "    }\n",
              "\n",
              "    .dataframe thead th {\n",
              "        text-align: right;\n",
              "    }\n",
              "</style>\n",
              "<table border=\"1\" class=\"dataframe\">\n",
              "  <thead>\n",
              "    <tr style=\"text-align: right;\">\n",
              "      <th>dist_bias</th>\n",
              "      <th>sub</th>\n",
              "      <th>volatility</th>\n",
              "      <th>dist_repe</th>\n",
              "      <th>frequent</th>\n",
              "      <th>rare</th>\n",
              "      <th>location</th>\n",
              "    </tr>\n",
              "  </thead>\n",
              "  <tbody>\n",
              "    <tr>\n",
              "      <th>0</th>\n",
              "      <td>1</td>\n",
              "      <td>high</td>\n",
              "      <td>1</td>\n",
              "      <td>1.208</td>\n",
              "      <td>1.239</td>\n",
              "      <td>31.916</td>\n",
              "    </tr>\n",
              "    <tr>\n",
              "      <th>1</th>\n",
              "      <td>1</td>\n",
              "      <td>high</td>\n",
              "      <td>2</td>\n",
              "      <td>1.149</td>\n",
              "      <td>1.111</td>\n",
              "      <td>-38.376</td>\n",
              "    </tr>\n",
              "    <tr>\n",
              "      <th>2</th>\n",
              "      <td>1</td>\n",
              "      <td>high</td>\n",
              "      <td>3</td>\n",
              "      <td>1.084</td>\n",
              "      <td>1.120</td>\n",
              "      <td>35.232</td>\n",
              "    </tr>\n",
              "    <tr>\n",
              "      <th>3</th>\n",
              "      <td>1</td>\n",
              "      <td>high</td>\n",
              "      <td>4</td>\n",
              "      <td>1.105</td>\n",
              "      <td>1.018</td>\n",
              "      <td>-86.673</td>\n",
              "    </tr>\n",
              "    <tr>\n",
              "      <th>4</th>\n",
              "      <td>1</td>\n",
              "      <td>low</td>\n",
              "      <td>1</td>\n",
              "      <td>1.026</td>\n",
              "      <td>1.164</td>\n",
              "      <td>137.867</td>\n",
              "    </tr>\n",
              "  </tbody>\n",
              "</table>\n",
              "</div>"
            ],
            "text/plain": [
              "dist_bias  sub volatility  dist_repe  frequent   rare  location\n",
              "0            1       high          1     1.208  1.239    31.916\n",
              "1            1       high          2     1.149  1.111   -38.376\n",
              "2            1       high          3     1.084  1.120    35.232\n",
              "3            1       high          4     1.105  1.018   -86.673\n",
              "4            1        low          1     1.026  1.164   137.867"
            ]
          },
          "execution_count": 23,
          "metadata": {},
          "output_type": "execute_result"
        }
      ],
      "source": [
        "\n",
        "dist_loc_rt = (dist_loc_rt_l\n",
        "               .drop(columns=['trial_count'])\n",
        "               .pivot_table(index=['sub', 'volatility','dist_repe'], columns='dist_bias', values='rt')\n",
        "               .assign(location=lambda df: (df['rare'] - df['frequent'])*1000).reset_index())\n",
        "dist_loc_rt.head().round(3)"
      ]
    },
    {
      "cell_type": "code",
      "execution_count": 25,
      "metadata": {},
      "outputs": [
        {
          "data": {
            "image/png": "[encoded data removed]",
            "text/plain": [
              "<Figure size 640x480 with 1 Axes>"
            ]
          },
          "metadata": {},
          "output_type": "display_data"
        }
      ],
      "source": [
        "def plot_disrep(ax):\n",
        "    # visualize the location effect as a function of dist_repe, separated by volatility, line plot\n",
        "    sns.pointplot(data=dist_loc_rt, x='dist_repe', y='location', \n",
        "                  hue='volatility', markers=['o','s'], markersize=10, dodge = 0.1, \n",
        "                  linewidth=2, ax = ax, legend = False)\n",
        "    ax.set_xlabel('Distractor-Present Repetition')\n",
        "    ax.set_ylabel('Distractor Prob. Cueing Effect (ms)')\n",
        "    # add dashed line at 0\n",
        "    ax.axhline(0, color='k', linestyle='--')\n",
        "    # set y-axis limit to -50 to 200\n",
        "    ax.set_ylim(-50, 200)\n",
        "\n",
        "plot_disrep(plt.gca())"
      ]
    },
    {
      "cell_type": "code",
      "execution_count": 26,
      "metadata": {},
      "outputs": [
        {
          "data": {
            "text/html": [
              "<div>\n",
              "<style scoped>\n",
              "    .dataframe tbody tr th:only-of-type {\n",
              "        vertical-align: middle;\n",
              "    }\n",
              "\n",
              "    .dataframe tbody tr th {\n",
              "        vertical-align: top;\n",
              "    }\n",
              "\n",
              "    .dataframe thead th {\n",
              "        text-align: right;\n",
              "    }\n",
              "</style>\n",
              "<table border=\"1\" class=\"dataframe\">\n",
              "  <thead>\n",
              "    <tr style=\"text-align: right;\">\n",
              "      <th></th>\n",
              "      <th>dist_repe_absent</th>\n",
              "      <th>1</th>\n",
              "      <th>2</th>\n",
              "      <th>3</th>\n",
              "      <th>4</th>\n",
              "    </tr>\n",
              "    <tr>\n",
              "      <th>volatility</th>\n",
              "      <th>tar_bias</th>\n",
              "      <th></th>\n",
              "      <th></th>\n",
              "      <th></th>\n",
              "      <th></th>\n",
              "    </tr>\n",
              "  </thead>\n",
              "  <tbody>\n",
              "    <tr>\n",
              "      <th rowspan=\"2\" valign=\"top\">high</th>\n",
              "      <th>frequent</th>\n",
              "      <td>95.458</td>\n",
              "      <td>26.292</td>\n",
              "      <td>7.625</td>\n",
              "      <td>2.571</td>\n",
              "    </tr>\n",
              "    <tr>\n",
              "      <th>rare</th>\n",
              "      <td>412.958</td>\n",
              "      <td>122.667</td>\n",
              "      <td>36.417</td>\n",
              "      <td>10.833</td>\n",
              "    </tr>\n",
              "    <tr>\n",
              "      <th rowspan=\"2\" valign=\"top\">low</th>\n",
              "      <th>frequent</th>\n",
              "      <td>42.083</td>\n",
              "      <td>29.042</td>\n",
              "      <td>18.500</td>\n",
              "      <td>12.750</td>\n",
              "    </tr>\n",
              "    <tr>\n",
              "      <th>rare</th>\n",
              "      <td>176.000</td>\n",
              "      <td>121.625</td>\n",
              "      <td>85.958</td>\n",
              "      <td>60.042</td>\n",
              "    </tr>\n",
              "  </tbody>\n",
              "</table>\n",
              "</div>"
            ],
            "text/plain": [
              "dist_repe_absent           1        2       3       4\n",
              "volatility tar_bias                                  \n",
              "high       frequent   95.458   26.292   7.625   2.571\n",
              "           rare      412.958  122.667  36.417  10.833\n",
              "low        frequent   42.083   29.042  18.500  12.750\n",
              "           rare      176.000  121.625  85.958  60.042"
            ]
          },
          "execution_count": 26,
          "metadata": {},
          "output_type": "execute_result"
        }
      ],
      "source": [
        "target_loc_rt_l = (data.query(\"dist_repe_absent > 0 and dist_repe_absent < 5 and dist_bias == 'absent'\")\n",
        "               .groupby(['sub', 'volatility','dist_repe_absent','tar_bias'])\n",
        "               .agg({'rt':'mean', 'correct':'count'}) # calculate mean rt and trial count\n",
        "                .rename(columns={'correct':'trial_count'})\n",
        "                .reset_index())\n",
        "# check average number of trials\n",
        "(target_loc_rt_l.groupby(['volatility', 'tar_bias', 'dist_repe_absent'])\n",
        " .agg({'trial_count':'mean'}).reset_index()\n",
        " .pivot_table(index=['volatility', 'tar_bias'], columns='dist_repe_absent', values='trial_count').round(3))\n"
      ]
    },
    {
      "cell_type": "markdown",
      "metadata": {},
      "source": [
        "The target repetition of 4 for the high volatlity condition at the frequent distractor location was rare, on average 2.57 trials. \n",
        "\n",
        "Given the average number of trials for the target location at high vol/ dist frequent locaiton is rare, we only use the repetition from 1 to 3. "
      ]
    },
    {
      "cell_type": "code",
      "execution_count": 27,
      "metadata": {},
      "outputs": [
        {
          "data": {
            "text/html": [
              "<div>\n",
              "<style scoped>\n",
              "    .dataframe tbody tr th:only-of-type {\n",
              "        vertical-align: middle;\n",
              "    }\n",
              "\n",
              "    .dataframe tbody tr th {\n",
              "        vertical-align: top;\n",
              "    }\n",
              "\n",
              "    .dataframe thead th {\n",
              "        text-align: right;\n",
              "    }\n",
              "</style>\n",
              "<table border=\"1\" class=\"dataframe\">\n",
              "  <thead>\n",
              "    <tr style=\"text-align: right;\">\n",
              "      <th>tar_bias</th>\n",
              "      <th>sub</th>\n",
              "      <th>volatility</th>\n",
              "      <th>dist_repe_absent</th>\n",
              "      <th>frequent</th>\n",
              "      <th>rare</th>\n",
              "      <th>location</th>\n",
              "    </tr>\n",
              "  </thead>\n",
              "  <tbody>\n",
              "    <tr>\n",
              "      <th>0</th>\n",
              "      <td>1</td>\n",
              "      <td>high</td>\n",
              "      <td>1</td>\n",
              "      <td>0.968713</td>\n",
              "      <td>1.006274</td>\n",
              "      <td>-37.560823</td>\n",
              "    </tr>\n",
              "    <tr>\n",
              "      <th>1</th>\n",
              "      <td>1</td>\n",
              "      <td>high</td>\n",
              "      <td>2</td>\n",
              "      <td>0.851368</td>\n",
              "      <td>0.983339</td>\n",
              "      <td>-131.971397</td>\n",
              "    </tr>\n",
              "    <tr>\n",
              "      <th>2</th>\n",
              "      <td>1</td>\n",
              "      <td>high</td>\n",
              "      <td>3</td>\n",
              "      <td>0.994422</td>\n",
              "      <td>0.961247</td>\n",
              "      <td>33.174801</td>\n",
              "    </tr>\n",
              "    <tr>\n",
              "      <th>3</th>\n",
              "      <td>1</td>\n",
              "      <td>low</td>\n",
              "      <td>1</td>\n",
              "      <td>0.984914</td>\n",
              "      <td>0.849897</td>\n",
              "      <td>135.017022</td>\n",
              "    </tr>\n",
              "    <tr>\n",
              "      <th>4</th>\n",
              "      <td>1</td>\n",
              "      <td>low</td>\n",
              "      <td>2</td>\n",
              "      <td>0.813077</td>\n",
              "      <td>0.852792</td>\n",
              "      <td>-39.714991</td>\n",
              "    </tr>\n",
              "  </tbody>\n",
              "</table>\n",
              "</div>"
            ],
            "text/plain": [
              "tar_bias  sub volatility  dist_repe_absent  frequent      rare    location\n",
              "0           1       high                 1  0.968713  1.006274  -37.560823\n",
              "1           1       high                 2  0.851368  0.983339 -131.971397\n",
              "2           1       high                 3  0.994422  0.961247   33.174801\n",
              "3           1        low                 1  0.984914  0.849897  135.017022\n",
              "4           1        low                 2  0.813077  0.852792  -39.714991"
            ]
          },
          "execution_count": 27,
          "metadata": {},
          "output_type": "execute_result"
        }
      ],
      "source": [
        "\n",
        "target_loc_rt = (target_loc_rt_l\n",
        "                 .query('dist_repe_absent < 4')\n",
        "                .drop(columns=['trial_count'])\n",
        "               .pivot_table(index=['sub', 'volatility','dist_repe_absent'], columns='tar_bias', values='rt')\n",
        "               .assign(location=lambda df: (df['frequent'] - df['rare'])*1000).reset_index())\n",
        "target_loc_rt.head()"
      ]
    },
    {
      "cell_type": "code",
      "execution_count": 29,
      "metadata": {},
      "outputs": [
        {
          "data": {
            "image/png": "[encoded data removed]",
            "text/plain": [
              "<Figure size 640x480 with 1 Axes>"
            ]
          },
          "metadata": {},
          "output_type": "display_data"
        }
      ],
      "source": [
        "def plot_tarrep(ax):\n",
        "    # visualize the location effect as a function of dist_repe, separated by volatility, line plot\n",
        "    sns.pointplot(data=target_loc_rt, x='dist_repe_absent', y='location',\n",
        "                   hue='volatility',markers=['o','s'], markersize=10, dodge = 0.1, \n",
        "                    linewidth=2, ax = ax, legend=False)\n",
        "    ax.set_xlabel('Distractor-Absent Repetition')\n",
        "    ax.set_ylabel('Target Location effect (ms)')\n",
        "    # add dashed line at 0\n",
        "    ax.axhline(0, color='k', linestyle='--')\n",
        "\n",
        "plot_tarrep(plt.gca())"
      ]
    },
    {
      "cell_type": "code",
      "execution_count": 30,
      "metadata": {},
      "outputs": [
        {
          "data": {
            "image/png": "[encoded data removed]",
            "text/plain": [
              "<Figure size 1000x350 with 3 Axes>"
            ]
          },
          "metadata": {},
          "output_type": "display_data"
        }
      ],
      "source": [
        "# combine plot_pcue, plot_disrep, and plot_tarrep into one figure\n",
        "fig, axes = plt.subplots(1, 3, figsize=(10, 3.5))\n",
        "plot_pcue(axes[0])\n",
        "axes[0].text(-0.1, 1.1, 'a', transform=axes[0].transAxes, fontsize=16, fontweight='bold', va='top', ha='right')\n",
        "plot_disrep(axes[1])\n",
        "axes[1].text(-0.1, 1.1, 'b', transform=axes[1].transAxes, fontsize=16, fontweight='bold', va='top', ha='right')\n",
        "plot_tarrep(axes[2])\n",
        "axes[2].text(-0.1, 1.1, 'c', transform=axes[2].transAxes, fontsize=16, fontweight='bold', va='top', ha='right')\n",
        "plt.tight_layout()\n",
        "plt.show()\n",
        "# save the figure\n",
        "fig.savefig('./figs/fig3.png', dpi=300, bbox_inches='tight')\n",
        "fig.savefig('./figs/fig3.pdf', dpi=300, bbox_inches='tight')\n"
      ]
    },
    {
      "cell_type": "code",
      "execution_count": null,
      "metadata": {},
      "outputs": [],
      "source": [
        "import statsmodels.api as sm\n",
        "# add log scale of dist_repe_x to the dataframe\n",
        "dat_rep_rt['dist_repe_x_log'] = np.log(dat_rep_rt['dist_repe_x'])\n",
        "dat_rep_rt['intercept'] = 1\n",
        "#  do regression of rt_cost on dist_repe_x_log, separate for for each sub, volatility\n",
        "# and store slope and intercept in a dataframe\n",
        "dat_rep_rt_reg = pd.DataFrame()\n",
        "for sub in dat_rep_rt['sub'].unique():\n",
        "    for volatility in dat_rep_rt['volatility'].unique():\n",
        "        dat_sub_vol = dat_rep_rt[(dat_rep_rt['sub']==sub) & (dat_rep_rt['volatility']==volatility)]\n",
        "        model = sm.OLS(dat_sub_vol['rt_cost'],dat_sub_vol[['intercept','dist_repe_x_log']])\n",
        "        results = model.fit()\n",
        "        dat_rep_rt_reg = dat_rep_rt_reg.append({'sub':sub,'volatility':volatility,'slope':results.params[1],'intercept':results.params[0]},ignore_index=True)\n",
        "dat_rep_rt_reg.head()"
      ]
    },
    {
      "cell_type": "code",
      "execution_count": null,
      "metadata": {},
      "outputs": [],
      "source": [
        "# draw histogram of slope, separately for each volatility type\n",
        "fig_rtcost_dist_repe_slope = sns.displot(data=dat_rep_rt_reg, x='slope',hue='volatility', kind='kde', palette=colors,legend='full')"
      ]
    },
    {
      "cell_type": "code",
      "execution_count": null,
      "metadata": {},
      "outputs": [],
      "source": [
        "# mean and standard errors of slope, separately for each volatility type\n",
        "dat_rep_rt_reg.groupby('volatility').agg({'slope':['mean','sem']}).round(3)\n"
      ]
    },
    {
      "cell_type": "code",
      "execution_count": null,
      "metadata": {},
      "outputs": [],
      "source": [
        "dat_rep_rt_reg.groupby('volatility').agg({'intercept':['mean','sem']}).round(3)\n"
      ]
    },
    {
      "cell_type": "code",
      "execution_count": null,
      "metadata": {},
      "outputs": [],
      "source": [
        "# draw errorbar of slope, separately for each volatility type\n",
        "fig_rtcost_dist_repe_slope = sns.barplot(data=dat_rep_rt_reg, x='volatility', y='slope')\n"
      ]
    },
    {
      "cell_type": "code",
      "execution_count": null,
      "metadata": {},
      "outputs": [],
      "source": [
        "# run paired t-test for slope between volatility types, pair by subject\n",
        "pg.pairwise_ttests(dv='slope', within=['volatility'], subject='sub', data=dat_rep_rt_reg,padjust='holm',effsize='cohen').round(3)\n"
      ]
    },
    {
      "cell_type": "code",
      "execution_count": null,
      "metadata": {},
      "outputs": [],
      "source": [
        "# run paired t-test for intercept between volatility types, pair by subject\n",
        "pg.pairwise_ttests(dv='intercept', within=['volatility'], subject='sub', data=dat_rep_rt_reg,padjust='holm',effsize='cohen').round(3)\n"
      ]
    }
  ],
  "metadata": {
    "colab": {
      "collapsed_sections": [
        "uT2lRhswteJo"
      ],
      "name": "Copy of Data_analysis_and_Visualization.ipynb",
      "provenance": [],
      "toc_visible": true
    },
    "interpreter": {
      "hash": "aee8b7b246df8f9039afb4144a1f6fd8d2ca17a180786b69acc140d282b71a49"
    },
    "kernelspec": {
      "display_name": "Python 3.7.9 64-bit",
      "language": "python",
      "name": "python3"
    },
    "language_info": {
      "codemirror_mode": {
        "name": "ipython",
        "version": 3
      },
      "file_extension": ".py",
      "mimetype": "text/x-python",
      "name": "python",
      "nbconvert_exporter": "python",
      "pygments_lexer": "ipython3",
      "version": "3.11.7"
    }
  },
  "nbformat": 4,
  "nbformat_minor": 0
}
