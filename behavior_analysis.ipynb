{
  "cells": [
    {
      "attachments": {},
      "cell_type": "markdown",
      "metadata": {},
      "source": [
        "\n",
        "# Data analysis of the distractor volatility on statistical learning \n",
        "In this study, we compared high- vs. low-volatility changes of the distractor occurrence in a distractor singleton search task. The distractor prevelance was 50% in both sequences. The sequences were generated with Markov chain. \n"
      ]
    },
    {
      "cell_type": "code",
      "execution_count": 1,
      "metadata": {
        "id": "f3fd3GgHteH3"
      },
      "outputs": [],
      "source": [
        "import scipy.io\n",
        "import numpy as np\n",
        "import pandas as pd \n",
        "import pingouin as pg\n",
        "import matplotlib.pyplot as plt\n",
        "import seaborn as sns # statistical data visualization\n",
        "from statsmodels.formula.api import ols\n",
        "from statsmodels.stats.anova import *\n",
        "import warnings\n",
        "warnings.filterwarnings('ignore')\n",
        "pd.set_option('display.max_rows',None)\n",
        "pd.set_option('display.max_columns',None)\n",
        "pd.set_option('display.max_colwidth',None)"
      ]
    },
    {
      "cell_type": "code",
      "execution_count": 2,
      "metadata": {},
      "outputs": [],
      "source": [
        "# function for distractor and target locations\n",
        "##sub1-8:frequent location is [2 3 4 5 6 7 8 1]\n",
        "def func_biasloc(x,y):\n",
        "    if x==0:  return 'absent'\n",
        "    elif x==(y%8+1):  return 'frequent'\n",
        "    else:  return 'rare'\n",
        "func_biasloc=np.vectorize(func_biasloc)\n",
        "\n",
        "# def func_biasloc_tar(x,y,z):\n",
        "#     if x==(y%8+1) and z==0:  return 'frequent'\n",
        "#     elif x!=(y%8+1) and z==0:  return 'rare'\n",
        "#     else: return 'none'\n",
        "# func_biasloc_tar=np.vectorize(func_biasloc_tar)\n",
        "def func_biasloc_tar(x,y,z):\n",
        "    if x==(y%8+1) and z==0 :  return 'frequent'\n",
        "    elif x!=(y%8+1) and z==0:  return 'rare'\n",
        "    else: return 'none'\n",
        "func_biasloc_tar=np.vectorize(func_biasloc_tar)\n",
        "\n",
        "def change_width(ax, new_value) :\n",
        "    for patch in ax.patches :\n",
        "        current_width = patch.get_width()\n",
        "        diff = current_width - new_value\n",
        "        # we change the bar width\n",
        "        patch.set_width(new_value)\n",
        "        # we recenter the bar\n",
        "        patch.set_x(patch.get_x() + diff * .5)\n"
      ]
    },
    {
      "attachments": {},
      "cell_type": "markdown",
      "metadata": {
        "id": "HJC-bA2CILDi"
      },
      "source": [
        "## Import data"
      ]
    },
    {
      "cell_type": "markdown",
      "metadata": {},
      "source": [
        "Check the general sample population. "
      ]
    },
    {
      "cell_type": "code",
      "execution_count": 3,
      "metadata": {},
      "outputs": [
        {
          "name": "stdout",
          "output_type": "stream",
          "text": [
            "Males: 9 Females: 15  Mean age: 26.542\n"
          ]
        }
      ],
      "source": [
        "### general infomation ###\n",
        "url_info = './csv/raw_info_all.csv'\n",
        "info = pd.read_csv(url_info)\n",
        "gender_M = ((info['gender'] == 'M') & (info['volatility'] == 1)).sum()\n",
        "gender_F = ((info['gender'] == 'F') & (info['volatility'] == 1)).sum()\n",
        "age = info.query('volatility==1').age.mean().round(3)\n",
        "print('Males:', gender_M, 'Females:', gender_F,  ' Mean age:', age)\n"
      ]
    },
    {
      "cell_type": "markdown",
      "metadata": {},
      "source": [
        "We first read the raw data. "
      ]
    },
    {
      "cell_type": "code",
      "execution_count": 4,
      "metadata": {},
      "outputs": [
        {
          "name": "stdout",
          "output_type": "stream",
          "text": [
            "(69120, 17)\n"
          ]
        },
        {
          "data": {
            "text/html": [
              "<div>\n",
              "<style scoped>\n",
              "    .dataframe tbody tr th:only-of-type {\n",
              "        vertical-align: middle;\n",
              "    }\n",
              "\n",
              "    .dataframe tbody tr th {\n",
              "        vertical-align: top;\n",
              "    }\n",
              "\n",
              "    .dataframe thead th {\n",
              "        text-align: right;\n",
              "    }\n",
              "</style>\n",
              "<table border=\"1\" class=\"dataframe\">\n",
              "  <thead>\n",
              "    <tr style=\"text-align: right;\">\n",
              "      <th></th>\n",
              "      <th>Unnamed: 0</th>\n",
              "      <th>tar_pos</th>\n",
              "      <th>dist_pos</th>\n",
              "      <th>block</th>\n",
              "      <th>correct</th>\n",
              "      <th>rt</th>\n",
              "      <th>sub</th>\n",
              "      <th>volatility</th>\n",
              "      <th>dist_repe</th>\n",
              "      <th>dist_repe_absent</th>\n",
              "      <th>dist_attendance</th>\n",
              "      <th>dist_switch</th>\n",
              "      <th>coincident</th>\n",
              "      <th>Abe_Pre</th>\n",
              "      <th>dist_pos_preced</th>\n",
              "      <th>dist_bias</th>\n",
              "      <th>tar_bias</th>\n",
              "    </tr>\n",
              "  </thead>\n",
              "  <tbody>\n",
              "    <tr>\n",
              "      <th>0</th>\n",
              "      <td>0</td>\n",
              "      <td>2.0</td>\n",
              "      <td>0.0</td>\n",
              "      <td>1.0</td>\n",
              "      <td>1.0</td>\n",
              "      <td>1.501370</td>\n",
              "      <td>1</td>\n",
              "      <td>high</td>\n",
              "      <td>0</td>\n",
              "      <td>1</td>\n",
              "      <td>NaN</td>\n",
              "      <td>NaN</td>\n",
              "      <td>none</td>\n",
              "      <td>absent</td>\n",
              "      <td>0.0</td>\n",
              "      <td>absent</td>\n",
              "      <td>frequent</td>\n",
              "    </tr>\n",
              "    <tr>\n",
              "      <th>1</th>\n",
              "      <td>1</td>\n",
              "      <td>2.0</td>\n",
              "      <td>1.0</td>\n",
              "      <td>1.0</td>\n",
              "      <td>1.0</td>\n",
              "      <td>1.000736</td>\n",
              "      <td>1</td>\n",
              "      <td>high</td>\n",
              "      <td>1</td>\n",
              "      <td>0</td>\n",
              "      <td>AP</td>\n",
              "      <td>switch</td>\n",
              "      <td>none</td>\n",
              "      <td>present</td>\n",
              "      <td>1.0</td>\n",
              "      <td>rare</td>\n",
              "      <td>none</td>\n",
              "    </tr>\n",
              "    <tr>\n",
              "      <th>2</th>\n",
              "      <td>2</td>\n",
              "      <td>2.0</td>\n",
              "      <td>1.0</td>\n",
              "      <td>1.0</td>\n",
              "      <td>1.0</td>\n",
              "      <td>1.368081</td>\n",
              "      <td>1</td>\n",
              "      <td>high</td>\n",
              "      <td>2</td>\n",
              "      <td>0</td>\n",
              "      <td>PP</td>\n",
              "      <td>non_switch</td>\n",
              "      <td>none</td>\n",
              "      <td>present</td>\n",
              "      <td>1.0</td>\n",
              "      <td>rare</td>\n",
              "      <td>none</td>\n",
              "    </tr>\n",
              "    <tr>\n",
              "      <th>3</th>\n",
              "      <td>3</td>\n",
              "      <td>2.0</td>\n",
              "      <td>0.0</td>\n",
              "      <td>1.0</td>\n",
              "      <td>1.0</td>\n",
              "      <td>0.684040</td>\n",
              "      <td>1</td>\n",
              "      <td>high</td>\n",
              "      <td>0</td>\n",
              "      <td>1</td>\n",
              "      <td>PA</td>\n",
              "      <td>switch</td>\n",
              "      <td>non-coincident</td>\n",
              "      <td>absent</td>\n",
              "      <td>0.0</td>\n",
              "      <td>absent</td>\n",
              "      <td>frequent</td>\n",
              "    </tr>\n",
              "    <tr>\n",
              "      <th>4</th>\n",
              "      <td>4</td>\n",
              "      <td>2.0</td>\n",
              "      <td>0.0</td>\n",
              "      <td>1.0</td>\n",
              "      <td>1.0</td>\n",
              "      <td>0.565839</td>\n",
              "      <td>1</td>\n",
              "      <td>high</td>\n",
              "      <td>0</td>\n",
              "      <td>2</td>\n",
              "      <td>AA</td>\n",
              "      <td>non_switch</td>\n",
              "      <td>none</td>\n",
              "      <td>absent</td>\n",
              "      <td>0.0</td>\n",
              "      <td>absent</td>\n",
              "      <td>frequent</td>\n",
              "    </tr>\n",
              "  </tbody>\n",
              "</table>\n",
              "</div>"
            ],
            "text/plain": [
              "   Unnamed: 0  tar_pos  dist_pos  block  correct        rt  sub volatility  \\\n",
              "0           0      2.0       0.0    1.0      1.0  1.501370    1       high   \n",
              "1           1      2.0       1.0    1.0      1.0  1.000736    1       high   \n",
              "2           2      2.0       1.0    1.0      1.0  1.368081    1       high   \n",
              "3           3      2.0       0.0    1.0      1.0  0.684040    1       high   \n",
              "4           4      2.0       0.0    1.0      1.0  0.565839    1       high   \n",
              "\n",
              "   dist_repe  dist_repe_absent dist_attendance dist_switch      coincident  \\\n",
              "0          0                 1             NaN         NaN            none   \n",
              "1          1                 0              AP      switch            none   \n",
              "2          2                 0              PP  non_switch            none   \n",
              "3          0                 1              PA      switch  non-coincident   \n",
              "4          0                 2              AA  non_switch            none   \n",
              "\n",
              "   Abe_Pre  dist_pos_preced dist_bias  tar_bias  \n",
              "0   absent              0.0    absent  frequent  \n",
              "1  present              1.0      rare      none  \n",
              "2  present              1.0      rare      none  \n",
              "3   absent              0.0    absent  frequent  \n",
              "4   absent              0.0    absent  frequent  "
            ]
          },
          "execution_count": 4,
          "metadata": {},
          "output_type": "execute_result"
        }
      ],
      "source": [
        "dat = (pd.read_csv('./csv/raw_data_all2.csv')\n",
        "       .assign(sub=lambda df: df['sub'].str.replace('s', '').astype(int),\n",
        "               dist_pos_preced=lambda df: df[\"dist_pos\"],\n",
        "               dist_bias=lambda df: func_biasloc(df[\"dist_pos\"], df['sub']),\n",
        "               tar_bias=lambda df: func_biasloc_tar(df[\"tar_pos\"], df['sub'], df[\"dist_pos\"])))\n",
        "# show dat dimension\n",
        "print(dat.shape)\n",
        "dat.head()"
      ]
    },
    {
      "attachments": {},
      "cell_type": "markdown",
      "metadata": {},
      "source": [
        "## Results\n"
      ]
    },
    {
      "cell_type": "markdown",
      "metadata": {},
      "source": [
        "### Set outliers for individual data\n",
        "\n",
        "We set the outliers for the individual data. The outliers were defined as the data points that were outside the [.25, .75] + 2 x IQR range, plus the reaction time (RT) that was less than 0.150 s or greater than 4 s."
      ]
    },
    {
      "cell_type": "code",
      "execution_count": 5,
      "metadata": {},
      "outputs": [
        {
          "data": {
            "text/html": [
              "<div>\n",
              "<style scoped>\n",
              "    .dataframe tbody tr th:only-of-type {\n",
              "        vertical-align: middle;\n",
              "    }\n",
              "\n",
              "    .dataframe tbody tr th {\n",
              "        vertical-align: top;\n",
              "    }\n",
              "\n",
              "    .dataframe thead th {\n",
              "        text-align: right;\n",
              "    }\n",
              "</style>\n",
              "<table border=\"1\" class=\"dataframe\">\n",
              "  <thead>\n",
              "    <tr style=\"text-align: right;\">\n",
              "      <th></th>\n",
              "      <th>sub</th>\n",
              "      <th>median_RT</th>\n",
              "      <th>Q1_RT</th>\n",
              "      <th>Q3_RT</th>\n",
              "      <th>IQR_RT</th>\n",
              "      <th>lower_RT</th>\n",
              "      <th>upper_RT</th>\n",
              "    </tr>\n",
              "  </thead>\n",
              "  <tbody>\n",
              "    <tr>\n",
              "      <th>0</th>\n",
              "      <td>1</td>\n",
              "      <td>0.934903</td>\n",
              "      <td>0.768110</td>\n",
              "      <td>1.201833</td>\n",
              "      <td>0.433722</td>\n",
              "      <td>0.150000</td>\n",
              "      <td>2.069278</td>\n",
              "    </tr>\n",
              "    <tr>\n",
              "      <th>1</th>\n",
              "      <td>2</td>\n",
              "      <td>0.617840</td>\n",
              "      <td>0.551178</td>\n",
              "      <td>0.701380</td>\n",
              "      <td>0.150202</td>\n",
              "      <td>0.250774</td>\n",
              "      <td>1.001783</td>\n",
              "    </tr>\n",
              "    <tr>\n",
              "      <th>2</th>\n",
              "      <td>3</td>\n",
              "      <td>0.634462</td>\n",
              "      <td>0.534604</td>\n",
              "      <td>0.751424</td>\n",
              "      <td>0.216820</td>\n",
              "      <td>0.150000</td>\n",
              "      <td>1.185065</td>\n",
              "    </tr>\n",
              "    <tr>\n",
              "      <th>3</th>\n",
              "      <td>4</td>\n",
              "      <td>1.001492</td>\n",
              "      <td>0.801390</td>\n",
              "      <td>1.268435</td>\n",
              "      <td>0.467045</td>\n",
              "      <td>0.150000</td>\n",
              "      <td>2.202526</td>\n",
              "    </tr>\n",
              "    <tr>\n",
              "      <th>4</th>\n",
              "      <td>5</td>\n",
              "      <td>1.001569</td>\n",
              "      <td>0.818152</td>\n",
              "      <td>1.285121</td>\n",
              "      <td>0.466969</td>\n",
              "      <td>0.150000</td>\n",
              "      <td>2.219060</td>\n",
              "    </tr>\n",
              "  </tbody>\n",
              "</table>\n",
              "</div>"
            ],
            "text/plain": [
              "   sub  median_RT     Q1_RT     Q3_RT    IQR_RT  lower_RT  upper_RT\n",
              "0    1   0.934903  0.768110  1.201833  0.433722  0.150000  2.069278\n",
              "1    2   0.617840  0.551178  0.701380  0.150202  0.250774  1.001783\n",
              "2    3   0.634462  0.534604  0.751424  0.216820  0.150000  1.185065\n",
              "3    4   1.001492  0.801390  1.268435  0.467045  0.150000  2.202526\n",
              "4    5   1.001569  0.818152  1.285121  0.466969  0.150000  2.219060"
            ]
          },
          "execution_count": 5,
          "metadata": {},
          "output_type": "execute_result"
        }
      ],
      "source": [
        "# scale factor\n",
        "sf = 2 # sf * IQR \n",
        "\n",
        "# First step: Calculate median, Q1, Q3, and IQR\n",
        "sub_summary = (dat\n",
        "               .groupby(['sub'])\n",
        "               .agg(median_RT=('rt', 'median'),\n",
        "                    Q1_RT=('rt', lambda x: x.quantile(0.25)),\n",
        "                    Q3_RT=('rt', lambda x: x.quantile(0.75)))\n",
        "               .reset_index())\n",
        "\n",
        "# Calculate IQR\n",
        "sub_summary['IQR_RT'] = sub_summary['Q3_RT'] - sub_summary['Q1_RT']\n",
        "\n",
        "# Second step: Calculate lower and upper bounds using the calculated Q1, Q3, and IQR\n",
        "sub_summary['lower_RT'] = sub_summary['Q1_RT'] - sf * sub_summary['IQR_RT']\n",
        "sub_summary['upper_RT'] = sub_summary['Q3_RT'] + sf * sub_summary['IQR_RT']\n",
        "# lower_RT minimum value is 0.15\n",
        "sub_summary['lower_RT'] = sub_summary['lower_RT'].apply(lambda x: 0.15 if x < 0.15 else x)  \n",
        "# upper_RT maximum value is 4\n",
        "sub_summary['upper_RT'] = sub_summary['upper_RT'].apply(lambda x: 4 if x > 4 else x)\n",
        "\n",
        "# Display the first few rows to verify the results\n",
        "sub_summary.head()"
      ]
    },
    {
      "cell_type": "markdown",
      "metadata": {},
      "source": [
        "merge the individual criteria with the raw dat, as `data`, marked those outliers ourside the defined range. "
      ]
    },
    {
      "cell_type": "code",
      "execution_count": 6,
      "metadata": {},
      "outputs": [
        {
          "name": "stdout",
          "output_type": "stream",
          "text": [
            "The outlier rate is 2.82%\n"
          ]
        }
      ],
      "source": [
        "# use sub_summary lower_RT and upper_RT of each subject to mark the outlier in dat\n",
        "\n",
        "data = dat.merge(sub_summary[['sub', 'lower_RT', 'upper_RT']], on='sub')\n",
        "data['outlier'] = (data['rt'] < data['lower_RT']) | (data['rt'] > data['upper_RT']) \n",
        "\n",
        "# calculate the percentage of outliers\n",
        "outlier_percentage = (data\n",
        "                      .groupby(['sub'])\n",
        "                      .agg(outlier_percentage=('outlier', lambda x: x.mean() * 100))\n",
        "                      .reset_index())\n",
        "print(f\"The outlier rate is {outlier_percentage.outlier_percentage.mean():.2f}%\")"
      ]
    },
    {
      "cell_type": "code",
      "execution_count": 7,
      "metadata": {},
      "outputs": [
        {
          "name": "stdout",
          "output_type": "stream",
          "text": [
            "error rate is 1.61%\n"
          ]
        }
      ],
      "source": [
        "print(f\"error rate is {(1- data.correct.mean())*100:.2f}%\")"
      ]
    },
    {
      "cell_type": "code",
      "execution_count": 8,
      "metadata": {},
      "outputs": [
        {
          "name": "stdout",
          "output_type": "stream",
          "text": [
            "exclude rate is 4.13%\n"
          ]
        }
      ],
      "source": [
        "# calculate total error and outlier rate (correct == 0 or outlier is True)\n",
        "data['exclude'] = (data['correct'] < 1) | (data['outlier'] == True)\n",
        "print(f\"exclude rate is {data['exclude'].mean()*100:.2f}%\")"
      ]
    },
    {
      "cell_type": "code",
      "execution_count": 9,
      "metadata": {},
      "outputs": [
        {
          "data": {
            "text/html": [
              "<div>\n",
              "<style scoped>\n",
              "    .dataframe tbody tr th:only-of-type {\n",
              "        vertical-align: middle;\n",
              "    }\n",
              "\n",
              "    .dataframe tbody tr th {\n",
              "        vertical-align: top;\n",
              "    }\n",
              "\n",
              "    .dataframe thead th {\n",
              "        text-align: right;\n",
              "    }\n",
              "</style>\n",
              "<table border=\"1\" class=\"dataframe\">\n",
              "  <thead>\n",
              "    <tr style=\"text-align: right;\">\n",
              "      <th></th>\n",
              "      <th>sub</th>\n",
              "      <th>volatility</th>\n",
              "      <th>dist_bias</th>\n",
              "      <th>mean_rt</th>\n",
              "      <th>error_rate</th>\n",
              "    </tr>\n",
              "  </thead>\n",
              "  <tbody>\n",
              "    <tr>\n",
              "      <th>0</th>\n",
              "      <td>1</td>\n",
              "      <td>high</td>\n",
              "      <td>absent</td>\n",
              "      <td>0.985284</td>\n",
              "      <td>1.381215</td>\n",
              "    </tr>\n",
              "    <tr>\n",
              "      <th>1</th>\n",
              "      <td>1</td>\n",
              "      <td>high</td>\n",
              "      <td>frequent</td>\n",
              "      <td>1.186675</td>\n",
              "      <td>2.164502</td>\n",
              "    </tr>\n",
              "    <tr>\n",
              "      <th>2</th>\n",
              "      <td>1</td>\n",
              "      <td>high</td>\n",
              "      <td>rare</td>\n",
              "      <td>1.200110</td>\n",
              "      <td>1.181102</td>\n",
              "    </tr>\n",
              "    <tr>\n",
              "      <th>3</th>\n",
              "      <td>1</td>\n",
              "      <td>low</td>\n",
              "      <td>absent</td>\n",
              "      <td>0.847312</td>\n",
              "      <td>0.692521</td>\n",
              "    </tr>\n",
              "    <tr>\n",
              "      <th>4</th>\n",
              "      <td>1</td>\n",
              "      <td>low</td>\n",
              "      <td>frequent</td>\n",
              "      <td>0.968744</td>\n",
              "      <td>0.665188</td>\n",
              "    </tr>\n",
              "  </tbody>\n",
              "</table>\n",
              "</div>"
            ],
            "text/plain": [
              "   sub volatility dist_bias   mean_rt  error_rate\n",
              "0    1       high    absent  0.985284    1.381215\n",
              "1    1       high  frequent  1.186675    2.164502\n",
              "2    1       high      rare  1.200110    1.181102\n",
              "3    1        low    absent  0.847312    0.692521\n",
              "4    1        low  frequent  0.968744    0.665188"
            ]
          },
          "execution_count": 9,
          "metadata": {},
          "output_type": "execute_result"
        }
      ],
      "source": [
        "# replace rt with NA if it is exclude, it will not be included in the analysis of averaging    \n",
        "data['rt'] = data['rt'].where(~data['exclude'])\n",
        "\n",
        "# Calculate mean rt and error rate for each sub within each condition\n",
        "grouped_data = (data\n",
        "                .groupby(['sub', 'volatility','dist_bias'])\n",
        "                .agg(mean_rt=('rt', 'mean'),\n",
        "                     error_rate=('correct', lambda x: (1 - x.mean()) * 100))\n",
        "                .reset_index())\n",
        "# spread the grouped_data to wide format for JASP Bayesian ANOVA\n",
        "mean_data = grouped_data.pivot_table(index=['sub'], columns=['volatility', 'dist_bias'], \n",
        "                         values=['mean_rt', 'error_rate'])\n",
        "mean_data.columns = ['_'.join(col).strip() for col in mean_data.columns.values]\n",
        "mean_data.reset_index().to_csv('./csv/mean_data.csv', index=False)\n",
        "\n",
        "grouped_data.head()"
      ]
    },
    {
      "cell_type": "markdown",
      "metadata": {},
      "source": [
        "\n",
        "### Distractor interference and volatlity effects\n",
        "\n",
        "We first check the distractor interference effect, defined as the distractor presence vs. absence. For the distractor presence trials, we have two distractor locations: high vs. low probability distractor locations. This distractor conditions are defined in the column `dist_bias` (frequent, rare, absent).\n",
        "In addition, we have two distractor volatility conditions: high vs. low volatility from the column `volatility` (high, low)."
      ]
    },
    {
      "cell_type": "code",
      "execution_count": 10,
      "metadata": {},
      "outputs": [
        {
          "data": {
            "text/html": [
              "<div>\n",
              "<style scoped>\n",
              "    .dataframe tbody tr th:only-of-type {\n",
              "        vertical-align: middle;\n",
              "    }\n",
              "\n",
              "    .dataframe tbody tr th {\n",
              "        vertical-align: top;\n",
              "    }\n",
              "\n",
              "    .dataframe thead th {\n",
              "        text-align: right;\n",
              "    }\n",
              "</style>\n",
              "<table border=\"1\" class=\"dataframe\">\n",
              "  <thead>\n",
              "    <tr style=\"text-align: right;\">\n",
              "      <th></th>\n",
              "      <th>volatility</th>\n",
              "      <th>region</th>\n",
              "      <th>interference</th>\n",
              "    </tr>\n",
              "  </thead>\n",
              "  <tbody>\n",
              "    <tr>\n",
              "      <th>0</th>\n",
              "      <td>high</td>\n",
              "      <td>frequent</td>\n",
              "      <td>85.77</td>\n",
              "    </tr>\n",
              "    <tr>\n",
              "      <th>1</th>\n",
              "      <td>high</td>\n",
              "      <td>rare</td>\n",
              "      <td>191.79</td>\n",
              "    </tr>\n",
              "    <tr>\n",
              "      <th>2</th>\n",
              "      <td>low</td>\n",
              "      <td>frequent</td>\n",
              "      <td>63.68</td>\n",
              "    </tr>\n",
              "    <tr>\n",
              "      <th>3</th>\n",
              "      <td>low</td>\n",
              "      <td>rare</td>\n",
              "      <td>137.77</td>\n",
              "    </tr>\n",
              "  </tbody>\n",
              "</table>\n",
              "</div>"
            ],
            "text/plain": [
              "  volatility    region  interference\n",
              "0       high  frequent         85.77\n",
              "1       high      rare        191.79\n",
              "2        low  frequent         63.68\n",
              "3        low      rare        137.77"
            ]
          },
          "execution_count": 10,
          "metadata": {},
          "output_type": "execute_result"
        }
      ],
      "source": [
        "# calculate the interference effect: dist_bias as the baseline, and calculate the difference between rare and baseline, frequent and baseline, for each subj, volatility\n",
        "dis_interference = (grouped_data\n",
        "                .pivot_table(index=['sub', 'volatility'], columns='dist_bias', values='mean_rt')\n",
        "                .reset_index()\n",
        "                .assign(frequent=lambda df: (df['frequent'] - df['absent'])*1000,\n",
        "                        rare=lambda df: (df['rare'] - df['absent'])*1000)\n",
        "                .melt(id_vars=['sub', 'volatility'], value_vars=['frequent', 'rare'],\n",
        "                      var_name='region', value_name='interference'))\n",
        "\n",
        "dis_interference.groupby(['volatility', 'region']).interference.mean().reset_index().round(2)"
      ]
    },
    {
      "cell_type": "code",
      "execution_count": 11,
      "metadata": {},
      "outputs": [
        {
          "name": "stdout",
          "output_type": "stream",
          "text": [
            "p-values:\n",
            "(array([ True,  True,  True,  True]), array([9.15947129e-13, 6.72492318e-08, 6.11199181e-07, 7.72767206e-05]))\n",
            "cohen-d:\n",
            "[3.0617267293810535, 1.723380462515543, 1.514222149116487, 1.0935187856785316]\n"
          ]
        }
      ],
      "source": [
        "# t-test for interference effect, separate for high and low volatility\n",
        "tt1 = pg.ttest(dis_interference.query('volatility==\"low\" and region == \"rare\"').interference, 0)\n",
        "tt2 = pg.ttest(dis_interference.query('volatility==\"high\" and region == \"rare\"').interference, 0)\n",
        "tt3 = pg.ttest(dis_interference.query('volatility==\"low\" and region == \"frequent\"').interference, 0)\n",
        "tt4 = pg.ttest(dis_interference.query('volatility==\"high\" and region == \"frequent\"').interference, 0)\n",
        "## add all p-val to a list\n",
        "p_val = [tt1['p-val'][0], tt2['p-val'][0], tt3['p-val'][0], tt4['p-val'][0]]\n",
        "## add all cohen-d to a list\n",
        "cohen_d = [tt1['cohen-d'][0], tt2['cohen-d'][0], tt3['cohen-d'][0], tt4['cohen-d'][0]]\n",
        "# print the list bonferroni correction\n",
        "print('p-values:')\n",
        "print(pg.multicomp(p_val, method='bonf'))\n",
        "print('cohen-d:')\n",
        "print(cohen_d)\n"
      ]
    },
    {
      "cell_type": "code",
      "execution_count": 12,
      "metadata": {},
      "outputs": [
        {
          "data": {
            "text/html": [
              "<div>\n",
              "<style scoped>\n",
              "    .dataframe tbody tr th:only-of-type {\n",
              "        vertical-align: middle;\n",
              "    }\n",
              "\n",
              "    .dataframe tbody tr th {\n",
              "        vertical-align: top;\n",
              "    }\n",
              "\n",
              "    .dataframe thead th {\n",
              "        text-align: right;\n",
              "    }\n",
              "</style>\n",
              "<table border=\"1\" class=\"dataframe\">\n",
              "  <thead>\n",
              "    <tr style=\"text-align: right;\">\n",
              "      <th></th>\n",
              "      <th>T</th>\n",
              "      <th>dof</th>\n",
              "      <th>alternative</th>\n",
              "      <th>p-val</th>\n",
              "      <th>CI95%</th>\n",
              "      <th>cohen-d</th>\n",
              "      <th>BF10</th>\n",
              "      <th>power</th>\n",
              "    </tr>\n",
              "  </thead>\n",
              "  <tbody>\n",
              "    <tr>\n",
              "      <th>T-test</th>\n",
              "      <td>8.044032</td>\n",
              "      <td>23</td>\n",
              "      <td>two-sided</td>\n",
              "      <td>3.903199e-08</td>\n",
              "      <td>[55.04, 93.14]</td>\n",
              "      <td>1.701189</td>\n",
              "      <td>3.607e+05</td>\n",
              "      <td>1.0</td>\n",
              "    </tr>\n",
              "  </tbody>\n",
              "</table>\n",
              "</div>"
            ],
            "text/plain": [
              "               T  dof alternative         p-val           CI95%   cohen-d  \\\n",
              "T-test  8.044032   23   two-sided  3.903199e-08  [55.04, 93.14]  1.701189   \n",
              "\n",
              "             BF10  power  \n",
              "T-test  3.607e+05    1.0  "
            ]
          },
          "execution_count": 12,
          "metadata": {},
          "output_type": "execute_result"
        }
      ],
      "source": [
        "# paired t-test for interference effect, separate for high and low volatility\n",
        "pg.ttest(dis_interference.query('volatility==\"low\" and region == \"rare\"').interference,\n",
        "               dis_interference.query('volatility==\"low\" and region == \"frequent\"').interference, paired=True)"
      ]
    },
    {
      "cell_type": "code",
      "execution_count": 13,
      "metadata": {},
      "outputs": [
        {
          "data": {
            "text/html": [
              "<div>\n",
              "<style scoped>\n",
              "    .dataframe tbody tr th:only-of-type {\n",
              "        vertical-align: middle;\n",
              "    }\n",
              "\n",
              "    .dataframe tbody tr th {\n",
              "        vertical-align: top;\n",
              "    }\n",
              "\n",
              "    .dataframe thead th {\n",
              "        text-align: right;\n",
              "    }\n",
              "</style>\n",
              "<table border=\"1\" class=\"dataframe\">\n",
              "  <thead>\n",
              "    <tr style=\"text-align: right;\">\n",
              "      <th></th>\n",
              "      <th>T</th>\n",
              "      <th>dof</th>\n",
              "      <th>alternative</th>\n",
              "      <th>p-val</th>\n",
              "      <th>CI95%</th>\n",
              "      <th>cohen-d</th>\n",
              "      <th>BF10</th>\n",
              "      <th>power</th>\n",
              "    </tr>\n",
              "  </thead>\n",
              "  <tbody>\n",
              "    <tr>\n",
              "      <th>T-test</th>\n",
              "      <td>7.100411</td>\n",
              "      <td>23</td>\n",
              "      <td>two-sided</td>\n",
              "      <td>3.116291e-07</td>\n",
              "      <td>[75.13, 136.91]</td>\n",
              "      <td>1.101315</td>\n",
              "      <td>5.249e+04</td>\n",
              "      <td>0.999311</td>\n",
              "    </tr>\n",
              "  </tbody>\n",
              "</table>\n",
              "</div>"
            ],
            "text/plain": [
              "               T  dof alternative         p-val            CI95%   cohen-d  \\\n",
              "T-test  7.100411   23   two-sided  3.116291e-07  [75.13, 136.91]  1.101315   \n",
              "\n",
              "             BF10     power  \n",
              "T-test  5.249e+04  0.999311  "
            ]
          },
          "execution_count": 13,
          "metadata": {},
          "output_type": "execute_result"
        }
      ],
      "source": [
        "pg.ttest(dis_interference.query('volatility==\"high\" and region == \"rare\"').interference,\n",
        "               dis_interference.query('volatility==\"high\" and region == \"frequent\"').interference, paired=True)"
      ]
    },
    {
      "cell_type": "markdown",
      "metadata": {},
      "source": [
        "Let's visualize the distractor interference effect in the RT."
      ]
    },
    {
      "cell_type": "code",
      "execution_count": 14,
      "metadata": {},
      "outputs": [
        {
          "data": {
            "image/png": "[encoded data removed]",
            "text/plain": [
              "<Figure size 640x480 with 2 Axes>"
            ]
          },
          "metadata": {},
          "output_type": "display_data"
        }
      ],
      "source": [
        "def plot_rt(ax):\n",
        "    # initialize the plot size\n",
        "    #ax.figure.set_size_inches(3.5, 3.5)\n",
        "    # visualize the mean rt and error rate within one graph as scatter plot and bar plot\n",
        "    sns.barplot(data=grouped_data, x='dist_bias', y='mean_rt', hue='volatility', \n",
        "                width=0.7, gap = 0.2, ax = ax)\n",
        "    # add stripplot on top of the bar plot\n",
        "    sns.stripplot(data=grouped_data, x='dist_bias', y='mean_rt', hue='volatility', \n",
        "                  dodge=True, alpha = .25, zorder =1, legend = False, ax = ax)\n",
        "    # y-axis label: Response Time (s)\n",
        "    ax.set_ylabel('Response Time (s)')\n",
        "    ax.set_xlabel('Distractor Condition')    \n",
        "    # add right y-axis label: Error Rate (%), without confidence interval\n",
        "    ax2 = ax.twinx()\n",
        "    sns.pointplot(data=grouped_data, x='dist_bias', y='error_rate', hue='volatility', markers = ['o', 's'], \n",
        "                  linestyles = ['-', '--'],  join = False, scale = 0.7, alpha = 0.5, ci = None, legend = False, ax = ax2)\n",
        "\n",
        "    ax2.set_ylim(0, 10)\n",
        "    ax2.set_ylabel('Error Rate (%)')\n",
        "\n",
        "plot_rt(plt.gca())\n"
      ]
    },
    {
      "cell_type": "code",
      "execution_count": 15,
      "metadata": {},
      "outputs": [
        {
          "data": {
            "text/html": [
              "<div>\n",
              "<style scoped>\n",
              "    .dataframe tbody tr th:only-of-type {\n",
              "        vertical-align: middle;\n",
              "    }\n",
              "\n",
              "    .dataframe tbody tr th {\n",
              "        vertical-align: top;\n",
              "    }\n",
              "\n",
              "    .dataframe thead th {\n",
              "        text-align: right;\n",
              "    }\n",
              "</style>\n",
              "<table border=\"1\" class=\"dataframe\">\n",
              "  <thead>\n",
              "    <tr style=\"text-align: right;\">\n",
              "      <th></th>\n",
              "      <th>Source</th>\n",
              "      <th>SS</th>\n",
              "      <th>ddof1</th>\n",
              "      <th>ddof2</th>\n",
              "      <th>MS</th>\n",
              "      <th>F</th>\n",
              "      <th>p-unc</th>\n",
              "      <th>p-GG-corr</th>\n",
              "      <th>ng2</th>\n",
              "      <th>eps</th>\n",
              "    </tr>\n",
              "  </thead>\n",
              "  <tbody>\n",
              "    <tr>\n",
              "      <th>0</th>\n",
              "      <td>volatility</td>\n",
              "      <td>1.382</td>\n",
              "      <td>1</td>\n",
              "      <td>23</td>\n",
              "      <td>1.382</td>\n",
              "      <td>0.301</td>\n",
              "      <td>0.588</td>\n",
              "      <td>0.588</td>\n",
              "      <td>0.003</td>\n",
              "      <td>1.000</td>\n",
              "    </tr>\n",
              "    <tr>\n",
              "      <th>1</th>\n",
              "      <td>dist_bias</td>\n",
              "      <td>0.401</td>\n",
              "      <td>2</td>\n",
              "      <td>46</td>\n",
              "      <td>0.201</td>\n",
              "      <td>0.338</td>\n",
              "      <td>0.715</td>\n",
              "      <td>0.705</td>\n",
              "      <td>0.001</td>\n",
              "      <td>0.954</td>\n",
              "    </tr>\n",
              "    <tr>\n",
              "      <th>2</th>\n",
              "      <td>volatility * dist_bias</td>\n",
              "      <td>1.747</td>\n",
              "      <td>2</td>\n",
              "      <td>46</td>\n",
              "      <td>0.874</td>\n",
              "      <td>2.447</td>\n",
              "      <td>0.098</td>\n",
              "      <td>0.104</td>\n",
              "      <td>0.004</td>\n",
              "      <td>0.894</td>\n",
              "    </tr>\n",
              "  </tbody>\n",
              "</table>\n",
              "</div>"
            ],
            "text/plain": [
              "                   Source     SS  ddof1  ddof2     MS      F  p-unc  \\\n",
              "0              volatility  1.382      1     23  1.382  0.301  0.588   \n",
              "1               dist_bias  0.401      2     46  0.201  0.338  0.715   \n",
              "2  volatility * dist_bias  1.747      2     46  0.874  2.447  0.098   \n",
              "\n",
              "   p-GG-corr    ng2    eps  \n",
              "0      0.588  0.003  1.000  \n",
              "1      0.705  0.001  0.954  \n",
              "2      0.104  0.004  0.894  "
            ]
          },
          "execution_count": 15,
          "metadata": {},
          "output_type": "execute_result"
        }
      ],
      "source": [
        "##Statistics: global inhibition_rt\n",
        "pg.rm_anova(dv='error_rate', within=['volatility','dist_bias'], subject='sub', data=grouped_data, detailed=True).round(3)\n"
      ]
    },
    {
      "cell_type": "code",
      "execution_count": 16,
      "metadata": {},
      "outputs": [
        {
          "data": {
            "text/html": [
              "<div>\n",
              "<style scoped>\n",
              "    .dataframe tbody tr th:only-of-type {\n",
              "        vertical-align: middle;\n",
              "    }\n",
              "\n",
              "    .dataframe tbody tr th {\n",
              "        vertical-align: top;\n",
              "    }\n",
              "\n",
              "    .dataframe thead th {\n",
              "        text-align: right;\n",
              "    }\n",
              "</style>\n",
              "<table border=\"1\" class=\"dataframe\">\n",
              "  <thead>\n",
              "    <tr style=\"text-align: right;\">\n",
              "      <th></th>\n",
              "      <th>Source</th>\n",
              "      <th>SS</th>\n",
              "      <th>ddof1</th>\n",
              "      <th>ddof2</th>\n",
              "      <th>MS</th>\n",
              "      <th>F</th>\n",
              "      <th>p-unc</th>\n",
              "      <th>p-GG-corr</th>\n",
              "      <th>np2</th>\n",
              "      <th>eps</th>\n",
              "    </tr>\n",
              "  </thead>\n",
              "  <tbody>\n",
              "    <tr>\n",
              "      <th>0</th>\n",
              "      <td>volatility</td>\n",
              "      <td>0.556</td>\n",
              "      <td>1</td>\n",
              "      <td>23</td>\n",
              "      <td>0.556</td>\n",
              "      <td>12.655</td>\n",
              "      <td>0.002</td>\n",
              "      <td>0.002</td>\n",
              "      <td>0.355</td>\n",
              "      <td>1.000</td>\n",
              "    </tr>\n",
              "    <tr>\n",
              "      <th>1</th>\n",
              "      <td>dist_bias</td>\n",
              "      <td>0.654</td>\n",
              "      <td>2</td>\n",
              "      <td>46</td>\n",
              "      <td>0.327</td>\n",
              "      <td>92.987</td>\n",
              "      <td>0.000</td>\n",
              "      <td>0.000</td>\n",
              "      <td>0.802</td>\n",
              "      <td>0.856</td>\n",
              "    </tr>\n",
              "    <tr>\n",
              "      <th>2</th>\n",
              "      <td>volatility * dist_bias</td>\n",
              "      <td>0.018</td>\n",
              "      <td>2</td>\n",
              "      <td>46</td>\n",
              "      <td>0.009</td>\n",
              "      <td>6.152</td>\n",
              "      <td>0.004</td>\n",
              "      <td>0.010</td>\n",
              "      <td>0.211</td>\n",
              "      <td>0.746</td>\n",
              "    </tr>\n",
              "  </tbody>\n",
              "</table>\n",
              "</div>"
            ],
            "text/plain": [
              "                   Source     SS  ddof1  ddof2     MS       F  p-unc  \\\n",
              "0              volatility  0.556      1     23  0.556  12.655  0.002   \n",
              "1               dist_bias  0.654      2     46  0.327  92.987  0.000   \n",
              "2  volatility * dist_bias  0.018      2     46  0.009   6.152  0.004   \n",
              "\n",
              "   p-GG-corr    np2    eps  \n",
              "0      0.002  0.355  1.000  \n",
              "1      0.000  0.802  0.856  \n",
              "2      0.010  0.211  0.746  "
            ]
          },
          "execution_count": 16,
          "metadata": {},
          "output_type": "execute_result"
        }
      ],
      "source": [
        "pg.rm_anova(dv='mean_rt', within=['volatility','dist_bias'], subject='sub', data=grouped_data, detailed=True, effsize='np2', correction=True).round(3)\n"
      ]
    },
    {
      "cell_type": "code",
      "execution_count": 17,
      "metadata": {},
      "outputs": [
        {
          "name": "stdout",
          "output_type": "stream",
          "text": [
            "Mean RT for high vs. low volatility:\n"
          ]
        },
        {
          "data": {
            "text/plain": [
              "volatility\n",
              "high    1127.0\n",
              "low     1002.0\n",
              "Name: mean_rt, dtype: float64"
            ]
          },
          "execution_count": 17,
          "metadata": {},
          "output_type": "execute_result"
        }
      ],
      "source": [
        "print(\"Mean RT for high vs. low volatility:\")\n",
        "round(grouped_data.groupby('volatility').mean_rt.mean()*1000)"
      ]
    },
    {
      "cell_type": "markdown",
      "metadata": {},
      "source": [
        "On average, RTs were 125 ms slower when participants performed the task under high- vs. low-volatility trial-sequence conditions (1127 ms vs. 1002 ms)."
      ]
    },
    {
      "cell_type": "markdown",
      "metadata": {},
      "source": [
        "Note for the statistics: There was no significant differences for the error rates. However, Both volatlity and distractor types and their interaction were significant for the RTs. This is likely due to the different distractor interference (high vs. low) in the high vs. low volatility conditions. \n"
      ]
    },
    {
      "cell_type": "markdown",
      "metadata": {},
      "source": [
        "### Distractor interference and distractor-location (probability-cueing effect)\n",
        "\n",
        "To better understand the interaction, we use the `distractor absent` condition as the baseline, and compare the distractor interference effect defined by the difference between rare and frequent locations, in the high vs. low volatility conditions."
      ]
    },
    {
      "cell_type": "code",
      "execution_count": 18,
      "metadata": {},
      "outputs": [
        {
          "name": "stdout",
          "output_type": "stream",
          "text": [
            "dist_bias    pcue  dis_freq  dis_rare\n",
            "volatility                           \n",
            "high        106.0      86.0     192.0\n",
            "low          74.0      64.0     138.0\n"
          ]
        }
      ],
      "source": [
        "# now pivot dist_bias to columns, and calculate differences between rare and freq within each volatility and sub\n",
        "prob_cueing = (grouped_data\n",
        "        .pivot_table(index=['sub', 'volatility'], columns='dist_bias', values='mean_rt')\n",
        "        .assign(pcue = lambda df: (df['rare'] - df['frequent'])*1000,\n",
        "                dis_freq=lambda df: (df['frequent'] - df['absent'])*1000,\n",
        "                dis_rare = lambda df: (df['rare'] - df['absent'])*1000) # probablistic cueing effect\n",
        "        .reset_index())\n",
        "print(prob_cueing.groupby('volatility')[['pcue', 'dis_freq','dis_rare']].mean().round())\n",
        "\n"
      ]
    },
    {
      "cell_type": "markdown",
      "metadata": {},
      "source": [
        "In the high volatility session, the distractor inference was 86 ms for the distractor at the frequent location and 192 ms for those at at rare locations. In the low volatility session, the interference measured 64 ms for the requent location and 138 ms for rare locations."
      ]
    },
    {
      "cell_type": "code",
      "execution_count": 19,
      "metadata": {},
      "outputs": [
        {
          "data": {
            "image/png": "[encoded data removed]",
            "text/plain": [
              "<Figure size 640x480 with 1 Axes>"
            ]
          },
          "metadata": {},
          "output_type": "display_data"
        }
      ],
      "source": [
        "def plot_dcue(ax):\n",
        "    # initialize the plot size\n",
        "    #ax.figure.set_size_inches(3.5, 3.5)\n",
        "    # visualize the mean probability cueing (`pcue`) for each volatility as bar plot\n",
        "    sns.barplot(data=prob_cueing, x='volatility', y='pcue', hue = 'volatility', width = 0.7, gap = 0.2, ax=ax)\n",
        "    ax.set_ylabel('Distractor-location effect (ms)')\n",
        "    ax.set_xlabel('Volatility Type')\n",
        "    # add significance bar and annotation\n",
        "    y_max = 150\n",
        "    y, h, col = y_max + y_max/50, y_max/50, 'k'\n",
        "    ax.plot([0, 0, 1, 1], [y, y+h, y+h, y], lw=1.5, c=col)\n",
        "    ax.text((0+1)/2, y+h, \"*\", ha='center', va='bottom', color=col)\n",
        "    ax.set_ylim(-30, 160)\n",
        "\n",
        "plot_dcue(plt.gca())\n"
      ]
    },
    {
      "cell_type": "code",
      "execution_count": 20,
      "metadata": {},
      "outputs": [
        {
          "data": {
            "text/html": [
              "<div>\n",
              "<style scoped>\n",
              "    .dataframe tbody tr th:only-of-type {\n",
              "        vertical-align: middle;\n",
              "    }\n",
              "\n",
              "    .dataframe tbody tr th {\n",
              "        vertical-align: top;\n",
              "    }\n",
              "\n",
              "    .dataframe thead th {\n",
              "        text-align: right;\n",
              "    }\n",
              "</style>\n",
              "<table border=\"1\" class=\"dataframe\">\n",
              "  <thead>\n",
              "    <tr style=\"text-align: right;\">\n",
              "      <th></th>\n",
              "      <th>Contrast</th>\n",
              "      <th>A</th>\n",
              "      <th>B</th>\n",
              "      <th>Paired</th>\n",
              "      <th>Parametric</th>\n",
              "      <th>T</th>\n",
              "      <th>dof</th>\n",
              "      <th>alternative</th>\n",
              "      <th>p-unc</th>\n",
              "      <th>BF10</th>\n",
              "      <th>cohen</th>\n",
              "    </tr>\n",
              "  </thead>\n",
              "  <tbody>\n",
              "    <tr>\n",
              "      <th>0</th>\n",
              "      <td>volatility</td>\n",
              "      <td>high</td>\n",
              "      <td>low</td>\n",
              "      <td>True</td>\n",
              "      <td>True</td>\n",
              "      <td>2.35</td>\n",
              "      <td>23.0</td>\n",
              "      <td>two-sided</td>\n",
              "      <td>0.028</td>\n",
              "      <td>2.087</td>\n",
              "      <td>0.525</td>\n",
              "    </tr>\n",
              "  </tbody>\n",
              "</table>\n",
              "</div>"
            ],
            "text/plain": [
              "     Contrast     A    B  Paired  Parametric     T   dof alternative  p-unc  \\\n",
              "0  volatility  high  low    True        True  2.35  23.0   two-sided  0.028   \n",
              "\n",
              "    BF10  cohen  \n",
              "0  2.087  0.525  "
            ]
          },
          "execution_count": 20,
          "metadata": {},
          "output_type": "execute_result"
        }
      ],
      "source": [
        "pg.pairwise_tests(dv ='pcue', within=['volatility'], subject='sub', \n",
        "                  data=prob_cueing, padjust='fdr_bh', effsize='cohen').round(3)"
      ]
    },
    {
      "cell_type": "markdown",
      "metadata": {},
      "source": [
        "statistical note: the probability cueing was higher in the high volatility condition than the low volatility condition.\n",
        "\n"
      ]
    },
    {
      "cell_type": "markdown",
      "metadata": {},
      "source": [
        "### Target-location effect\n",
        "\n",
        "Next, we will examine the Target location effect, defined by the target appeared at the frequent vs. rare locations, separately for the high vs. low volatility conditions."
      ]
    },
    {
      "cell_type": "code",
      "execution_count": 21,
      "metadata": {},
      "outputs": [
        {
          "name": "stdout",
          "output_type": "stream",
          "text": [
            "tar_bias      ptar  rptar\n",
            "volatility               \n",
            "high        84.560  0.083\n",
            "low         14.523  0.019\n"
          ]
        }
      ],
      "source": [
        "# target location was stored in the column `tar_bias`\n",
        "target_location = (data.query('tar_bias != \"none\"') #filter out distractor present trials\n",
        "                     .groupby(['sub', 'volatility', 'tar_bias'])\n",
        "                     .agg(mean_rt=('rt', 'mean'))\n",
        "                     .pivot_table(index=['sub', 'volatility'], columns='tar_bias', values='mean_rt')\n",
        "                     .assign(ptar=lambda x: (x['frequent'] - x['rare'])*1000,  # target location effect\n",
        "                             rptar = lambda x: ((x['frequent'] - x['rare'])/(x['frequent'] + x['rare'])*2)) # relative target location effect\n",
        "                     .reset_index())\n",
        "print(target_location.groupby('volatility')[['ptar', 'rptar']].mean().round(3))"
      ]
    },
    {
      "cell_type": "code",
      "execution_count": 22,
      "metadata": {},
      "outputs": [
        {
          "data": {
            "text/html": [
              "<div>\n",
              "<style scoped>\n",
              "    .dataframe tbody tr th:only-of-type {\n",
              "        vertical-align: middle;\n",
              "    }\n",
              "\n",
              "    .dataframe tbody tr th {\n",
              "        vertical-align: top;\n",
              "    }\n",
              "\n",
              "    .dataframe thead th {\n",
              "        text-align: right;\n",
              "    }\n",
              "</style>\n",
              "<table border=\"1\" class=\"dataframe\">\n",
              "  <thead>\n",
              "    <tr style=\"text-align: right;\">\n",
              "      <th></th>\n",
              "      <th>Contrast</th>\n",
              "      <th>A</th>\n",
              "      <th>B</th>\n",
              "      <th>Paired</th>\n",
              "      <th>Parametric</th>\n",
              "      <th>T</th>\n",
              "      <th>dof</th>\n",
              "      <th>alternative</th>\n",
              "      <th>p-unc</th>\n",
              "      <th>BF10</th>\n",
              "      <th>cohen</th>\n",
              "    </tr>\n",
              "  </thead>\n",
              "  <tbody>\n",
              "    <tr>\n",
              "      <th>0</th>\n",
              "      <td>volatility</td>\n",
              "      <td>high</td>\n",
              "      <td>low</td>\n",
              "      <td>True</td>\n",
              "      <td>True</td>\n",
              "      <td>3.5385</td>\n",
              "      <td>23.0</td>\n",
              "      <td>two-sided</td>\n",
              "      <td>0.0018</td>\n",
              "      <td>21.465</td>\n",
              "      <td>0.6146</td>\n",
              "    </tr>\n",
              "  </tbody>\n",
              "</table>\n",
              "</div>"
            ],
            "text/plain": [
              "     Contrast     A    B  Paired  Parametric       T   dof alternative  \\\n",
              "0  volatility  high  low    True        True  3.5385  23.0   two-sided   \n",
              "\n",
              "    p-unc    BF10   cohen  \n",
              "0  0.0018  21.465  0.6146  "
            ]
          },
          "execution_count": 22,
          "metadata": {},
          "output_type": "execute_result"
        }
      ],
      "source": [
        "# statistical test of target location effect `ptar` between volatilities\n",
        "pg.pairwise_ttests(dv='ptar', within='volatility', subject='sub', data=target_location, padjust='fdr_bh', effsize='cohen').round(4)"
      ]
    },
    {
      "cell_type": "code",
      "execution_count": 23,
      "metadata": {},
      "outputs": [
        {
          "data": {
            "text/html": [
              "<div>\n",
              "<style scoped>\n",
              "    .dataframe tbody tr th:only-of-type {\n",
              "        vertical-align: middle;\n",
              "    }\n",
              "\n",
              "    .dataframe tbody tr th {\n",
              "        vertical-align: top;\n",
              "    }\n",
              "\n",
              "    .dataframe thead th {\n",
              "        text-align: right;\n",
              "    }\n",
              "</style>\n",
              "<table border=\"1\" class=\"dataframe\">\n",
              "  <thead>\n",
              "    <tr style=\"text-align: right;\">\n",
              "      <th></th>\n",
              "      <th>Contrast</th>\n",
              "      <th>A</th>\n",
              "      <th>B</th>\n",
              "      <th>Paired</th>\n",
              "      <th>Parametric</th>\n",
              "      <th>T</th>\n",
              "      <th>dof</th>\n",
              "      <th>alternative</th>\n",
              "      <th>p-unc</th>\n",
              "      <th>BF10</th>\n",
              "      <th>cohen</th>\n",
              "    </tr>\n",
              "  </thead>\n",
              "  <tbody>\n",
              "    <tr>\n",
              "      <th>0</th>\n",
              "      <td>volatility</td>\n",
              "      <td>high</td>\n",
              "      <td>low</td>\n",
              "      <td>True</td>\n",
              "      <td>True</td>\n",
              "      <td>4.1593</td>\n",
              "      <td>23.0</td>\n",
              "      <td>two-sided</td>\n",
              "      <td>0.0004</td>\n",
              "      <td>82.57</td>\n",
              "      <td>0.5816</td>\n",
              "    </tr>\n",
              "  </tbody>\n",
              "</table>\n",
              "</div>"
            ],
            "text/plain": [
              "     Contrast     A    B  Paired  Parametric       T   dof alternative  \\\n",
              "0  volatility  high  low    True        True  4.1593  23.0   two-sided   \n",
              "\n",
              "    p-unc   BF10   cohen  \n",
              "0  0.0004  82.57  0.5816  "
            ]
          },
          "execution_count": 23,
          "metadata": {},
          "output_type": "execute_result"
        }
      ],
      "source": [
        "pg.pairwise_ttests(dv='rptar', within='volatility', subject='sub', data=target_location, padjust='fdr_bh', effsize='cohen').round(4)"
      ]
    },
    {
      "cell_type": "markdown",
      "metadata": {},
      "source": [
        "Both absolute and relative target-location effects differ significantly. "
      ]
    },
    {
      "cell_type": "code",
      "execution_count": 24,
      "metadata": {},
      "outputs": [
        {
          "data": {
            "text/html": [
              "<div>\n",
              "<style scoped>\n",
              "    .dataframe tbody tr th:only-of-type {\n",
              "        vertical-align: middle;\n",
              "    }\n",
              "\n",
              "    .dataframe tbody tr th {\n",
              "        vertical-align: top;\n",
              "    }\n",
              "\n",
              "    .dataframe thead th {\n",
              "        text-align: right;\n",
              "    }\n",
              "</style>\n",
              "<table border=\"1\" class=\"dataframe\">\n",
              "  <thead>\n",
              "    <tr style=\"text-align: right;\">\n",
              "      <th></th>\n",
              "      <th>T</th>\n",
              "      <th>dof</th>\n",
              "      <th>alternative</th>\n",
              "      <th>p-val</th>\n",
              "      <th>CI95%</th>\n",
              "      <th>cohen-d</th>\n",
              "      <th>BF10</th>\n",
              "      <th>power</th>\n",
              "    </tr>\n",
              "  </thead>\n",
              "  <tbody>\n",
              "    <tr>\n",
              "      <th>T-test</th>\n",
              "      <td>0.646604</td>\n",
              "      <td>23</td>\n",
              "      <td>two-sided</td>\n",
              "      <td>0.524289</td>\n",
              "      <td>[-31.94, 60.98]</td>\n",
              "      <td>0.131987</td>\n",
              "      <td>0.26</td>\n",
              "      <td>0.095067</td>\n",
              "    </tr>\n",
              "  </tbody>\n",
              "</table>\n",
              "</div>"
            ],
            "text/plain": [
              "               T  dof alternative     p-val            CI95%   cohen-d  BF10  \\\n",
              "T-test  0.646604   23   two-sided  0.524289  [-31.94, 60.98]  0.131987  0.26   \n",
              "\n",
              "           power  \n",
              "T-test  0.095067  "
            ]
          },
          "execution_count": 24,
          "metadata": {},
          "output_type": "execute_result"
        }
      ],
      "source": [
        "pg.ttest(target_location.query('volatility==\"low\"').ptar, 0)\n"
      ]
    },
    {
      "cell_type": "code",
      "execution_count": 25,
      "metadata": {},
      "outputs": [
        {
          "data": {
            "text/html": [
              "<div>\n",
              "<style scoped>\n",
              "    .dataframe tbody tr th:only-of-type {\n",
              "        vertical-align: middle;\n",
              "    }\n",
              "\n",
              "    .dataframe tbody tr th {\n",
              "        vertical-align: top;\n",
              "    }\n",
              "\n",
              "    .dataframe thead th {\n",
              "        text-align: right;\n",
              "    }\n",
              "</style>\n",
              "<table border=\"1\" class=\"dataframe\">\n",
              "  <thead>\n",
              "    <tr style=\"text-align: right;\">\n",
              "      <th></th>\n",
              "      <th>T</th>\n",
              "      <th>dof</th>\n",
              "      <th>alternative</th>\n",
              "      <th>p-val</th>\n",
              "      <th>CI95%</th>\n",
              "      <th>cohen-d</th>\n",
              "      <th>BF10</th>\n",
              "      <th>power</th>\n",
              "    </tr>\n",
              "  </thead>\n",
              "  <tbody>\n",
              "    <tr>\n",
              "      <th>T-test</th>\n",
              "      <td>3.518449</td>\n",
              "      <td>23</td>\n",
              "      <td>two-sided</td>\n",
              "      <td>0.001843</td>\n",
              "      <td>[34.84, 134.28]</td>\n",
              "      <td>0.7182</td>\n",
              "      <td>20.569</td>\n",
              "      <td>0.920459</td>\n",
              "    </tr>\n",
              "  </tbody>\n",
              "</table>\n",
              "</div>"
            ],
            "text/plain": [
              "               T  dof alternative     p-val            CI95%  cohen-d    BF10  \\\n",
              "T-test  3.518449   23   two-sided  0.001843  [34.84, 134.28]   0.7182  20.569   \n",
              "\n",
              "           power  \n",
              "T-test  0.920459  "
            ]
          },
          "execution_count": 25,
          "metadata": {},
          "output_type": "execute_result"
        }
      ],
      "source": [
        "pg.ttest(target_location.query('volatility==\"high\"').ptar, 0)\n"
      ]
    },
    {
      "cell_type": "code",
      "execution_count": 26,
      "metadata": {},
      "outputs": [
        {
          "data": {
            "text/plain": [
              "(array([False,  True]), array([1.    , 0.0036]))"
            ]
          },
          "execution_count": 26,
          "metadata": {},
          "output_type": "execute_result"
        }
      ],
      "source": [
        "pg.multicomp([0.524, 0.0018], method='bonf')"
      ]
    },
    {
      "cell_type": "markdown",
      "metadata": {},
      "source": [
        "the target-location effect turned out to be 85 ms for the high-volatility condition, which was significantly higher than the effect in the low-volatility condition (15 ms), t(23) = 3.53, p = 0.002, BF10 = 21.46, d = 0.62. And while the effect was significantly positive in the high-volatility condition, t(23) = 3.52, p = 0.0036, Bonferoni-corrected, BF10 = 20.57, d = 0.72, it did not differ reliably from zero in the low-volatility condition, t(23) = 0.65, p = 0.52, BF10 = 0.25, d = 0.13. "
      ]
    },
    {
      "cell_type": "code",
      "execution_count": 27,
      "metadata": {},
      "outputs": [
        {
          "data": {
            "image/png": "[encoded data removed]",
            "text/plain": [
              "<Figure size 640x480 with 1 Axes>"
            ]
          },
          "metadata": {},
          "output_type": "display_data"
        }
      ],
      "source": [
        "def plot_tloc(ax):\n",
        "    # initialize the plot size\n",
        "    #ax.figure.set_size_inches(3.5, 3.5)\n",
        "    # visualize the `ptar` for each volatility as bar plot\n",
        "    sns.barplot(data=target_location, x='volatility', y='ptar', hue = 'volatility', width = 0.7, gap = 0.2, ax = ax)\n",
        "    # add stripplot on top of the bar plot\n",
        "    #sns.stripplot(data=target_location, x='volatility', y='ptar', hue='volatility',  alpha = .25, zorder =1, legend = False)\n",
        "    ax.set_ylabel('Target-location Effect (ms)')\n",
        "    ax.set_xlabel('Volatility Type')\n",
        "    # add significance bar and annotation\n",
        "    y_max = 140\n",
        "    y, h, col = y_max + y_max/50, y_max/50, 'k'\n",
        "    ax.plot([0, 0, 1, 1], [y, y+h, y+h, y], lw=1.5, c=col)\n",
        "    ax.text((0+1)/2, y+h, \"**\", ha='center', va='bottom', color=col)\n",
        "    ax.set_ylim(-30, 160)\n",
        "    \n",
        "\n",
        "\n",
        "plot_tloc(plt.gca())"
      ]
    },
    {
      "cell_type": "code",
      "execution_count": 28,
      "metadata": {},
      "outputs": [
        {
          "data": {
            "image/png": "[encoded data removed]",
            "text/plain": [
              "<Figure size 1000x350 with 4 Axes>"
            ]
          },
          "metadata": {},
          "output_type": "display_data"
        }
      ],
      "source": [
        "# combine plot_rt, plot_pcue, and plot_tloc into one figure\n",
        "fig, axes = plt.subplots(1, 3, figsize=(10, 3.5))\n",
        "plot_rt(axes[0])\n",
        "axes[0].text(-0.1, 1.1, 'a', transform=axes[0].transAxes, fontsize=16, fontweight='bold', va='top', ha='right')\n",
        "plot_dcue(axes[1])\n",
        "axes[1].text(-0.1, 1.1, 'b', transform=axes[1].transAxes, fontsize=16, fontweight='bold', va='top', ha='right')\n",
        "plot_tloc(axes[2])\n",
        "axes[2].text(-0.1, 1.1, 'c', transform=axes[2].transAxes, fontsize=16, fontweight='bold', va='top', ha='right')\n",
        "plt.tight_layout()\n",
        "plt.show()\n",
        "# save the figure\n",
        "fig.savefig('./figs/fig2.png', dpi=300, bbox_inches='tight')\n",
        "fig.savefig('./figs/fig2.pdf', dpi=300, bbox_inches='tight')"
      ]
    },
    {
      "attachments": {},
      "cell_type": "markdown",
      "metadata": {},
      "source": [
        "###  Distrator repetition suppression effect\n",
        "\n",
        "#### Distractor interference and distractor repetition"
      ]
    },
    {
      "cell_type": "code",
      "execution_count": 29,
      "metadata": {},
      "outputs": [
        {
          "data": {
            "text/html": [
              "<div>\n",
              "<style scoped>\n",
              "    .dataframe tbody tr th:only-of-type {\n",
              "        vertical-align: middle;\n",
              "    }\n",
              "\n",
              "    .dataframe tbody tr th {\n",
              "        vertical-align: top;\n",
              "    }\n",
              "\n",
              "    .dataframe thead th {\n",
              "        text-align: right;\n",
              "    }\n",
              "</style>\n",
              "<table border=\"1\" class=\"dataframe\">\n",
              "  <thead>\n",
              "    <tr style=\"text-align: right;\">\n",
              "      <th></th>\n",
              "      <th>sub</th>\n",
              "      <th>volatility</th>\n",
              "      <th>dist_repe</th>\n",
              "      <th>rt</th>\n",
              "      <th>trial_count</th>\n",
              "      <th>baseline_rt</th>\n",
              "      <th>interference</th>\n",
              "    </tr>\n",
              "  </thead>\n",
              "  <tbody>\n",
              "    <tr>\n",
              "      <th>1</th>\n",
              "      <td>1</td>\n",
              "      <td>high</td>\n",
              "      <td>1</td>\n",
              "      <td>1.218</td>\n",
              "      <td>510</td>\n",
              "      <td>0.985</td>\n",
              "      <td>233.164</td>\n",
              "    </tr>\n",
              "    <tr>\n",
              "      <th>2</th>\n",
              "      <td>1</td>\n",
              "      <td>high</td>\n",
              "      <td>2</td>\n",
              "      <td>1.134</td>\n",
              "      <td>155</td>\n",
              "      <td>0.985</td>\n",
              "      <td>148.383</td>\n",
              "    </tr>\n",
              "    <tr>\n",
              "      <th>3</th>\n",
              "      <td>1</td>\n",
              "      <td>high</td>\n",
              "      <td>3</td>\n",
              "      <td>1.097</td>\n",
              "      <td>39</td>\n",
              "      <td>0.985</td>\n",
              "      <td>111.972</td>\n",
              "    </tr>\n",
              "    <tr>\n",
              "      <th>4</th>\n",
              "      <td>1</td>\n",
              "      <td>high</td>\n",
              "      <td>4</td>\n",
              "      <td>1.072</td>\n",
              "      <td>9</td>\n",
              "      <td>0.985</td>\n",
              "      <td>87.182</td>\n",
              "    </tr>\n",
              "    <tr>\n",
              "      <th>6</th>\n",
              "      <td>1</td>\n",
              "      <td>low</td>\n",
              "      <td>1</td>\n",
              "      <td>1.071</td>\n",
              "      <td>213</td>\n",
              "      <td>0.847</td>\n",
              "      <td>224.123</td>\n",
              "    </tr>\n",
              "  </tbody>\n",
              "</table>\n",
              "</div>"
            ],
            "text/plain": [
              "   sub volatility  dist_repe     rt  trial_count  baseline_rt  interference\n",
              "1    1       high          1  1.218          510        0.985       233.164\n",
              "2    1       high          2  1.134          155        0.985       148.383\n",
              "3    1       high          3  1.097           39        0.985       111.972\n",
              "4    1       high          4  1.072            9        0.985        87.182\n",
              "6    1        low          1  1.071          213        0.847       224.123"
            ]
          },
          "execution_count": 29,
          "metadata": {},
          "output_type": "execute_result"
        }
      ],
      "source": [
        "# average rt for each sub, volatility, and dist_repe from data\n",
        "# \n",
        "dist_rt_sub0 = (data.query(\"dist_repe < 5\")\n",
        "               .groupby(['sub', 'volatility','dist_repe'])\n",
        "               .agg({'rt':'mean', 'correct':'count'})\n",
        "               .rename(columns={'correct':'trial_count'})\n",
        "               .reset_index())\n",
        "\n",
        "# select dist_repe ==0 as baseline, and merge back to the original data (exclude dist_repe == 0)\n",
        "baseline_rt = dist_rt_sub0.query('dist_repe == 0').rename(columns={'rt': 'baseline_rt'}).drop(columns=['dist_repe', 'trial_count'])\n",
        "dist_rt_sub = (dist_rt_sub0\n",
        "               .merge(baseline_rt, on=['sub', 'volatility'], how='left')\n",
        "               .query('dist_repe != 0').\n",
        "               assign(interference=lambda df: (df['rt'] - df['baseline_rt'])*1000))\n",
        "dist_rt_sub.head().round(3)"
      ]
    },
    {
      "cell_type": "code",
      "execution_count": 30,
      "metadata": {},
      "outputs": [
        {
          "data": {
            "text/html": [
              "<div>\n",
              "<style scoped>\n",
              "    .dataframe tbody tr th:only-of-type {\n",
              "        vertical-align: middle;\n",
              "    }\n",
              "\n",
              "    .dataframe tbody tr th {\n",
              "        vertical-align: top;\n",
              "    }\n",
              "\n",
              "    .dataframe thead th {\n",
              "        text-align: right;\n",
              "    }\n",
              "</style>\n",
              "<table border=\"1\" class=\"dataframe\">\n",
              "  <thead>\n",
              "    <tr style=\"text-align: right;\">\n",
              "      <th>dist_repe</th>\n",
              "      <th>1</th>\n",
              "      <th>2</th>\n",
              "      <th>3</th>\n",
              "      <th>4</th>\n",
              "    </tr>\n",
              "    <tr>\n",
              "      <th>volatility</th>\n",
              "      <th></th>\n",
              "      <th></th>\n",
              "      <th></th>\n",
              "      <th></th>\n",
              "    </tr>\n",
              "  </thead>\n",
              "  <tbody>\n",
              "    <tr>\n",
              "      <th>high</th>\n",
              "      <td>508.125</td>\n",
              "      <td>152.667</td>\n",
              "      <td>45.875</td>\n",
              "      <td>11.375</td>\n",
              "    </tr>\n",
              "    <tr>\n",
              "      <th>low</th>\n",
              "      <td>218.375</td>\n",
              "      <td>163.208</td>\n",
              "      <td>109.875</td>\n",
              "      <td>73.583</td>\n",
              "    </tr>\n",
              "  </tbody>\n",
              "</table>\n",
              "</div>"
            ],
            "text/plain": [
              "dist_repe         1        2        3       4\n",
              "volatility                                   \n",
              "high        508.125  152.667   45.875  11.375\n",
              "low         218.375  163.208  109.875  73.583"
            ]
          },
          "execution_count": 30,
          "metadata": {},
          "output_type": "execute_result"
        }
      ],
      "source": [
        "# check grand mean of interference and the average number of trials\n",
        "(dist_rt_sub.groupby(['volatility', 'dist_repe']).agg({'interference':'mean', 'trial_count':'mean'}).reset_index()\n",
        "    .pivot_table(index=['volatility'], columns='dist_repe', values='trial_count').round(3))"
      ]
    },
    {
      "cell_type": "markdown",
      "metadata": {},
      "source": [
        "From above we know the number of trials in high volatility with 4 consecutive distractor repetititons is 11.3. Others are more than 45. "
      ]
    },
    {
      "cell_type": "code",
      "execution_count": 31,
      "metadata": {},
      "outputs": [
        {
          "data": {
            "text/html": [
              "<div>\n",
              "<style scoped>\n",
              "    .dataframe tbody tr th:only-of-type {\n",
              "        vertical-align: middle;\n",
              "    }\n",
              "\n",
              "    .dataframe tbody tr th {\n",
              "        vertical-align: top;\n",
              "    }\n",
              "\n",
              "    .dataframe thead th {\n",
              "        text-align: right;\n",
              "    }\n",
              "</style>\n",
              "<table border=\"1\" class=\"dataframe\">\n",
              "  <thead>\n",
              "    <tr style=\"text-align: right;\">\n",
              "      <th></th>\n",
              "      <th>sub</th>\n",
              "      <th>volatility</th>\n",
              "      <th>dist_repe</th>\n",
              "      <th>rt</th>\n",
              "      <th>trial_count</th>\n",
              "    </tr>\n",
              "  </thead>\n",
              "  <tbody>\n",
              "    <tr>\n",
              "      <th>0</th>\n",
              "      <td>1</td>\n",
              "      <td>high</td>\n",
              "      <td>0</td>\n",
              "      <td>0.985284</td>\n",
              "      <td>724</td>\n",
              "    </tr>\n",
              "    <tr>\n",
              "      <th>1</th>\n",
              "      <td>1</td>\n",
              "      <td>high</td>\n",
              "      <td>1</td>\n",
              "      <td>1.218448</td>\n",
              "      <td>510</td>\n",
              "    </tr>\n",
              "    <tr>\n",
              "      <th>2</th>\n",
              "      <td>1</td>\n",
              "      <td>high</td>\n",
              "      <td>2</td>\n",
              "      <td>1.133667</td>\n",
              "      <td>155</td>\n",
              "    </tr>\n",
              "    <tr>\n",
              "      <th>3</th>\n",
              "      <td>1</td>\n",
              "      <td>high</td>\n",
              "      <td>3</td>\n",
              "      <td>1.097256</td>\n",
              "      <td>39</td>\n",
              "    </tr>\n",
              "    <tr>\n",
              "      <th>4</th>\n",
              "      <td>1</td>\n",
              "      <td>high</td>\n",
              "      <td>4</td>\n",
              "      <td>1.072466</td>\n",
              "      <td>9</td>\n",
              "    </tr>\n",
              "  </tbody>\n",
              "</table>\n",
              "</div>"
            ],
            "text/plain": [
              "   sub volatility  dist_repe        rt  trial_count\n",
              "0    1       high          0  0.985284          724\n",
              "1    1       high          1  1.218448          510\n",
              "2    1       high          2  1.133667          155\n",
              "3    1       high          3  1.097256           39\n",
              "4    1       high          4  1.072466            9"
            ]
          },
          "execution_count": 31,
          "metadata": {},
          "output_type": "execute_result"
        }
      ],
      "source": [
        "dist_rt_sub0.head()"
      ]
    },
    {
      "cell_type": "code",
      "execution_count": 32,
      "metadata": {},
      "outputs": [
        {
          "data": {
            "image/png": "[encoded data removed]",
            "text/plain": [
              "<Figure size 640x480 with 1 Axes>"
            ]
          },
          "metadata": {},
          "output_type": "display_data"
        }
      ],
      "source": [
        "# visualize the rt as a function of dist_repe from dist_rt_sub0\n",
        "def plot_rt_rep(ax):\n",
        "\tsns.pointplot(data=dist_rt_sub0.query(\"dist_repe <4 & dist_repe >0\"), x='dist_repe', y='rt', \n",
        "\t\t\t\tmarkers=['o','s'], markersize=10, dodge = 0.1, hue='volatility', ax=ax, legend=False)\n",
        "\tsns.pointplot(data=dist_rt_sub0.query(\"dist_repe ==0\"), x='dist_repe', y='rt',\n",
        "\t\t\t\tmarkers=['o','s'], markersize=10, dodge = 0.1,  hue='volatility', ax=ax)\n",
        "\tax.set_ylabel('Response Time (s)')\n",
        "\tax.set_xlabel('Distractor Repetition')\n",
        "\t# set x-ticks labels to 1,2,3, Absent\n",
        "\tax.set_xticklabels(['1', '2', '3', 'Absent'])\n",
        "\tplt.tight_layout\n",
        "\t\n",
        "plot_rt_rep(plt.gca())"
      ]
    },
    {
      "cell_type": "code",
      "execution_count": 33,
      "metadata": {},
      "outputs": [
        {
          "data": {
            "text/html": [
              "<div>\n",
              "<style scoped>\n",
              "    .dataframe tbody tr th:only-of-type {\n",
              "        vertical-align: middle;\n",
              "    }\n",
              "\n",
              "    .dataframe tbody tr th {\n",
              "        vertical-align: top;\n",
              "    }\n",
              "\n",
              "    .dataframe thead th {\n",
              "        text-align: right;\n",
              "    }\n",
              "</style>\n",
              "<table border=\"1\" class=\"dataframe\">\n",
              "  <thead>\n",
              "    <tr style=\"text-align: right;\">\n",
              "      <th></th>\n",
              "      <th>Source</th>\n",
              "      <th>SS</th>\n",
              "      <th>ddof1</th>\n",
              "      <th>ddof2</th>\n",
              "      <th>MS</th>\n",
              "      <th>F</th>\n",
              "      <th>p-unc</th>\n",
              "      <th>p-GG-corr</th>\n",
              "      <th>ng2</th>\n",
              "      <th>eps</th>\n",
              "    </tr>\n",
              "  </thead>\n",
              "  <tbody>\n",
              "    <tr>\n",
              "      <th>0</th>\n",
              "      <td>dist_repe</td>\n",
              "      <td>0.618</td>\n",
              "      <td>3</td>\n",
              "      <td>69</td>\n",
              "      <td>0.206</td>\n",
              "      <td>50.542</td>\n",
              "      <td>0.000</td>\n",
              "      <td>0.000</td>\n",
              "      <td>0.034</td>\n",
              "      <td>0.556</td>\n",
              "    </tr>\n",
              "    <tr>\n",
              "      <th>1</th>\n",
              "      <td>volatility</td>\n",
              "      <td>0.313</td>\n",
              "      <td>1</td>\n",
              "      <td>23</td>\n",
              "      <td>0.313</td>\n",
              "      <td>5.397</td>\n",
              "      <td>0.029</td>\n",
              "      <td>0.029</td>\n",
              "      <td>0.017</td>\n",
              "      <td>1.000</td>\n",
              "    </tr>\n",
              "    <tr>\n",
              "      <th>2</th>\n",
              "      <td>dist_repe * volatility</td>\n",
              "      <td>0.014</td>\n",
              "      <td>3</td>\n",
              "      <td>69</td>\n",
              "      <td>0.005</td>\n",
              "      <td>1.266</td>\n",
              "      <td>0.293</td>\n",
              "      <td>0.280</td>\n",
              "      <td>0.001</td>\n",
              "      <td>0.411</td>\n",
              "    </tr>\n",
              "  </tbody>\n",
              "</table>\n",
              "</div>"
            ],
            "text/plain": [
              "                   Source     SS  ddof1  ddof2     MS       F  p-unc  \\\n",
              "0               dist_repe  0.618      3     69  0.206  50.542  0.000   \n",
              "1              volatility  0.313      1     23  0.313   5.397  0.029   \n",
              "2  dist_repe * volatility  0.014      3     69  0.005   1.266  0.293   \n",
              "\n",
              "   p-GG-corr    ng2    eps  \n",
              "0      0.000  0.034  0.556  \n",
              "1      0.029  0.017  1.000  \n",
              "2      0.280  0.001  0.411  "
            ]
          },
          "execution_count": 33,
          "metadata": {},
          "output_type": "execute_result"
        }
      ],
      "source": [
        "#repeated measures ANOVA for rt with dist_repe < 4\n",
        "pg.rm_anova(dv='rt', within=['dist_repe', 'volatility'], subject='sub', data=dist_rt_sub0.query('dist_repe < 4'), detailed=True).round(3)"
      ]
    },
    {
      "cell_type": "code",
      "execution_count": 34,
      "metadata": {},
      "outputs": [
        {
          "data": {
            "image/png": "[encoded data removed]",
            "text/plain": [
              "<Figure size 640x480 with 1 Axes>"
            ]
          },
          "metadata": {},
          "output_type": "display_data"
        }
      ],
      "source": [
        "def plot_pcue(ax):\n",
        "    # visualize the interference effect as a function of dist_repe, separated by volatility, line plot\n",
        "    sns.pointplot(data=dist_rt_sub.query('dist_repe <4'), x='dist_repe', y='interference', \n",
        "                 hue='volatility', markers=['o','s'], markersize=10, dodge = 0.1, \n",
        "                 linewidth=2, ax = ax)\n",
        "    ax.set_xlabel('Distractor Repetition')\n",
        "    ax.set_ylabel('Distractor Interference (ms)')\n",
        "    ax.axhline(0, color='k', linestyle='--')\n",
        "    ax.set_ylim(-80, 210)\n",
        "\n",
        "\n",
        "plot_pcue(plt.gca())"
      ]
    },
    {
      "cell_type": "code",
      "execution_count": 35,
      "metadata": {},
      "outputs": [
        {
          "data": {
            "text/html": [
              "<div>\n",
              "<style scoped>\n",
              "    .dataframe tbody tr th:only-of-type {\n",
              "        vertical-align: middle;\n",
              "    }\n",
              "\n",
              "    .dataframe tbody tr th {\n",
              "        vertical-align: top;\n",
              "    }\n",
              "\n",
              "    .dataframe thead th {\n",
              "        text-align: right;\n",
              "    }\n",
              "</style>\n",
              "<table border=\"1\" class=\"dataframe\">\n",
              "  <thead>\n",
              "    <tr style=\"text-align: right;\">\n",
              "      <th></th>\n",
              "      <th>Source</th>\n",
              "      <th>SS</th>\n",
              "      <th>ddof1</th>\n",
              "      <th>ddof2</th>\n",
              "      <th>MS</th>\n",
              "      <th>F</th>\n",
              "      <th>p-unc</th>\n",
              "      <th>p-GG-corr</th>\n",
              "      <th>np2</th>\n",
              "      <th>eps</th>\n",
              "    </tr>\n",
              "  </thead>\n",
              "  <tbody>\n",
              "    <tr>\n",
              "      <th>0</th>\n",
              "      <td>dist_repe</td>\n",
              "      <td>365121.529</td>\n",
              "      <td>3</td>\n",
              "      <td>69</td>\n",
              "      <td>121707.176</td>\n",
              "      <td>23.599</td>\n",
              "      <td>0.000</td>\n",
              "      <td>0.000</td>\n",
              "      <td>0.506</td>\n",
              "      <td>0.575</td>\n",
              "    </tr>\n",
              "    <tr>\n",
              "      <th>1</th>\n",
              "      <td>volatility</td>\n",
              "      <td>10330.942</td>\n",
              "      <td>1</td>\n",
              "      <td>23</td>\n",
              "      <td>10330.942</td>\n",
              "      <td>1.662</td>\n",
              "      <td>0.210</td>\n",
              "      <td>0.210</td>\n",
              "      <td>0.067</td>\n",
              "      <td>1.000</td>\n",
              "    </tr>\n",
              "    <tr>\n",
              "      <th>2</th>\n",
              "      <td>dist_repe * volatility</td>\n",
              "      <td>21698.614</td>\n",
              "      <td>3</td>\n",
              "      <td>69</td>\n",
              "      <td>7232.871</td>\n",
              "      <td>1.258</td>\n",
              "      <td>0.295</td>\n",
              "      <td>0.293</td>\n",
              "      <td>0.052</td>\n",
              "      <td>0.641</td>\n",
              "    </tr>\n",
              "  </tbody>\n",
              "</table>\n",
              "</div>"
            ],
            "text/plain": [
              "                   Source          SS  ddof1  ddof2          MS       F  \\\n",
              "0               dist_repe  365121.529      3     69  121707.176  23.599   \n",
              "1              volatility   10330.942      1     23   10330.942   1.662   \n",
              "2  dist_repe * volatility   21698.614      3     69    7232.871   1.258   \n",
              "\n",
              "   p-unc  p-GG-corr    np2    eps  \n",
              "0  0.000      0.000  0.506  0.575  \n",
              "1  0.210      0.210  0.067  1.000  \n",
              "2  0.295      0.293  0.052  0.641  "
            ]
          },
          "execution_count": 35,
          "metadata": {},
          "output_type": "execute_result"
        }
      ],
      "source": [
        "# repeated measures ANOVA for interference effect\n",
        "pg.rm_anova(dv='interference', within=['dist_repe', 'volatility'], subject='sub', data=dist_rt_sub, detailed=True, effsize='np2').round(3)"
      ]
    },
    {
      "cell_type": "code",
      "execution_count": 36,
      "metadata": {},
      "outputs": [
        {
          "data": {
            "text/html": [
              "<div>\n",
              "<style scoped>\n",
              "    .dataframe tbody tr th:only-of-type {\n",
              "        vertical-align: middle;\n",
              "    }\n",
              "\n",
              "    .dataframe tbody tr th {\n",
              "        vertical-align: top;\n",
              "    }\n",
              "\n",
              "    .dataframe thead th {\n",
              "        text-align: right;\n",
              "    }\n",
              "</style>\n",
              "<table border=\"1\" class=\"dataframe\">\n",
              "  <thead>\n",
              "    <tr style=\"text-align: right;\">\n",
              "      <th></th>\n",
              "      <th>Source</th>\n",
              "      <th>SS</th>\n",
              "      <th>ddof1</th>\n",
              "      <th>ddof2</th>\n",
              "      <th>MS</th>\n",
              "      <th>F</th>\n",
              "      <th>p-unc</th>\n",
              "      <th>p-GG-corr</th>\n",
              "      <th>np2</th>\n",
              "      <th>eps</th>\n",
              "    </tr>\n",
              "  </thead>\n",
              "  <tbody>\n",
              "    <tr>\n",
              "      <th>0</th>\n",
              "      <td>dist_repe</td>\n",
              "      <td>323904.465</td>\n",
              "      <td>2</td>\n",
              "      <td>46</td>\n",
              "      <td>161952.232</td>\n",
              "      <td>33.029</td>\n",
              "      <td>0.000</td>\n",
              "      <td>0.000</td>\n",
              "      <td>0.589</td>\n",
              "      <td>0.607</td>\n",
              "    </tr>\n",
              "    <tr>\n",
              "      <th>1</th>\n",
              "      <td>volatility</td>\n",
              "      <td>21284.933</td>\n",
              "      <td>1</td>\n",
              "      <td>23</td>\n",
              "      <td>21284.933</td>\n",
              "      <td>11.194</td>\n",
              "      <td>0.003</td>\n",
              "      <td>0.003</td>\n",
              "      <td>0.327</td>\n",
              "      <td>1.000</td>\n",
              "    </tr>\n",
              "    <tr>\n",
              "      <th>2</th>\n",
              "      <td>dist_repe * volatility</td>\n",
              "      <td>8303.018</td>\n",
              "      <td>2</td>\n",
              "      <td>46</td>\n",
              "      <td>4151.509</td>\n",
              "      <td>0.808</td>\n",
              "      <td>0.452</td>\n",
              "      <td>0.392</td>\n",
              "      <td>0.034</td>\n",
              "      <td>0.565</td>\n",
              "    </tr>\n",
              "  </tbody>\n",
              "</table>\n",
              "</div>"
            ],
            "text/plain": [
              "                   Source          SS  ddof1  ddof2          MS       F  \\\n",
              "0               dist_repe  323904.465      2     46  161952.232  33.029   \n",
              "1              volatility   21284.933      1     23   21284.933  11.194   \n",
              "2  dist_repe * volatility    8303.018      2     46    4151.509   0.808   \n",
              "\n",
              "   p-unc  p-GG-corr    np2    eps  \n",
              "0  0.000      0.000  0.589  0.607  \n",
              "1  0.003      0.003  0.327  1.000  \n",
              "2  0.452      0.392  0.034  0.565  "
            ]
          },
          "execution_count": 36,
          "metadata": {},
          "output_type": "execute_result"
        }
      ],
      "source": [
        "# repeated measures ANOVA for interference effect\n",
        "pg.rm_anova(dv='interference', within=['dist_repe', 'volatility'], subject='sub', data=dist_rt_sub.query('dist_repe <4'), detailed=True, effsize='np2').round(3)"
      ]
    },
    {
      "cell_type": "markdown",
      "metadata": {},
      "source": [
        "Repetition suppression was significant, but not the volality effect. "
      ]
    },
    {
      "cell_type": "markdown",
      "metadata": {},
      "source": [
        "#### Distractor location probability cueing and distractor repetition"
      ]
    },
    {
      "cell_type": "code",
      "execution_count": 37,
      "metadata": {},
      "outputs": [
        {
          "data": {
            "text/html": [
              "<div>\n",
              "<style scoped>\n",
              "    .dataframe tbody tr th:only-of-type {\n",
              "        vertical-align: middle;\n",
              "    }\n",
              "\n",
              "    .dataframe tbody tr th {\n",
              "        vertical-align: top;\n",
              "    }\n",
              "\n",
              "    .dataframe thead th {\n",
              "        text-align: right;\n",
              "    }\n",
              "</style>\n",
              "<table border=\"1\" class=\"dataframe\">\n",
              "  <thead>\n",
              "    <tr style=\"text-align: right;\">\n",
              "      <th>dist_repe</th>\n",
              "      <th>volatility</th>\n",
              "      <th>dist_bias</th>\n",
              "      <th>1</th>\n",
              "      <th>2</th>\n",
              "      <th>3</th>\n",
              "      <th>4</th>\n",
              "    </tr>\n",
              "  </thead>\n",
              "  <tbody>\n",
              "    <tr>\n",
              "      <th>0</th>\n",
              "      <td>high</td>\n",
              "      <td>frequent</td>\n",
              "      <td>327.62</td>\n",
              "      <td>97.62</td>\n",
              "      <td>29.25</td>\n",
              "      <td>7.04</td>\n",
              "    </tr>\n",
              "    <tr>\n",
              "      <th>1</th>\n",
              "      <td>high</td>\n",
              "      <td>rare</td>\n",
              "      <td>180.50</td>\n",
              "      <td>55.04</td>\n",
              "      <td>16.62</td>\n",
              "      <td>4.33</td>\n",
              "    </tr>\n",
              "    <tr>\n",
              "      <th>2</th>\n",
              "      <td>low</td>\n",
              "      <td>frequent</td>\n",
              "      <td>139.12</td>\n",
              "      <td>102.33</td>\n",
              "      <td>68.67</td>\n",
              "      <td>45.83</td>\n",
              "    </tr>\n",
              "    <tr>\n",
              "      <th>3</th>\n",
              "      <td>low</td>\n",
              "      <td>rare</td>\n",
              "      <td>79.25</td>\n",
              "      <td>60.88</td>\n",
              "      <td>41.21</td>\n",
              "      <td>27.75</td>\n",
              "    </tr>\n",
              "  </tbody>\n",
              "</table>\n",
              "</div>"
            ],
            "text/plain": [
              "dist_repe volatility dist_bias       1       2      3      4\n",
              "0               high  frequent  327.62   97.62  29.25   7.04\n",
              "1               high      rare  180.50   55.04  16.62   4.33\n",
              "2                low  frequent  139.12  102.33  68.67  45.83\n",
              "3                low      rare   79.25   60.88  41.21  27.75"
            ]
          },
          "execution_count": 37,
          "metadata": {},
          "output_type": "execute_result"
        }
      ],
      "source": [
        "dist_loc_rt_l = (data.query(\"dist_repe > 0 and dist_repe < 5\")\n",
        "               .groupby(['sub', 'volatility','dist_repe','dist_bias'])\n",
        "               .agg({'rt':'mean', 'correct':'count'}) # calculate mean rt and trial count\n",
        "                .rename(columns={'correct':'trial_count'})\n",
        "                .reset_index())\n",
        "# check average number of trials\n",
        "dist_loc_rep = (dist_loc_rt_l.groupby(['volatility',  'dist_bias', 'dist_repe'])\n",
        " .agg({'trial_count':'mean'}).reset_index()\n",
        " .pivot_table(index=['volatility', 'dist_bias'], columns='dist_repe', values='trial_count').round(2)).reset_index()\n",
        "dist_loc_rep"
      ]
    },
    {
      "cell_type": "code",
      "execution_count": 38,
      "metadata": {},
      "outputs": [
        {
          "data": {
            "text/html": [
              "<div>\n",
              "<style scoped>\n",
              "    .dataframe tbody tr th:only-of-type {\n",
              "        vertical-align: middle;\n",
              "    }\n",
              "\n",
              "    .dataframe tbody tr th {\n",
              "        vertical-align: top;\n",
              "    }\n",
              "\n",
              "    .dataframe thead th {\n",
              "        text-align: right;\n",
              "    }\n",
              "</style>\n",
              "<table border=\"1\" class=\"dataframe\">\n",
              "  <thead>\n",
              "    <tr style=\"text-align: right;\">\n",
              "      <th></th>\n",
              "      <th>sub</th>\n",
              "      <th>volatility</th>\n",
              "      <th>dist_repe</th>\n",
              "      <th>dist_bias</th>\n",
              "      <th>rt</th>\n",
              "      <th>trial_count</th>\n",
              "    </tr>\n",
              "  </thead>\n",
              "  <tbody>\n",
              "    <tr>\n",
              "      <th>0</th>\n",
              "      <td>1</td>\n",
              "      <td>high</td>\n",
              "      <td>1</td>\n",
              "      <td>frequent</td>\n",
              "      <td>1.207529</td>\n",
              "      <td>334</td>\n",
              "    </tr>\n",
              "    <tr>\n",
              "      <th>1</th>\n",
              "      <td>1</td>\n",
              "      <td>high</td>\n",
              "      <td>1</td>\n",
              "      <td>rare</td>\n",
              "      <td>1.239445</td>\n",
              "      <td>176</td>\n",
              "    </tr>\n",
              "    <tr>\n",
              "      <th>2</th>\n",
              "      <td>1</td>\n",
              "      <td>high</td>\n",
              "      <td>2</td>\n",
              "      <td>frequent</td>\n",
              "      <td>1.149240</td>\n",
              "      <td>96</td>\n",
              "    </tr>\n",
              "    <tr>\n",
              "      <th>3</th>\n",
              "      <td>1</td>\n",
              "      <td>high</td>\n",
              "      <td>2</td>\n",
              "      <td>rare</td>\n",
              "      <td>1.110864</td>\n",
              "      <td>59</td>\n",
              "    </tr>\n",
              "    <tr>\n",
              "      <th>4</th>\n",
              "      <td>1</td>\n",
              "      <td>high</td>\n",
              "      <td>3</td>\n",
              "      <td>frequent</td>\n",
              "      <td>1.084276</td>\n",
              "      <td>25</td>\n",
              "    </tr>\n",
              "  </tbody>\n",
              "</table>\n",
              "</div>"
            ],
            "text/plain": [
              "   sub volatility  dist_repe dist_bias        rt  trial_count\n",
              "0    1       high          1  frequent  1.207529          334\n",
              "1    1       high          1      rare  1.239445          176\n",
              "2    1       high          2  frequent  1.149240           96\n",
              "3    1       high          2      rare  1.110864           59\n",
              "4    1       high          3  frequent  1.084276           25"
            ]
          },
          "execution_count": 38,
          "metadata": {},
          "output_type": "execute_result"
        }
      ],
      "source": [
        "dist_loc_rt_l.head()"
      ]
    },
    {
      "cell_type": "markdown",
      "metadata": {},
      "source": [
        "note: the average trial number for repetition of 4 were relatively low for the high-volatility session (7.04 and 4.33)"
      ]
    },
    {
      "cell_type": "code",
      "execution_count": 39,
      "metadata": {},
      "outputs": [
        {
          "data": {
            "text/html": [
              "<div>\n",
              "<style scoped>\n",
              "    .dataframe tbody tr th:only-of-type {\n",
              "        vertical-align: middle;\n",
              "    }\n",
              "\n",
              "    .dataframe tbody tr th {\n",
              "        vertical-align: top;\n",
              "    }\n",
              "\n",
              "    .dataframe thead th {\n",
              "        text-align: right;\n",
              "    }\n",
              "</style>\n",
              "<table border=\"1\" class=\"dataframe\">\n",
              "  <thead>\n",
              "    <tr style=\"text-align: right;\">\n",
              "      <th>dist_bias</th>\n",
              "      <th>sub</th>\n",
              "      <th>volatility</th>\n",
              "      <th>dist_repe</th>\n",
              "      <th>frequent</th>\n",
              "      <th>rare</th>\n",
              "      <th>location</th>\n",
              "    </tr>\n",
              "  </thead>\n",
              "  <tbody>\n",
              "    <tr>\n",
              "      <th>0</th>\n",
              "      <td>1</td>\n",
              "      <td>high</td>\n",
              "      <td>1</td>\n",
              "      <td>1.208</td>\n",
              "      <td>1.239</td>\n",
              "      <td>31.916</td>\n",
              "    </tr>\n",
              "    <tr>\n",
              "      <th>1</th>\n",
              "      <td>1</td>\n",
              "      <td>high</td>\n",
              "      <td>2</td>\n",
              "      <td>1.149</td>\n",
              "      <td>1.111</td>\n",
              "      <td>-38.376</td>\n",
              "    </tr>\n",
              "    <tr>\n",
              "      <th>2</th>\n",
              "      <td>1</td>\n",
              "      <td>high</td>\n",
              "      <td>3</td>\n",
              "      <td>1.084</td>\n",
              "      <td>1.120</td>\n",
              "      <td>35.232</td>\n",
              "    </tr>\n",
              "    <tr>\n",
              "      <th>3</th>\n",
              "      <td>1</td>\n",
              "      <td>high</td>\n",
              "      <td>4</td>\n",
              "      <td>1.105</td>\n",
              "      <td>1.018</td>\n",
              "      <td>-86.673</td>\n",
              "    </tr>\n",
              "    <tr>\n",
              "      <th>4</th>\n",
              "      <td>1</td>\n",
              "      <td>low</td>\n",
              "      <td>1</td>\n",
              "      <td>1.026</td>\n",
              "      <td>1.164</td>\n",
              "      <td>137.867</td>\n",
              "    </tr>\n",
              "  </tbody>\n",
              "</table>\n",
              "</div>"
            ],
            "text/plain": [
              "dist_bias  sub volatility  dist_repe  frequent   rare  location\n",
              "0            1       high          1     1.208  1.239    31.916\n",
              "1            1       high          2     1.149  1.111   -38.376\n",
              "2            1       high          3     1.084  1.120    35.232\n",
              "3            1       high          4     1.105  1.018   -86.673\n",
              "4            1        low          1     1.026  1.164   137.867"
            ]
          },
          "execution_count": 39,
          "metadata": {},
          "output_type": "execute_result"
        }
      ],
      "source": [
        "\n",
        "dist_loc_rt = (dist_loc_rt_l\n",
        "               .drop(columns=['trial_count'])\n",
        "               .pivot_table(index=['sub', 'volatility','dist_repe'], columns='dist_bias', values='rt')\n",
        "               .assign(location=lambda df: (df['rare'] - df['frequent'])*1000).reset_index())\n",
        "dist_loc_rt.head().round(3)"
      ]
    },
    {
      "cell_type": "code",
      "execution_count": 40,
      "metadata": {},
      "outputs": [
        {
          "data": {
            "image/png": "[encoded data removed]",
            "text/plain": [
              "<Figure size 640x480 with 1 Axes>"
            ]
          },
          "metadata": {},
          "output_type": "display_data"
        }
      ],
      "source": [
        "def plot_disrep2(ax):\n",
        "    sns.pointplot(data=dist_loc_rt.query('dist_repe <4'), x='dist_repe', y='frequent', \n",
        "                 hue='volatility',   markers=['o','s'], markersize=10, dodge = 0.1, \n",
        "                 linewidth=2, ax = ax, legend=False)\n",
        "    sns.pointplot(data=dist_loc_rt.query('dist_repe <4'), x='dist_repe', y='rare', \n",
        "                 hue='volatility',  markers=['o','s'], markersize=10, dodge = 0.2, linestyles='--',\n",
        "                 linewidth=2, ax = ax, legend = False)\n",
        "#    sns.pointplot(data=dist_rt_sub0.query(\"dist_repe ==0\"), x='dist_repe', y='rt',\n",
        "#\t\t\t\tmarkers=['o','s'], markersize=10, dodge = 0.1,  hue='volatility', ax=ax)\n",
        "    ax.set_ylabel('Response Time (s)')\n",
        "    ax.set_xlabel('Distractor Repetition')\n",
        "\t# set x-ticks labels to 1,2,3, Absent\n",
        "    ax.set_xticklabels(['1', '2', '3', 'Absent'])\n",
        "    plt.tight_layout\n",
        "\t\n",
        "    \n",
        "\n",
        "plot_disrep2(plt.gca())"
      ]
    },
    {
      "cell_type": "code",
      "execution_count": 41,
      "metadata": {},
      "outputs": [
        {
          "data": {
            "image/png": "[encoded data removed]",
            "text/plain": [
              "<Figure size 640x480 with 2 Axes>"
            ]
          },
          "metadata": {},
          "output_type": "display_data"
        }
      ],
      "source": [
        "def plot_disrep(ax):\n",
        "    # visualize the location effect as a function of dist_repe, separated by volatility, line plot\n",
        "    sns.pointplot(data=dist_loc_rt.query('dist_repe < 4'), x='dist_repe', y='location', \n",
        "                  hue='volatility', markers=['o','s'], markersize=10, dodge = 0.1, \n",
        "                  linewidth=2, ax = ax, legend = False)\n",
        "    ax.set_xlabel('Distractor Repetition')\n",
        "    ax.set_ylabel('Distractor-location Effect (ms)')\n",
        "    # add dashed line at 0\n",
        "    ax.axhline(0, color='k', linestyle='--')\n",
        "    # set y-axis limit to -50 to 200\n",
        "    ax.set_ylim(-80, 210)\n",
        "    # add right y-axis label: number of trials\n",
        "    ax2 = ax.twinx()\n",
        "    sns.barplot(data=dist_loc_rt_l.query('dist_repe <4'), x='dist_repe', y='trial_count', \n",
        "                    hue='volatility',  dodge = 0.1, width=0.25, \n",
        "                     ax=ax2, legend=False)\n",
        "\t#sns.lineplot(data=dist_loc_rt_l, x='dist_repe', y='trial_count', hue='dist_bias', style='volatility', ci='sd')\n",
        "    ax2.set_ylabel('Number of Trials')\n",
        "    ax2.set_ylim(0, 1000)\n",
        "\n",
        "plot_disrep(plt.gca())"
      ]
    },
    {
      "cell_type": "code",
      "execution_count": 42,
      "metadata": {},
      "outputs": [
        {
          "data": {
            "text/html": [
              "<div>\n",
              "<style scoped>\n",
              "    .dataframe tbody tr th:only-of-type {\n",
              "        vertical-align: middle;\n",
              "    }\n",
              "\n",
              "    .dataframe tbody tr th {\n",
              "        vertical-align: top;\n",
              "    }\n",
              "\n",
              "    .dataframe thead th {\n",
              "        text-align: right;\n",
              "    }\n",
              "</style>\n",
              "<table border=\"1\" class=\"dataframe\">\n",
              "  <thead>\n",
              "    <tr style=\"text-align: right;\">\n",
              "      <th></th>\n",
              "      <th>Source</th>\n",
              "      <th>SS</th>\n",
              "      <th>ddof1</th>\n",
              "      <th>ddof2</th>\n",
              "      <th>MS</th>\n",
              "      <th>F</th>\n",
              "      <th>p-unc</th>\n",
              "      <th>p-GG-corr</th>\n",
              "      <th>np2</th>\n",
              "      <th>eps</th>\n",
              "    </tr>\n",
              "  </thead>\n",
              "  <tbody>\n",
              "    <tr>\n",
              "      <th>0</th>\n",
              "      <td>dist_repe</td>\n",
              "      <td>184269.79</td>\n",
              "      <td>3</td>\n",
              "      <td>69</td>\n",
              "      <td>61423.26</td>\n",
              "      <td>3.84</td>\n",
              "      <td>0.01</td>\n",
              "      <td>0.04</td>\n",
              "      <td>0.14</td>\n",
              "      <td>0.52</td>\n",
              "    </tr>\n",
              "    <tr>\n",
              "      <th>1</th>\n",
              "      <td>volatility</td>\n",
              "      <td>923.11</td>\n",
              "      <td>1</td>\n",
              "      <td>23</td>\n",
              "      <td>923.11</td>\n",
              "      <td>0.04</td>\n",
              "      <td>0.84</td>\n",
              "      <td>0.84</td>\n",
              "      <td>0.00</td>\n",
              "      <td>1.00</td>\n",
              "    </tr>\n",
              "    <tr>\n",
              "      <th>2</th>\n",
              "      <td>dist_repe * volatility</td>\n",
              "      <td>24109.12</td>\n",
              "      <td>3</td>\n",
              "      <td>69</td>\n",
              "      <td>8036.37</td>\n",
              "      <td>0.50</td>\n",
              "      <td>0.69</td>\n",
              "      <td>0.58</td>\n",
              "      <td>0.02</td>\n",
              "      <td>0.56</td>\n",
              "    </tr>\n",
              "  </tbody>\n",
              "</table>\n",
              "</div>"
            ],
            "text/plain": [
              "                   Source         SS  ddof1  ddof2        MS     F  p-unc  \\\n",
              "0               dist_repe  184269.79      3     69  61423.26  3.84   0.01   \n",
              "1              volatility     923.11      1     23    923.11  0.04   0.84   \n",
              "2  dist_repe * volatility   24109.12      3     69   8036.37  0.50   0.69   \n",
              "\n",
              "   p-GG-corr   np2   eps  \n",
              "0       0.04  0.14  0.52  \n",
              "1       0.84  0.00  1.00  \n",
              "2       0.58  0.02  0.56  "
            ]
          },
          "execution_count": 42,
          "metadata": {},
          "output_type": "execute_result"
        }
      ],
      "source": [
        "# repeated measures ANOVA for location effect\n",
        "pg.rm_anova(dv='location', within=['dist_repe', 'volatility'], subject='sub', data=dist_loc_rt, detailed=True, effsize='np2').round(2)"
      ]
    },
    {
      "cell_type": "code",
      "execution_count": 43,
      "metadata": {},
      "outputs": [
        {
          "data": {
            "text/html": [
              "<div>\n",
              "<style scoped>\n",
              "    .dataframe tbody tr th:only-of-type {\n",
              "        vertical-align: middle;\n",
              "    }\n",
              "\n",
              "    .dataframe tbody tr th {\n",
              "        vertical-align: top;\n",
              "    }\n",
              "\n",
              "    .dataframe thead th {\n",
              "        text-align: right;\n",
              "    }\n",
              "</style>\n",
              "<table border=\"1\" class=\"dataframe\">\n",
              "  <thead>\n",
              "    <tr style=\"text-align: right;\">\n",
              "      <th></th>\n",
              "      <th>Source</th>\n",
              "      <th>SS</th>\n",
              "      <th>ddof1</th>\n",
              "      <th>ddof2</th>\n",
              "      <th>MS</th>\n",
              "      <th>F</th>\n",
              "      <th>p-unc</th>\n",
              "      <th>p-GG-corr</th>\n",
              "      <th>np2</th>\n",
              "      <th>eps</th>\n",
              "    </tr>\n",
              "  </thead>\n",
              "  <tbody>\n",
              "    <tr>\n",
              "      <th>0</th>\n",
              "      <td>dist_repe</td>\n",
              "      <td>79990.08</td>\n",
              "      <td>2</td>\n",
              "      <td>46</td>\n",
              "      <td>39995.04</td>\n",
              "      <td>5.88</td>\n",
              "      <td>0.01</td>\n",
              "      <td>0.01</td>\n",
              "      <td>0.20</td>\n",
              "      <td>0.81</td>\n",
              "    </tr>\n",
              "    <tr>\n",
              "      <th>1</th>\n",
              "      <td>volatility</td>\n",
              "      <td>1667.61</td>\n",
              "      <td>1</td>\n",
              "      <td>23</td>\n",
              "      <td>1667.61</td>\n",
              "      <td>0.26</td>\n",
              "      <td>0.62</td>\n",
              "      <td>0.62</td>\n",
              "      <td>0.01</td>\n",
              "      <td>1.00</td>\n",
              "    </tr>\n",
              "    <tr>\n",
              "      <th>2</th>\n",
              "      <td>dist_repe * volatility</td>\n",
              "      <td>6073.35</td>\n",
              "      <td>2</td>\n",
              "      <td>46</td>\n",
              "      <td>3036.68</td>\n",
              "      <td>0.41</td>\n",
              "      <td>0.67</td>\n",
              "      <td>0.59</td>\n",
              "      <td>0.02</td>\n",
              "      <td>0.67</td>\n",
              "    </tr>\n",
              "  </tbody>\n",
              "</table>\n",
              "</div>"
            ],
            "text/plain": [
              "                   Source        SS  ddof1  ddof2        MS     F  p-unc  \\\n",
              "0               dist_repe  79990.08      2     46  39995.04  5.88   0.01   \n",
              "1              volatility   1667.61      1     23   1667.61  0.26   0.62   \n",
              "2  dist_repe * volatility   6073.35      2     46   3036.68  0.41   0.67   \n",
              "\n",
              "   p-GG-corr   np2   eps  \n",
              "0       0.01  0.20  0.81  \n",
              "1       0.62  0.01  1.00  \n",
              "2       0.59  0.02  0.67  "
            ]
          },
          "execution_count": 43,
          "metadata": {},
          "output_type": "execute_result"
        }
      ],
      "source": [
        "pg.rm_anova(dv='location', within=['dist_repe', 'volatility'], subject='sub', data=dist_loc_rt.query('dist_repe < 4'), \n",
        "\t\t\tdetailed=True, effsize='np2').round(2)"
      ]
    },
    {
      "cell_type": "code",
      "execution_count": 44,
      "metadata": {},
      "outputs": [
        {
          "data": {
            "text/html": [
              "<div>\n",
              "<style scoped>\n",
              "    .dataframe tbody tr th:only-of-type {\n",
              "        vertical-align: middle;\n",
              "    }\n",
              "\n",
              "    .dataframe tbody tr th {\n",
              "        vertical-align: top;\n",
              "    }\n",
              "\n",
              "    .dataframe thead th {\n",
              "        text-align: right;\n",
              "    }\n",
              "</style>\n",
              "<table border=\"1\" class=\"dataframe\">\n",
              "  <thead>\n",
              "    <tr style=\"text-align: right;\">\n",
              "      <th></th>\n",
              "      <th>dist_repe_absent</th>\n",
              "      <th>1</th>\n",
              "      <th>2</th>\n",
              "      <th>3</th>\n",
              "      <th>4</th>\n",
              "    </tr>\n",
              "    <tr>\n",
              "      <th>volatility</th>\n",
              "      <th>tar_bias</th>\n",
              "      <th></th>\n",
              "      <th></th>\n",
              "      <th></th>\n",
              "      <th></th>\n",
              "    </tr>\n",
              "  </thead>\n",
              "  <tbody>\n",
              "    <tr>\n",
              "      <th rowspan=\"2\" valign=\"top\">high</th>\n",
              "      <th>frequent</th>\n",
              "      <td>95.458</td>\n",
              "      <td>26.292</td>\n",
              "      <td>7.625</td>\n",
              "      <td>2.571</td>\n",
              "    </tr>\n",
              "    <tr>\n",
              "      <th>rare</th>\n",
              "      <td>412.958</td>\n",
              "      <td>122.667</td>\n",
              "      <td>36.417</td>\n",
              "      <td>10.833</td>\n",
              "    </tr>\n",
              "    <tr>\n",
              "      <th rowspan=\"2\" valign=\"top\">low</th>\n",
              "      <th>frequent</th>\n",
              "      <td>42.083</td>\n",
              "      <td>29.042</td>\n",
              "      <td>18.500</td>\n",
              "      <td>12.750</td>\n",
              "    </tr>\n",
              "    <tr>\n",
              "      <th>rare</th>\n",
              "      <td>176.000</td>\n",
              "      <td>121.625</td>\n",
              "      <td>85.958</td>\n",
              "      <td>60.042</td>\n",
              "    </tr>\n",
              "  </tbody>\n",
              "</table>\n",
              "</div>"
            ],
            "text/plain": [
              "dist_repe_absent           1        2       3       4\n",
              "volatility tar_bias                                  \n",
              "high       frequent   95.458   26.292   7.625   2.571\n",
              "           rare      412.958  122.667  36.417  10.833\n",
              "low        frequent   42.083   29.042  18.500  12.750\n",
              "           rare      176.000  121.625  85.958  60.042"
            ]
          },
          "execution_count": 44,
          "metadata": {},
          "output_type": "execute_result"
        }
      ],
      "source": [
        "target_loc_rt_l = (data.query(\"dist_repe_absent > 0 and dist_repe_absent < 5 and dist_bias == 'absent'\")\n",
        "               .groupby(['sub', 'volatility','dist_repe_absent','tar_bias'])\n",
        "               .agg({'rt':'mean', 'correct':'count'}) # calculate mean rt and trial count\n",
        "                .rename(columns={'correct':'trial_count'})\n",
        "                .reset_index())\n",
        "# check average number of trials\n",
        "(target_loc_rt_l.groupby(['volatility', 'tar_bias', 'dist_repe_absent'])\n",
        " .agg({'trial_count':'mean'}).reset_index()\n",
        " .pivot_table(index=['volatility', 'tar_bias'], columns='dist_repe_absent', values='trial_count').round(3))\n"
      ]
    },
    {
      "cell_type": "markdown",
      "metadata": {},
      "source": [
        "The target repetition of 4 for the high volatlity condition at the frequent distractor location was rare, on average 2.57 trials. \n",
        "\n",
        "Given the average number of trials for the target location at high vol/ dist frequent locaiton is rare, we only use the repetition from 1 to 3. "
      ]
    },
    {
      "cell_type": "code",
      "execution_count": 45,
      "metadata": {},
      "outputs": [
        {
          "data": {
            "text/html": [
              "<div>\n",
              "<style scoped>\n",
              "    .dataframe tbody tr th:only-of-type {\n",
              "        vertical-align: middle;\n",
              "    }\n",
              "\n",
              "    .dataframe tbody tr th {\n",
              "        vertical-align: top;\n",
              "    }\n",
              "\n",
              "    .dataframe thead th {\n",
              "        text-align: right;\n",
              "    }\n",
              "</style>\n",
              "<table border=\"1\" class=\"dataframe\">\n",
              "  <thead>\n",
              "    <tr style=\"text-align: right;\">\n",
              "      <th>tar_bias</th>\n",
              "      <th>sub</th>\n",
              "      <th>volatility</th>\n",
              "      <th>dist_repe_absent</th>\n",
              "      <th>frequent</th>\n",
              "      <th>rare</th>\n",
              "      <th>location</th>\n",
              "    </tr>\n",
              "  </thead>\n",
              "  <tbody>\n",
              "    <tr>\n",
              "      <th>0</th>\n",
              "      <td>1</td>\n",
              "      <td>high</td>\n",
              "      <td>1</td>\n",
              "      <td>0.968713</td>\n",
              "      <td>1.006274</td>\n",
              "      <td>-37.560823</td>\n",
              "    </tr>\n",
              "    <tr>\n",
              "      <th>1</th>\n",
              "      <td>1</td>\n",
              "      <td>high</td>\n",
              "      <td>2</td>\n",
              "      <td>0.851368</td>\n",
              "      <td>0.983339</td>\n",
              "      <td>-131.971397</td>\n",
              "    </tr>\n",
              "    <tr>\n",
              "      <th>2</th>\n",
              "      <td>1</td>\n",
              "      <td>high</td>\n",
              "      <td>3</td>\n",
              "      <td>0.994422</td>\n",
              "      <td>0.961247</td>\n",
              "      <td>33.174801</td>\n",
              "    </tr>\n",
              "    <tr>\n",
              "      <th>3</th>\n",
              "      <td>1</td>\n",
              "      <td>low</td>\n",
              "      <td>1</td>\n",
              "      <td>0.984914</td>\n",
              "      <td>0.849897</td>\n",
              "      <td>135.017022</td>\n",
              "    </tr>\n",
              "    <tr>\n",
              "      <th>4</th>\n",
              "      <td>1</td>\n",
              "      <td>low</td>\n",
              "      <td>2</td>\n",
              "      <td>0.813077</td>\n",
              "      <td>0.852792</td>\n",
              "      <td>-39.714991</td>\n",
              "    </tr>\n",
              "  </tbody>\n",
              "</table>\n",
              "</div>"
            ],
            "text/plain": [
              "tar_bias  sub volatility  dist_repe_absent  frequent      rare    location\n",
              "0           1       high                 1  0.968713  1.006274  -37.560823\n",
              "1           1       high                 2  0.851368  0.983339 -131.971397\n",
              "2           1       high                 3  0.994422  0.961247   33.174801\n",
              "3           1        low                 1  0.984914  0.849897  135.017022\n",
              "4           1        low                 2  0.813077  0.852792  -39.714991"
            ]
          },
          "execution_count": 45,
          "metadata": {},
          "output_type": "execute_result"
        }
      ],
      "source": [
        "\n",
        "target_loc_rt = (target_loc_rt_l\n",
        "                 .query('dist_repe_absent < 4')\n",
        "                .drop(columns=['trial_count'])\n",
        "               .pivot_table(index=['sub', 'volatility','dist_repe_absent'], columns='tar_bias', values='rt')\n",
        "               .assign(location=lambda df: (df['frequent'] - df['rare'])*1000).reset_index())\n",
        "target_loc_rt.head()"
      ]
    },
    {
      "cell_type": "code",
      "execution_count": 46,
      "metadata": {},
      "outputs": [
        {
          "data": {
            "text/html": [
              "<div>\n",
              "<style scoped>\n",
              "    .dataframe tbody tr th:only-of-type {\n",
              "        vertical-align: middle;\n",
              "    }\n",
              "\n",
              "    .dataframe tbody tr th {\n",
              "        vertical-align: top;\n",
              "    }\n",
              "\n",
              "    .dataframe thead th {\n",
              "        text-align: right;\n",
              "    }\n",
              "</style>\n",
              "<table border=\"1\" class=\"dataframe\">\n",
              "  <thead>\n",
              "    <tr style=\"text-align: right;\">\n",
              "      <th></th>\n",
              "      <th>Source</th>\n",
              "      <th>SS</th>\n",
              "      <th>ddof1</th>\n",
              "      <th>ddof2</th>\n",
              "      <th>MS</th>\n",
              "      <th>F</th>\n",
              "      <th>p-unc</th>\n",
              "      <th>p-GG-corr</th>\n",
              "      <th>np2</th>\n",
              "      <th>eps</th>\n",
              "    </tr>\n",
              "  </thead>\n",
              "  <tbody>\n",
              "    <tr>\n",
              "      <th>0</th>\n",
              "      <td>dist_repe_absent</td>\n",
              "      <td>128476.61</td>\n",
              "      <td>2</td>\n",
              "      <td>46</td>\n",
              "      <td>64238.31</td>\n",
              "      <td>13.99</td>\n",
              "      <td>0.00</td>\n",
              "      <td>0.00</td>\n",
              "      <td>0.38</td>\n",
              "      <td>0.94</td>\n",
              "    </tr>\n",
              "    <tr>\n",
              "      <th>1</th>\n",
              "      <td>volatility</td>\n",
              "      <td>109252.97</td>\n",
              "      <td>1</td>\n",
              "      <td>23</td>\n",
              "      <td>109252.97</td>\n",
              "      <td>6.56</td>\n",
              "      <td>0.02</td>\n",
              "      <td>0.02</td>\n",
              "      <td>0.22</td>\n",
              "      <td>1.00</td>\n",
              "    </tr>\n",
              "    <tr>\n",
              "      <th>2</th>\n",
              "      <td>dist_repe_absent * volatility</td>\n",
              "      <td>2729.36</td>\n",
              "      <td>2</td>\n",
              "      <td>46</td>\n",
              "      <td>1364.68</td>\n",
              "      <td>0.16</td>\n",
              "      <td>0.85</td>\n",
              "      <td>0.81</td>\n",
              "      <td>0.01</td>\n",
              "      <td>0.84</td>\n",
              "    </tr>\n",
              "  </tbody>\n",
              "</table>\n",
              "</div>"
            ],
            "text/plain": [
              "                          Source         SS  ddof1  ddof2         MS      F  \\\n",
              "0               dist_repe_absent  128476.61      2     46   64238.31  13.99   \n",
              "1                     volatility  109252.97      1     23  109252.97   6.56   \n",
              "2  dist_repe_absent * volatility    2729.36      2     46    1364.68   0.16   \n",
              "\n",
              "   p-unc  p-GG-corr   np2   eps  \n",
              "0   0.00       0.00  0.38  0.94  \n",
              "1   0.02       0.02  0.22  1.00  \n",
              "2   0.85       0.81  0.01  0.84  "
            ]
          },
          "execution_count": 46,
          "metadata": {},
          "output_type": "execute_result"
        }
      ],
      "source": [
        "# repeated measures ANOVA for target location effect\n",
        "pg.rm_anova(dv='location', within=['dist_repe_absent', 'volatility'], subject='sub', data=target_loc_rt, detailed=True, effsize='np2').round(2)"
      ]
    },
    {
      "cell_type": "code",
      "execution_count": 47,
      "metadata": {},
      "outputs": [
        {
          "data": {
            "text/html": [
              "<div>\n",
              "<style scoped>\n",
              "    .dataframe tbody tr th:only-of-type {\n",
              "        vertical-align: middle;\n",
              "    }\n",
              "\n",
              "    .dataframe tbody tr th {\n",
              "        vertical-align: top;\n",
              "    }\n",
              "\n",
              "    .dataframe thead th {\n",
              "        text-align: right;\n",
              "    }\n",
              "</style>\n",
              "<table border=\"1\" class=\"dataframe\">\n",
              "  <thead>\n",
              "    <tr style=\"text-align: right;\">\n",
              "      <th></th>\n",
              "      <th>Source</th>\n",
              "      <th>SS</th>\n",
              "      <th>DF</th>\n",
              "      <th>MS</th>\n",
              "      <th>F</th>\n",
              "      <th>p-unc</th>\n",
              "      <th>np2</th>\n",
              "      <th>eps</th>\n",
              "    </tr>\n",
              "  </thead>\n",
              "  <tbody>\n",
              "    <tr>\n",
              "      <th>0</th>\n",
              "      <td>volatility</td>\n",
              "      <td>21996.16</td>\n",
              "      <td>1</td>\n",
              "      <td>21996.16</td>\n",
              "      <td>1.47</td>\n",
              "      <td>0.24</td>\n",
              "      <td>0.06</td>\n",
              "      <td>1.0</td>\n",
              "    </tr>\n",
              "    <tr>\n",
              "      <th>1</th>\n",
              "      <td>Error</td>\n",
              "      <td>344108.23</td>\n",
              "      <td>23</td>\n",
              "      <td>14961.23</td>\n",
              "      <td>NaN</td>\n",
              "      <td>NaN</td>\n",
              "      <td>NaN</td>\n",
              "      <td>NaN</td>\n",
              "    </tr>\n",
              "  </tbody>\n",
              "</table>\n",
              "</div>"
            ],
            "text/plain": [
              "       Source         SS  DF        MS     F  p-unc   np2  eps\n",
              "0  volatility   21996.16   1  21996.16  1.47   0.24  0.06  1.0\n",
              "1       Error  344108.23  23  14961.23   NaN    NaN   NaN  NaN"
            ]
          },
          "execution_count": 47,
          "metadata": {},
          "output_type": "execute_result"
        }
      ],
      "source": [
        "# repeated measures ANOVA for target location effect only for repetition of 1\n",
        "pg.rm_anova(dv='location', within=['volatility'], subject='sub', data=target_loc_rt.query('dist_repe_absent == 1'), detailed=True, effsize='np2').round(2)\n"
      ]
    },
    {
      "cell_type": "code",
      "execution_count": 48,
      "metadata": {},
      "outputs": [
        {
          "data": {
            "text/html": [
              "<div>\n",
              "<style scoped>\n",
              "    .dataframe tbody tr th:only-of-type {\n",
              "        vertical-align: middle;\n",
              "    }\n",
              "\n",
              "    .dataframe tbody tr th {\n",
              "        vertical-align: top;\n",
              "    }\n",
              "\n",
              "    .dataframe thead th {\n",
              "        text-align: right;\n",
              "    }\n",
              "</style>\n",
              "<table border=\"1\" class=\"dataframe\">\n",
              "  <thead>\n",
              "    <tr style=\"text-align: right;\">\n",
              "      <th></th>\n",
              "      <th>Contrast</th>\n",
              "      <th>A</th>\n",
              "      <th>B</th>\n",
              "      <th>Paired</th>\n",
              "      <th>Parametric</th>\n",
              "      <th>T</th>\n",
              "      <th>dof</th>\n",
              "      <th>alternative</th>\n",
              "      <th>p-unc</th>\n",
              "      <th>p-corr</th>\n",
              "      <th>p-adjust</th>\n",
              "      <th>BF10</th>\n",
              "      <th>cohen</th>\n",
              "    </tr>\n",
              "  </thead>\n",
              "  <tbody>\n",
              "    <tr>\n",
              "      <th>0</th>\n",
              "      <td>dist_repe_absent</td>\n",
              "      <td>1</td>\n",
              "      <td>2</td>\n",
              "      <td>True</td>\n",
              "      <td>True</td>\n",
              "      <td>5.085</td>\n",
              "      <td>23.0</td>\n",
              "      <td>two-sided</td>\n",
              "      <td>0.000</td>\n",
              "      <td>0.000</td>\n",
              "      <td>bonf</td>\n",
              "      <td>649.443</td>\n",
              "      <td>0.637</td>\n",
              "    </tr>\n",
              "    <tr>\n",
              "      <th>1</th>\n",
              "      <td>dist_repe_absent</td>\n",
              "      <td>1</td>\n",
              "      <td>3</td>\n",
              "      <td>True</td>\n",
              "      <td>True</td>\n",
              "      <td>3.235</td>\n",
              "      <td>23.0</td>\n",
              "      <td>two-sided</td>\n",
              "      <td>0.004</td>\n",
              "      <td>0.011</td>\n",
              "      <td>bonf</td>\n",
              "      <td>11.37</td>\n",
              "      <td>0.335</td>\n",
              "    </tr>\n",
              "    <tr>\n",
              "      <th>2</th>\n",
              "      <td>dist_repe_absent</td>\n",
              "      <td>2</td>\n",
              "      <td>3</td>\n",
              "      <td>True</td>\n",
              "      <td>True</td>\n",
              "      <td>-2.297</td>\n",
              "      <td>23.0</td>\n",
              "      <td>two-sided</td>\n",
              "      <td>0.031</td>\n",
              "      <td>0.093</td>\n",
              "      <td>bonf</td>\n",
              "      <td>1.903</td>\n",
              "      <td>-0.308</td>\n",
              "    </tr>\n",
              "  </tbody>\n",
              "</table>\n",
              "</div>"
            ],
            "text/plain": [
              "           Contrast  A  B  Paired  Parametric      T   dof alternative  p-unc  \\\n",
              "0  dist_repe_absent  1  2    True        True  5.085  23.0   two-sided  0.000   \n",
              "1  dist_repe_absent  1  3    True        True  3.235  23.0   two-sided  0.004   \n",
              "2  dist_repe_absent  2  3    True        True -2.297  23.0   two-sided  0.031   \n",
              "\n",
              "   p-corr p-adjust     BF10  cohen  \n",
              "0   0.000     bonf  649.443  0.637  \n",
              "1   0.011     bonf    11.37  0.335  \n",
              "2   0.093     bonf    1.903 -0.308  "
            ]
          },
          "execution_count": 48,
          "metadata": {},
          "output_type": "execute_result"
        }
      ],
      "source": [
        "pg.pairwise_tests(dv ='location', within=['dist_repe_absent'], subject='sub', interaction=False,\n",
        "\t\t\t\t  data=target_loc_rt, padjust='bonf', effsize='cohen').round(3)"
      ]
    },
    {
      "cell_type": "code",
      "execution_count": 49,
      "metadata": {},
      "outputs": [
        {
          "data": {
            "text/html": [
              "<div>\n",
              "<style scoped>\n",
              "    .dataframe tbody tr th:only-of-type {\n",
              "        vertical-align: middle;\n",
              "    }\n",
              "\n",
              "    .dataframe tbody tr th {\n",
              "        vertical-align: top;\n",
              "    }\n",
              "\n",
              "    .dataframe thead th {\n",
              "        text-align: right;\n",
              "    }\n",
              "</style>\n",
              "<table border=\"1\" class=\"dataframe\">\n",
              "  <thead>\n",
              "    <tr style=\"text-align: right;\">\n",
              "      <th></th>\n",
              "      <th>T</th>\n",
              "      <th>dof</th>\n",
              "      <th>alternative</th>\n",
              "      <th>p-val</th>\n",
              "      <th>CI95%</th>\n",
              "      <th>cohen-d</th>\n",
              "      <th>BF10</th>\n",
              "      <th>power</th>\n",
              "    </tr>\n",
              "  </thead>\n",
              "  <tbody>\n",
              "    <tr>\n",
              "      <th>T-test</th>\n",
              "      <td>0.81</td>\n",
              "      <td>71</td>\n",
              "      <td>two-sided</td>\n",
              "      <td>0.42</td>\n",
              "      <td>[-20.22, 47.85]</td>\n",
              "      <td>0.1</td>\n",
              "      <td>0.177</td>\n",
              "      <td>0.13</td>\n",
              "    </tr>\n",
              "  </tbody>\n",
              "</table>\n",
              "</div>"
            ],
            "text/plain": [
              "           T  dof alternative  p-val            CI95%  cohen-d   BF10  power\n",
              "T-test  0.81   71   two-sided   0.42  [-20.22, 47.85]      0.1  0.177   0.13"
            ]
          },
          "execution_count": 49,
          "metadata": {},
          "output_type": "execute_result"
        }
      ],
      "source": [
        "pg.ttest(target_loc_rt.query('volatility==\"low\"').location, 0).round(2)"
      ]
    },
    {
      "cell_type": "code",
      "execution_count": 50,
      "metadata": {},
      "outputs": [
        {
          "data": {
            "text/html": [
              "<div>\n",
              "<style scoped>\n",
              "    .dataframe tbody tr th:only-of-type {\n",
              "        vertical-align: middle;\n",
              "    }\n",
              "\n",
              "    .dataframe tbody tr th {\n",
              "        vertical-align: top;\n",
              "    }\n",
              "\n",
              "    .dataframe thead th {\n",
              "        text-align: right;\n",
              "    }\n",
              "</style>\n",
              "<table border=\"1\" class=\"dataframe\">\n",
              "  <thead>\n",
              "    <tr style=\"text-align: right;\">\n",
              "      <th></th>\n",
              "      <th>T</th>\n",
              "      <th>dof</th>\n",
              "      <th>alternative</th>\n",
              "      <th>p-val</th>\n",
              "      <th>CI95%</th>\n",
              "      <th>cohen-d</th>\n",
              "      <th>BF10</th>\n",
              "      <th>power</th>\n",
              "    </tr>\n",
              "  </thead>\n",
              "  <tbody>\n",
              "    <tr>\n",
              "      <th>T-test</th>\n",
              "      <td>1.66</td>\n",
              "      <td>23</td>\n",
              "      <td>two-sided</td>\n",
              "      <td>0.11</td>\n",
              "      <td>[-13.92, 128.41]</td>\n",
              "      <td>0.34</td>\n",
              "      <td>0.712</td>\n",
              "      <td>0.36</td>\n",
              "    </tr>\n",
              "  </tbody>\n",
              "</table>\n",
              "</div>"
            ],
            "text/plain": [
              "           T  dof alternative  p-val             CI95%  cohen-d   BF10  power\n",
              "T-test  1.66   23   two-sided   0.11  [-13.92, 128.41]     0.34  0.712   0.36"
            ]
          },
          "execution_count": 50,
          "metadata": {},
          "output_type": "execute_result"
        }
      ],
      "source": [
        "# test the target location effect for the low volatility sesstion, repetition of 1\n",
        "pg.ttest(target_loc_rt.query('volatility==\"low\" and dist_repe_absent == 1').location, 0).round(2)\n"
      ]
    },
    {
      "cell_type": "code",
      "execution_count": 51,
      "metadata": {},
      "outputs": [
        {
          "name": "stdout",
          "output_type": "stream",
          "text": [
            "            T  dof alternative  p-val           CI95%  cohen-d    BF10  power\n",
            "T-test  4.038   23   two-sided  0.001  [48.8, 151.32]    0.824  63.219  0.972\n",
            "            T  dof alternative  p-val           CI95%  cohen-d   BF10  power\n",
            "T-test  4.494   71   two-sided    0.0  [38.33, 99.48]     0.53  702.0  0.993\n"
          ]
        }
      ],
      "source": [
        "print(pg.ttest(target_loc_rt.query('volatility==\"high\" and dist_repe_absent == 1').location, 0).round(3))\n",
        "print(pg.ttest(target_loc_rt.query('volatility==\"high\" ').location, 0).round(3))\n"
      ]
    },
    {
      "cell_type": "code",
      "execution_count": 52,
      "metadata": {},
      "outputs": [
        {
          "data": {
            "text/plain": [
              "(array([ True,  True]), array([0.002, 0.   ]))"
            ]
          },
          "execution_count": 52,
          "metadata": {},
          "output_type": "execute_result"
        }
      ],
      "source": [
        "pg.multicomp([0.001, 0.0], method='bonf')"
      ]
    },
    {
      "cell_type": "markdown",
      "metadata": {},
      "source": [
        "Given that the repetition effect was mainly contributed by the first 'distractor-absent' trials in the high-volatility condition, we wanted to look at if this was contributed by the fact that the target likely at the distractor location in the previous trials (i.e., coincidence trials) is unbalanced. \n"
      ]
    },
    {
      "cell_type": "code",
      "execution_count": 53,
      "metadata": {},
      "outputs": [
        {
          "data": {
            "text/html": [
              "<div>\n",
              "<style scoped>\n",
              "    .dataframe tbody tr th:only-of-type {\n",
              "        vertical-align: middle;\n",
              "    }\n",
              "\n",
              "    .dataframe tbody tr th {\n",
              "        vertical-align: top;\n",
              "    }\n",
              "\n",
              "    .dataframe thead th {\n",
              "        text-align: right;\n",
              "    }\n",
              "</style>\n",
              "<table border=\"1\" class=\"dataframe\">\n",
              "  <thead>\n",
              "    <tr style=\"text-align: right;\">\n",
              "      <th>tar_bias</th>\n",
              "      <th>sub</th>\n",
              "      <th>volatility</th>\n",
              "      <th>dist_repe_absent</th>\n",
              "      <th>frequent</th>\n",
              "      <th>rare</th>\n",
              "      <th>location</th>\n",
              "    </tr>\n",
              "  </thead>\n",
              "  <tbody>\n",
              "    <tr>\n",
              "      <th>0</th>\n",
              "      <td>1</td>\n",
              "      <td>high</td>\n",
              "      <td>1</td>\n",
              "      <td>0.955638</td>\n",
              "      <td>1.001780</td>\n",
              "      <td>-46.142558</td>\n",
              "    </tr>\n",
              "    <tr>\n",
              "      <th>1</th>\n",
              "      <td>1</td>\n",
              "      <td>high</td>\n",
              "      <td>2</td>\n",
              "      <td>0.851368</td>\n",
              "      <td>0.983339</td>\n",
              "      <td>-131.971397</td>\n",
              "    </tr>\n",
              "    <tr>\n",
              "      <th>2</th>\n",
              "      <td>1</td>\n",
              "      <td>high</td>\n",
              "      <td>3</td>\n",
              "      <td>0.994422</td>\n",
              "      <td>0.961247</td>\n",
              "      <td>33.174801</td>\n",
              "    </tr>\n",
              "    <tr>\n",
              "      <th>3</th>\n",
              "      <td>1</td>\n",
              "      <td>low</td>\n",
              "      <td>1</td>\n",
              "      <td>0.877656</td>\n",
              "      <td>0.845485</td>\n",
              "      <td>32.171581</td>\n",
              "    </tr>\n",
              "    <tr>\n",
              "      <th>4</th>\n",
              "      <td>1</td>\n",
              "      <td>low</td>\n",
              "      <td>2</td>\n",
              "      <td>0.813077</td>\n",
              "      <td>0.852792</td>\n",
              "      <td>-39.714991</td>\n",
              "    </tr>\n",
              "    <tr>\n",
              "      <th>5</th>\n",
              "      <td>1</td>\n",
              "      <td>low</td>\n",
              "      <td>3</td>\n",
              "      <td>0.701343</td>\n",
              "      <td>0.831544</td>\n",
              "      <td>-130.200480</td>\n",
              "    </tr>\n",
              "    <tr>\n",
              "      <th>6</th>\n",
              "      <td>2</td>\n",
              "      <td>high</td>\n",
              "      <td>1</td>\n",
              "      <td>0.608394</td>\n",
              "      <td>0.601157</td>\n",
              "      <td>7.237726</td>\n",
              "    </tr>\n",
              "    <tr>\n",
              "      <th>7</th>\n",
              "      <td>2</td>\n",
              "      <td>high</td>\n",
              "      <td>2</td>\n",
              "      <td>0.617895</td>\n",
              "      <td>0.595817</td>\n",
              "      <td>22.077406</td>\n",
              "    </tr>\n",
              "    <tr>\n",
              "      <th>8</th>\n",
              "      <td>2</td>\n",
              "      <td>high</td>\n",
              "      <td>3</td>\n",
              "      <td>0.664244</td>\n",
              "      <td>0.603683</td>\n",
              "      <td>60.561343</td>\n",
              "    </tr>\n",
              "    <tr>\n",
              "      <th>9</th>\n",
              "      <td>2</td>\n",
              "      <td>low</td>\n",
              "      <td>1</td>\n",
              "      <td>0.656780</td>\n",
              "      <td>0.638931</td>\n",
              "      <td>17.849330</td>\n",
              "    </tr>\n",
              "  </tbody>\n",
              "</table>\n",
              "</div>"
            ],
            "text/plain": [
              "tar_bias  sub volatility  dist_repe_absent  frequent      rare    location\n",
              "0           1       high                 1  0.955638  1.001780  -46.142558\n",
              "1           1       high                 2  0.851368  0.983339 -131.971397\n",
              "2           1       high                 3  0.994422  0.961247   33.174801\n",
              "3           1        low                 1  0.877656  0.845485   32.171581\n",
              "4           1        low                 2  0.813077  0.852792  -39.714991\n",
              "5           1        low                 3  0.701343  0.831544 -130.200480\n",
              "6           2       high                 1  0.608394  0.601157    7.237726\n",
              "7           2       high                 2  0.617895  0.595817   22.077406\n",
              "8           2       high                 3  0.664244  0.603683   60.561343\n",
              "9           2        low                 1  0.656780  0.638931   17.849330"
            ]
          },
          "execution_count": 53,
          "metadata": {},
          "output_type": "execute_result"
        }
      ],
      "source": [
        "target_loc_rt2 = (data.query(\"dist_repe_absent > 0 and dist_repe_absent < 4 and dist_bias == 'absent' and coincident != 'coincident'\")\n",
        "               .groupby(['sub', 'volatility','dist_repe_absent','tar_bias'])\n",
        "               .agg({'rt':'mean', 'correct':'count'}) # calculate mean rt and trial count\n",
        "                .rename(columns={'correct':'trial_count'})\n",
        "                .reset_index()\n",
        "               .pivot_table(index=['sub', 'volatility','dist_repe_absent'], columns='tar_bias', values='rt')\n",
        "               .assign(location=lambda df: (df['frequent'] - df['rare'])*1000).reset_index())\n",
        "target_loc_rt2.head(10)"
      ]
    },
    {
      "cell_type": "code",
      "execution_count": 57,
      "metadata": {},
      "outputs": [
        {
          "data": {
            "text/html": [
              "<div>\n",
              "<style scoped>\n",
              "    .dataframe tbody tr th:only-of-type {\n",
              "        vertical-align: middle;\n",
              "    }\n",
              "\n",
              "    .dataframe tbody tr th {\n",
              "        vertical-align: top;\n",
              "    }\n",
              "\n",
              "    .dataframe thead th {\n",
              "        text-align: right;\n",
              "    }\n",
              "</style>\n",
              "<table border=\"1\" class=\"dataframe\">\n",
              "  <thead>\n",
              "    <tr style=\"text-align: right;\">\n",
              "      <th></th>\n",
              "      <th>Source</th>\n",
              "      <th>SS</th>\n",
              "      <th>ddof1</th>\n",
              "      <th>ddof2</th>\n",
              "      <th>MS</th>\n",
              "      <th>F</th>\n",
              "      <th>p-unc</th>\n",
              "      <th>p-GG-corr</th>\n",
              "      <th>np2</th>\n",
              "      <th>eps</th>\n",
              "    </tr>\n",
              "  </thead>\n",
              "  <tbody>\n",
              "    <tr>\n",
              "      <th>0</th>\n",
              "      <td>dist_repe_absent</td>\n",
              "      <td>29195.72</td>\n",
              "      <td>2</td>\n",
              "      <td>46</td>\n",
              "      <td>14597.86</td>\n",
              "      <td>2.86</td>\n",
              "      <td>0.07</td>\n",
              "      <td>0.07</td>\n",
              "      <td>0.11</td>\n",
              "      <td>1.00</td>\n",
              "    </tr>\n",
              "    <tr>\n",
              "      <th>1</th>\n",
              "      <td>volatility</td>\n",
              "      <td>95156.96</td>\n",
              "      <td>1</td>\n",
              "      <td>23</td>\n",
              "      <td>95156.96</td>\n",
              "      <td>4.39</td>\n",
              "      <td>0.05</td>\n",
              "      <td>0.05</td>\n",
              "      <td>0.16</td>\n",
              "      <td>1.00</td>\n",
              "    </tr>\n",
              "    <tr>\n",
              "      <th>2</th>\n",
              "      <td>dist_repe_absent * volatility</td>\n",
              "      <td>6951.98</td>\n",
              "      <td>2</td>\n",
              "      <td>46</td>\n",
              "      <td>3475.99</td>\n",
              "      <td>0.28</td>\n",
              "      <td>0.76</td>\n",
              "      <td>0.74</td>\n",
              "      <td>0.01</td>\n",
              "      <td>0.92</td>\n",
              "    </tr>\n",
              "  </tbody>\n",
              "</table>\n",
              "</div>"
            ],
            "text/plain": [
              "                          Source        SS  ddof1  ddof2        MS     F  \\\n",
              "0               dist_repe_absent  29195.72      2     46  14597.86  2.86   \n",
              "1                     volatility  95156.96      1     23  95156.96  4.39   \n",
              "2  dist_repe_absent * volatility   6951.98      2     46   3475.99  0.28   \n",
              "\n",
              "   p-unc  p-GG-corr   np2   eps  \n",
              "0   0.07       0.07  0.11  1.00  \n",
              "1   0.05       0.05  0.16  1.00  \n",
              "2   0.76       0.74  0.01  0.92  "
            ]
          },
          "execution_count": 57,
          "metadata": {},
          "output_type": "execute_result"
        }
      ],
      "source": [
        "pg.rm_anova(dv='location', within=['dist_repe_absent', 'volatility'], subject='sub', data=target_loc_rt2, detailed=True, effsize='np2').round(2)"
      ]
    },
    {
      "cell_type": "code",
      "execution_count": 55,
      "metadata": {},
      "outputs": [
        {
          "data": {
            "image/png": "[encoded data removed]",
            "text/plain": [
              "<Figure size 640x480 with 2 Axes>"
            ]
          },
          "metadata": {},
          "output_type": "display_data"
        }
      ],
      "source": [
        "def plot_tarrep(ax):\n",
        "    # visualize the location effect as a function of dist_repe, separated by volatility, line plot\n",
        "    # without coincidence\n",
        "    sns.pointplot(data=target_loc_rt2, x='dist_repe_absent', y='location',\n",
        "                   hue='volatility',markers=['o','s'], markersize=10, dodge = 0.1, linestyle='--', \n",
        "                    linewidth=2, ax = ax, legend=False,  ci = None)\n",
        "\n",
        "    sns.pointplot(data=target_loc_rt, x='dist_repe_absent', y='location',\n",
        "                   hue='volatility',markers=['o','s'], markersize=10, dodge = 0.1, \n",
        "                    linewidth=2, ax = ax, legend=False)\n",
        "    ax.set_xlabel('Distractor-absent Repetition')\n",
        "    ax.set_ylabel('Target-location effect (ms)')\n",
        "    # add dashed line at 0\n",
        "    ax.axhline(0, color='k', linestyle='--')\n",
        "    # set y-axis limit to -80 to 210\n",
        "    ax.set_ylim(-80, 210)\n",
        "    # add right y-axis label: number of trials\n",
        "    ax2 = ax.twinx()\n",
        "    sns.barplot(data=target_loc_rt_l.query('dist_repe_absent <4'), x='dist_repe_absent', y='trial_count', \n",
        "                    hue='volatility',  dodge = 0.1, width=0.25, \n",
        "                     ax=ax2, legend=False)\n",
        "\t#sns.lineplot(data=dist_loc_rt_l, x='dist_repe', y='trial_count', hue='dist_bias', style='volatility', ci='sd')\n",
        "    ax2.set_ylabel('Number of Trials')\n",
        "    ax2.set_ylim(0, 1000)\n",
        "\n",
        "plot_tarrep(plt.gca())"
      ]
    },
    {
      "cell_type": "code",
      "execution_count": 56,
      "metadata": {},
      "outputs": [
        {
          "data": {
            "image/png": "[encoded data removed]",
            "text/plain": [
              "<Figure size 900x700 with 6 Axes>"
            ]
          },
          "metadata": {},
          "output_type": "display_data"
        }
      ],
      "source": [
        "# combine plot_nrep, plot_pcue, plot_disrep, and plot_tarrep into one figure, adding a, b, c, d to each plot\n",
        "fig, axes = plt.subplots(2, 2, figsize=(9, 7))\n",
        "plot_rt_rep(axes[0,0])\n",
        "axes[0,0].text(-0.1, 1.1, 'a', transform=axes[0,0].transAxes, fontsize=16, fontweight='bold', va='top', ha='right')\n",
        "plot_disrep2(axes[0,1])\n",
        "axes[0,1].text(-0.1, 1.1, 'b', transform=axes[0,1].transAxes, fontsize=16, fontweight='bold', va='top', ha='right')\n",
        "plot_disrep(axes[1,0])\n",
        "axes[1,0].text(-0.1, 1.1, 'c', transform=axes[1,0].transAxes, fontsize=16, fontweight='bold', va='top', ha='right')\n",
        "plot_tarrep(axes[1,1])\n",
        "axes[1,1].text(-0.1, 1.1, 'd', transform=axes[1,1].transAxes, fontsize=16, fontweight='bold', va='top', ha='right')\n",
        "plt.tight_layout()\n",
        "plt.show()\n",
        "# save the figure\n",
        "fig.savefig('./figs/fig3.png', dpi=300, bbox_inches='tight')\n",
        "fig.savefig('./figs/fig3.pdf', dpi=300, bbox_inches='tight')\n"
      ]
    },
    {
      "cell_type": "markdown",
      "metadata": {},
      "source": [
        "### Change from the distractor-absent to distractor-present trials\n",
        "\n",
        "As shown in the above figure, the distractor interference was comparable in the first encounter of the distractor-present trials, regardless of the distractor volatility. We want to examine further impact of the number of repetition of distractor-absent trials prior to the first encounter of the distractor-present trials.\n"
      ]
    },
    {
      "cell_type": "code",
      "execution_count": 38,
      "metadata": {},
      "outputs": [
        {
          "data": {
            "text/html": [
              "<div>\n",
              "<style scoped>\n",
              "    .dataframe tbody tr th:only-of-type {\n",
              "        vertical-align: middle;\n",
              "    }\n",
              "\n",
              "    .dataframe tbody tr th {\n",
              "        vertical-align: top;\n",
              "    }\n",
              "\n",
              "    .dataframe thead th {\n",
              "        text-align: right;\n",
              "    }\n",
              "</style>\n",
              "<table border=\"1\" class=\"dataframe\">\n",
              "  <thead>\n",
              "    <tr style=\"text-align: right;\">\n",
              "      <th>dist_bias</th>\n",
              "      <th>sub</th>\n",
              "      <th>volatility</th>\n",
              "      <th>dist_repe</th>\n",
              "      <th>pre_repe</th>\n",
              "      <th>frequent</th>\n",
              "      <th>rare</th>\n",
              "      <th>location</th>\n",
              "    </tr>\n",
              "  </thead>\n",
              "  <tbody>\n",
              "    <tr>\n",
              "      <th>0</th>\n",
              "      <td>1</td>\n",
              "      <td>high</td>\n",
              "      <td>1</td>\n",
              "      <td>1.0</td>\n",
              "      <td>1.199625</td>\n",
              "      <td>1.256382</td>\n",
              "      <td>56.757176</td>\n",
              "    </tr>\n",
              "    <tr>\n",
              "      <th>1</th>\n",
              "      <td>1</td>\n",
              "      <td>high</td>\n",
              "      <td>1</td>\n",
              "      <td>2.0</td>\n",
              "      <td>1.233749</td>\n",
              "      <td>1.173035</td>\n",
              "      <td>-60.713898</td>\n",
              "    </tr>\n",
              "    <tr>\n",
              "      <th>2</th>\n",
              "      <td>1</td>\n",
              "      <td>high</td>\n",
              "      <td>1</td>\n",
              "      <td>3.0</td>\n",
              "      <td>1.156992</td>\n",
              "      <td>1.304572</td>\n",
              "      <td>147.580596</td>\n",
              "    </tr>\n",
              "    <tr>\n",
              "      <th>3</th>\n",
              "      <td>1</td>\n",
              "      <td>high</td>\n",
              "      <td>1</td>\n",
              "      <td>4.0</td>\n",
              "      <td>1.239835</td>\n",
              "      <td>1.168321</td>\n",
              "      <td>-71.513887</td>\n",
              "    </tr>\n",
              "    <tr>\n",
              "      <th>4</th>\n",
              "      <td>1</td>\n",
              "      <td>low</td>\n",
              "      <td>1</td>\n",
              "      <td>1.0</td>\n",
              "      <td>1.024429</td>\n",
              "      <td>1.272892</td>\n",
              "      <td>248.462879</td>\n",
              "    </tr>\n",
              "  </tbody>\n",
              "</table>\n",
              "</div>"
            ],
            "text/plain": [
              "dist_bias  sub volatility  dist_repe  pre_repe  frequent      rare    location\n",
              "0            1       high          1       1.0  1.199625  1.256382   56.757176\n",
              "1            1       high          1       2.0  1.233749  1.173035  -60.713898\n",
              "2            1       high          1       3.0  1.156992  1.304572  147.580596\n",
              "3            1       high          1       4.0  1.239835  1.168321  -71.513887\n",
              "4            1        low          1       1.0  1.024429  1.272892  248.462879"
            ]
          },
          "execution_count": 38,
          "metadata": {},
          "output_type": "execute_result"
        }
      ],
      "source": [
        "# shift the column dist_repe_absent one row down, and merge back to the original data as new column `pre_repe`\n",
        "data['pre_repe'] = data.groupby(['sub', 'volatility'])['dist_repe_absent'].shift(1)\n",
        "# replace the value with NA for every 160 trials (0, 160, ...) based on index as this was the start of a new block\n",
        "data.loc[data.index % 160 == 0, 'pre_repe'] = np.nan\n",
        "\n",
        "# select only those trials with dist_rept == 1 \n",
        "data1 = data.query('dist_repe == 1 and pre_repe > 0 and pre_repe < 5')\n",
        "# calculate the mean rt for each subject, volatility, dist_repe, and pre_repe\n",
        "pre_repe_rt = (data1.groupby(['sub', 'volatility', 'dist_repe', 'pre_repe', 'dist_bias'])\n",
        "\t\t\t   .agg(mean_rt=('rt', 'mean'))\n",
        "\t\t\t   .reset_index())\n",
        "# spread the 'dist_bias' to columns, and calculate the difference between mean_rt of rare and frequent\n",
        "pre_repe_rt = (pre_repe_rt.pivot_table(index=['sub', 'volatility', 'dist_repe', 'pre_repe'], columns='dist_bias', values='mean_rt')\n",
        "\t\t\t   .assign(location=lambda df: (df['rare'] - df['frequent'])*1000)\n",
        "\t\t\t   .reset_index())\n",
        "pre_repe_rt.head()\n"
      ]
    },
    {
      "cell_type": "code",
      "execution_count": null,
      "metadata": {},
      "outputs": [],
      "source": []
    },
    {
      "cell_type": "code",
      "execution_count": 45,
      "metadata": {},
      "outputs": [
        {
          "data": {
            "image/png": "[encoded data removed]",
            "text/plain": [
              "<Figure size 640x480 with 1 Axes>"
            ]
          },
          "metadata": {},
          "output_type": "display_data"
        }
      ],
      "source": [
        "# visualize the pre_reptition location effect\n",
        "def plot_prerep(ax):\n",
        "\t# visualize the location effect as a function of pre_repe, separated by volatility, line plot\n",
        "\tsns.pointplot(data=pre_repe_rt, x='pre_repe', y='location', hue='volatility', \n",
        "\t\t\t   markers=['o','s'], markersize=10, dodge = 0.1, linewidth=2, ax = ax)\n",
        "\tax.set_xlabel('Preceding Distractor-Absent Repetition')\n",
        "\tax.set_ylabel('Distractor Prob. Cueing Effect (ms)')\n",
        "\t# add dashed line at 0\n",
        "\tax.axhline(0, color='k', linestyle='--')\n",
        "\t# set y-axis limit to -50 to 200\n",
        "\tax.set_ylim(-80, 280)\n",
        "\t# set legend\n",
        "\tax.legend(title='Volatility', loc='lower left')\n",
        "\t\n",
        "\n",
        "plot_prerep(plt.gca())\n",
        "\n",
        "\t"
      ]
    },
    {
      "cell_type": "markdown",
      "metadata": {},
      "source": [
        "### Inter-trial analysis\n"
      ]
    },
    {
      "cell_type": "markdown",
      "metadata": {},
      "source": [
        "For inter-trial analysis, we need to exclude the first trial of each block. The inter-trial condition is stored in `dist_attendance` (AP, PA, PP, AA). "
      ]
    },
    {
      "cell_type": "code",
      "execution_count": 81,
      "metadata": {},
      "outputs": [
        {
          "name": "stdout",
          "output_type": "stream",
          "text": [
            "(the percentage of exclude trials is: 4.19%)\n"
          ]
        }
      ],
      "source": [
        "# exclude dist_attendance is NaN as True for exclude column without affecting those have already been excluded\n",
        "data['exclude'] = data['exclude'] | data['dist_attendance'].isna()\n",
        "print(f\"(the percentage of exclude trials is: {data.exclude.mean()*100:.2f}%)\")"
      ]
    },
    {
      "cell_type": "code",
      "execution_count": 104,
      "metadata": {},
      "outputs": [
        {
          "data": {
            "text/html": [
              "<div>\n",
              "<style scoped>\n",
              "    .dataframe tbody tr th:only-of-type {\n",
              "        vertical-align: middle;\n",
              "    }\n",
              "\n",
              "    .dataframe tbody tr th {\n",
              "        vertical-align: top;\n",
              "    }\n",
              "\n",
              "    .dataframe thead th {\n",
              "        text-align: right;\n",
              "    }\n",
              "</style>\n",
              "<table border=\"1\" class=\"dataframe\">\n",
              "  <thead>\n",
              "    <tr style=\"text-align: right;\">\n",
              "      <th>dist_attendance</th>\n",
              "      <th>AA</th>\n",
              "      <th>AP</th>\n",
              "      <th>PA</th>\n",
              "      <th>PP</th>\n",
              "    </tr>\n",
              "    <tr>\n",
              "      <th>volatility</th>\n",
              "      <th></th>\n",
              "      <th></th>\n",
              "      <th></th>\n",
              "      <th></th>\n",
              "    </tr>\n",
              "  </thead>\n",
              "  <tbody>\n",
              "    <tr>\n",
              "      <th>high</th>\n",
              "      <td>1.02</td>\n",
              "      <td>1.19</td>\n",
              "      <td>1.04</td>\n",
              "      <td>1.08</td>\n",
              "    </tr>\n",
              "    <tr>\n",
              "      <th>low</th>\n",
              "      <td>0.92</td>\n",
              "      <td>1.09</td>\n",
              "      <td>0.96</td>\n",
              "      <td>1.00</td>\n",
              "    </tr>\n",
              "  </tbody>\n",
              "</table>\n",
              "</div>"
            ],
            "text/plain": [
              "dist_attendance    AA    AP    PA    PP\n",
              "volatility                             \n",
              "high             1.02  1.19  1.04  1.08\n",
              "low              0.92  1.09  0.96  1.00"
            ]
          },
          "execution_count": 104,
          "metadata": {},
          "output_type": "execute_result"
        }
      ],
      "source": [
        "# average rt for each sub, volatility, and dist_attendance (switch types) from data\n",
        "dist_att_rt = (data.query(\"exclude == False\").\n",
        "               groupby(['sub', 'volatility','dist_attendance'])\n",
        "               .agg({'rt':'mean', 'correct':'count'})\n",
        "               .rename(columns={'correct':'trial_count'})\n",
        "               .reset_index())\n",
        "\n",
        "(dist_att_rt.groupby(['volatility', 'dist_attendance']).rt.mean().\n",
        "    reset_index().pivot_table(index=['volatility'], \n",
        "                              columns='dist_attendance', values='rt').round(2))"
      ]
    },
    {
      "cell_type": "code",
      "execution_count": 121,
      "metadata": {},
      "outputs": [
        {
          "data": {
            "image/png": "[encoded data removed]",
            "text/plain": [
              "<Figure size 640x480 with 1 Axes>"
            ]
          },
          "metadata": {},
          "output_type": "display_data"
        }
      ],
      "source": [
        "def plot_switch(ax):\n",
        "    sns.barplot(data=dist_att_rt, x='dist_attendance', y='rt', hue='volatility', \n",
        "                width=0.7, gap = 0.2, ax = ax, order = ['AP', 'PP', 'PA', 'AA'])\n",
        "    # set y-axis range to 0.7 to 1.2\n",
        "    ax.set_ylim(0.7, 1.4)\n",
        "    ax.set_ylabel('Response Time (s)')\n",
        "    ax.set_xlabel('Switch Type')\n",
        "\n",
        "plot_switch(plt.gca())"
      ]
    },
    {
      "cell_type": "code",
      "execution_count": 106,
      "metadata": {},
      "outputs": [
        {
          "data": {
            "text/html": [
              "<div>\n",
              "<style scoped>\n",
              "    .dataframe tbody tr th:only-of-type {\n",
              "        vertical-align: middle;\n",
              "    }\n",
              "\n",
              "    .dataframe tbody tr th {\n",
              "        vertical-align: top;\n",
              "    }\n",
              "\n",
              "    .dataframe thead th {\n",
              "        text-align: right;\n",
              "    }\n",
              "</style>\n",
              "<table border=\"1\" class=\"dataframe\">\n",
              "  <thead>\n",
              "    <tr style=\"text-align: right;\">\n",
              "      <th></th>\n",
              "      <th>Source</th>\n",
              "      <th>SS</th>\n",
              "      <th>ddof1</th>\n",
              "      <th>ddof2</th>\n",
              "      <th>MS</th>\n",
              "      <th>F</th>\n",
              "      <th>p-unc</th>\n",
              "      <th>p-GG-corr</th>\n",
              "      <th>np2</th>\n",
              "      <th>eps</th>\n",
              "    </tr>\n",
              "  </thead>\n",
              "  <tbody>\n",
              "    <tr>\n",
              "      <th>0</th>\n",
              "      <td>dist_attendance</td>\n",
              "      <td>0.791</td>\n",
              "      <td>3</td>\n",
              "      <td>69</td>\n",
              "      <td>0.264</td>\n",
              "      <td>70.958</td>\n",
              "      <td>0.000</td>\n",
              "      <td>0.000</td>\n",
              "      <td>0.755</td>\n",
              "      <td>0.515</td>\n",
              "    </tr>\n",
              "    <tr>\n",
              "      <th>1</th>\n",
              "      <td>volatility</td>\n",
              "      <td>0.374</td>\n",
              "      <td>1</td>\n",
              "      <td>23</td>\n",
              "      <td>0.374</td>\n",
              "      <td>5.934</td>\n",
              "      <td>0.023</td>\n",
              "      <td>0.023</td>\n",
              "      <td>0.205</td>\n",
              "      <td>1.000</td>\n",
              "    </tr>\n",
              "    <tr>\n",
              "      <th>2</th>\n",
              "      <td>dist_attendance * volatility</td>\n",
              "      <td>0.003</td>\n",
              "      <td>3</td>\n",
              "      <td>69</td>\n",
              "      <td>0.001</td>\n",
              "      <td>0.405</td>\n",
              "      <td>0.750</td>\n",
              "      <td>0.577</td>\n",
              "      <td>0.017</td>\n",
              "      <td>0.421</td>\n",
              "    </tr>\n",
              "  </tbody>\n",
              "</table>\n",
              "</div>"
            ],
            "text/plain": [
              "                         Source     SS  ddof1  ddof2     MS       F  p-unc  \\\n",
              "0               dist_attendance  0.791      3     69  0.264  70.958  0.000   \n",
              "1                    volatility  0.374      1     23  0.374   5.934  0.023   \n",
              "2  dist_attendance * volatility  0.003      3     69  0.001   0.405  0.750   \n",
              "\n",
              "   p-GG-corr    np2    eps  \n",
              "0      0.000  0.755  0.515  \n",
              "1      0.023  0.205  1.000  \n",
              "2      0.577  0.017  0.421  "
            ]
          },
          "execution_count": 106,
          "metadata": {},
          "output_type": "execute_result"
        }
      ],
      "source": [
        "# repeated measures ANOVA for switch type effect and volatility\n",
        "pg.rm_anova(dv='rt', within=['dist_attendance', 'volatility'], subject='sub', data=dist_att_rt, detailed=True, effsize='np2').round(3)"
      ]
    },
    {
      "cell_type": "code",
      "execution_count": 107,
      "metadata": {},
      "outputs": [
        {
          "data": {
            "text/html": [
              "<div>\n",
              "<style scoped>\n",
              "    .dataframe tbody tr th:only-of-type {\n",
              "        vertical-align: middle;\n",
              "    }\n",
              "\n",
              "    .dataframe tbody tr th {\n",
              "        vertical-align: top;\n",
              "    }\n",
              "\n",
              "    .dataframe thead th {\n",
              "        text-align: right;\n",
              "    }\n",
              "</style>\n",
              "<table border=\"1\" class=\"dataframe\">\n",
              "  <thead>\n",
              "    <tr style=\"text-align: right;\">\n",
              "      <th></th>\n",
              "      <th>sub</th>\n",
              "      <th>volatility</th>\n",
              "      <th>switch_type</th>\n",
              "      <th>switch_effect</th>\n",
              "    </tr>\n",
              "  </thead>\n",
              "  <tbody>\n",
              "    <tr>\n",
              "      <th>0</th>\n",
              "      <td>1</td>\n",
              "      <td>high</td>\n",
              "      <td>DP</td>\n",
              "      <td>92.725549</td>\n",
              "    </tr>\n",
              "    <tr>\n",
              "      <th>1</th>\n",
              "      <td>1</td>\n",
              "      <td>low</td>\n",
              "      <td>DP</td>\n",
              "      <td>120.774364</td>\n",
              "    </tr>\n",
              "    <tr>\n",
              "      <th>2</th>\n",
              "      <td>2</td>\n",
              "      <td>high</td>\n",
              "      <td>DP</td>\n",
              "      <td>14.115938</td>\n",
              "    </tr>\n",
              "    <tr>\n",
              "      <th>3</th>\n",
              "      <td>2</td>\n",
              "      <td>low</td>\n",
              "      <td>DP</td>\n",
              "      <td>33.927747</td>\n",
              "    </tr>\n",
              "    <tr>\n",
              "      <th>4</th>\n",
              "      <td>3</td>\n",
              "      <td>high</td>\n",
              "      <td>DP</td>\n",
              "      <td>50.856706</td>\n",
              "    </tr>\n",
              "  </tbody>\n",
              "</table>\n",
              "</div>"
            ],
            "text/plain": [
              "   sub volatility switch_type  switch_effect\n",
              "0    1       high          DP      92.725549\n",
              "1    1        low          DP     120.774364\n",
              "2    2       high          DP      14.115938\n",
              "3    2        low          DP      33.927747\n",
              "4    3       high          DP      50.856706"
            ]
          },
          "execution_count": 107,
          "metadata": {},
          "output_type": "execute_result"
        }
      ],
      "source": [
        "# pivot the data to wide from dist_attendance to columns, and calculat the differences DP = AP - PP, DA = PA - AA\n",
        "dist_att_rt_wide = (dist_att_rt\n",
        "                    .pivot_table(index=['sub', 'volatility'], columns='dist_attendance', values='rt')\n",
        "                    .assign(DP=lambda df: (df['AP'] - df['PP'])*1000,\n",
        "                            DA=lambda df: (df['PA'] - df['AA'])*1000)\n",
        "                    .reset_index())\n",
        "# select the difference columns DP and DA and pivot the data to long format\n",
        "dist_att_rt_long = (dist_att_rt_wide\n",
        "                    .melt(id_vars=['sub', 'volatility'], value_vars=['DP', 'DA'],\n",
        "                          var_name='switch_type', value_name='switch_effect'))\n",
        "dist_att_rt_long.head()"
      ]
    },
    {
      "cell_type": "code",
      "execution_count": 122,
      "metadata": {},
      "outputs": [
        {
          "data": {
            "image/png": "[encoded data removed]",
            "text/plain": [
              "<Figure size 640x480 with 1 Axes>"
            ]
          },
          "metadata": {},
          "output_type": "display_data"
        }
      ],
      "source": [
        "# visualize the switch effect for each volatility as bar plot\n",
        "def plot_switch_cost(ax):\n",
        "    sns.barplot(data=dist_att_rt_long, x='switch_type', y='switch_effect', hue='volatility', \n",
        "                width=0.7, gap = 0.2, order = ['DP', 'DA'], ax = ax)\n",
        "    # change x-axis tick labels to 'Current Present' and 'Current Absent'\n",
        "    ax.set_xticklabels(['AP-PP', 'PA-AA'])\n",
        "    ax.set_ylabel('Switch Cost (ms)')\n",
        "    ax.set_xlabel('Switch Type')\n",
        "\n",
        "plot_switch_cost(plt.gca())\n"
      ]
    },
    {
      "cell_type": "code",
      "execution_count": 123,
      "metadata": {},
      "outputs": [
        {
          "data": {
            "text/html": [
              "<div>\n",
              "<style scoped>\n",
              "    .dataframe tbody tr th:only-of-type {\n",
              "        vertical-align: middle;\n",
              "    }\n",
              "\n",
              "    .dataframe tbody tr th {\n",
              "        vertical-align: top;\n",
              "    }\n",
              "\n",
              "    .dataframe thead th {\n",
              "        text-align: right;\n",
              "    }\n",
              "</style>\n",
              "<table border=\"1\" class=\"dataframe\">\n",
              "  <thead>\n",
              "    <tr style=\"text-align: right;\">\n",
              "      <th></th>\n",
              "      <th>Source</th>\n",
              "      <th>SS</th>\n",
              "      <th>ddof1</th>\n",
              "      <th>ddof2</th>\n",
              "      <th>MS</th>\n",
              "      <th>F</th>\n",
              "      <th>p-unc</th>\n",
              "      <th>p-GG-corr</th>\n",
              "      <th>np2</th>\n",
              "      <th>eps</th>\n",
              "    </tr>\n",
              "  </thead>\n",
              "  <tbody>\n",
              "    <tr>\n",
              "      <th>0</th>\n",
              "      <td>switch_type</td>\n",
              "      <td>116079.739</td>\n",
              "      <td>1</td>\n",
              "      <td>23</td>\n",
              "      <td>116079.739</td>\n",
              "      <td>43.778</td>\n",
              "      <td>0.000</td>\n",
              "      <td>0.000</td>\n",
              "      <td>0.656</td>\n",
              "      <td>1.0</td>\n",
              "    </tr>\n",
              "    <tr>\n",
              "      <th>1</th>\n",
              "      <td>volatility</td>\n",
              "      <td>204.865</td>\n",
              "      <td>1</td>\n",
              "      <td>23</td>\n",
              "      <td>204.865</td>\n",
              "      <td>0.041</td>\n",
              "      <td>0.841</td>\n",
              "      <td>0.841</td>\n",
              "      <td>0.002</td>\n",
              "      <td>1.0</td>\n",
              "    </tr>\n",
              "    <tr>\n",
              "      <th>2</th>\n",
              "      <td>switch_type * volatility</td>\n",
              "      <td>5792.480</td>\n",
              "      <td>1</td>\n",
              "      <td>23</td>\n",
              "      <td>5792.480</td>\n",
              "      <td>0.745</td>\n",
              "      <td>0.397</td>\n",
              "      <td>0.397</td>\n",
              "      <td>0.031</td>\n",
              "      <td>1.0</td>\n",
              "    </tr>\n",
              "  </tbody>\n",
              "</table>\n",
              "</div>"
            ],
            "text/plain": [
              "                     Source          SS  ddof1  ddof2          MS       F  \\\n",
              "0               switch_type  116079.739      1     23  116079.739  43.778   \n",
              "1                volatility     204.865      1     23     204.865   0.041   \n",
              "2  switch_type * volatility    5792.480      1     23    5792.480   0.745   \n",
              "\n",
              "   p-unc  p-GG-corr    np2  eps  \n",
              "0  0.000      0.000  0.656  1.0  \n",
              "1  0.841      0.841  0.002  1.0  \n",
              "2  0.397      0.397  0.031  1.0  "
            ]
          },
          "execution_count": 123,
          "metadata": {},
          "output_type": "execute_result"
        }
      ],
      "source": [
        "# repeated measures ANOVA for switch effect\n",
        "pg.rm_anova(dv='switch_effect', within=['switch_type', 'volatility'], subject='sub', data=dist_att_rt_long, detailed=True, effsize='np2').round(3)"
      ]
    },
    {
      "cell_type": "markdown",
      "metadata": {},
      "source": [
        "The main effect of switch type is significant, but not others. "
      ]
    },
    {
      "cell_type": "code",
      "execution_count": 117,
      "metadata": {},
      "outputs": [
        {
          "data": {
            "text/html": [
              "<div>\n",
              "<style scoped>\n",
              "    .dataframe tbody tr th:only-of-type {\n",
              "        vertical-align: middle;\n",
              "    }\n",
              "\n",
              "    .dataframe tbody tr th {\n",
              "        vertical-align: top;\n",
              "    }\n",
              "\n",
              "    .dataframe thead th {\n",
              "        text-align: right;\n",
              "    }\n",
              "</style>\n",
              "<table border=\"1\" class=\"dataframe\">\n",
              "  <thead>\n",
              "    <tr style=\"text-align: right;\">\n",
              "      <th></th>\n",
              "      <th>switch_type</th>\n",
              "      <th>switch_effect</th>\n",
              "    </tr>\n",
              "  </thead>\n",
              "  <tbody>\n",
              "    <tr>\n",
              "      <th>0</th>\n",
              "      <td>DA</td>\n",
              "      <td>32.0</td>\n",
              "    </tr>\n",
              "    <tr>\n",
              "      <th>1</th>\n",
              "      <td>DP</td>\n",
              "      <td>101.0</td>\n",
              "    </tr>\n",
              "  </tbody>\n",
              "</table>\n",
              "</div>"
            ],
            "text/plain": [
              "  switch_type  switch_effect\n",
              "0          DA           32.0\n",
              "1          DP          101.0"
            ]
          },
          "execution_count": 117,
          "metadata": {},
          "output_type": "execute_result"
        }
      ],
      "source": [
        "#show the average switch effect for switch type\n",
        "dist_att_rt_long.groupby([ 'switch_type']).switch_effect.mean().reset_index().round()"
      ]
    },
    {
      "cell_type": "code",
      "execution_count": 124,
      "metadata": {},
      "outputs": [
        {
          "data": {
            "image/png": "[encoded data removed]",
            "text/plain": [
              "<Figure size 700x350 with 2 Axes>"
            ]
          },
          "metadata": {},
          "output_type": "display_data"
        }
      ],
      "source": [
        "# combine plot_switch and plot_switch_cost into one figure\n",
        "fig, axes = plt.subplots(1, 2, figsize=(7, 3.5))\n",
        "plot_switch(axes[0])\n",
        "axes[0].text(-0.1, 1.1, 'a', transform=axes[0].transAxes, fontsize=16, fontweight='bold', va='top', ha='right')\n",
        "plot_switch_cost(axes[1])\n",
        "axes[1].text(-0.1, 1.1, 'b', transform=axes[1].transAxes, fontsize=16, fontweight='bold', va='top', ha='right')\n",
        "plt.tight_layout()\n",
        "plt.show()\n",
        "# save the figure\n",
        "fig.savefig('./figs/fig_s.png', dpi=300, bbox_inches='tight')\n",
        "fig.savefig('./figs/fig_s.pdf', dpi=300, bbox_inches='tight')\n"
      ]
    },
    {
      "cell_type": "markdown",
      "metadata": {},
      "source": [
        "The short-term switch cost was not affected by the volatility of the trial sequence, which is consistent with previous findings (Goschy et al., 2014)."
      ]
    }
  ],
  "metadata": {
    "colab": {
      "collapsed_sections": [
        "uT2lRhswteJo"
      ],
      "name": "Copy of Data_analysis_and_Visualization.ipynb",
      "provenance": [],
      "toc_visible": true
    },
    "interpreter": {
      "hash": "aee8b7b246df8f9039afb4144a1f6fd8d2ca17a180786b69acc140d282b71a49"
    },
    "kernelspec": {
      "display_name": "Python 3.7.9 64-bit",
      "language": "python",
      "name": "python3"
    },
    "language_info": {
      "codemirror_mode": {
        "name": "ipython",
        "version": 3
      },
      "file_extension": ".py",
      "mimetype": "text/x-python",
      "name": "python",
      "nbconvert_exporter": "python",
      "pygments_lexer": "ipython3",
      "version": "3.11.7"
    }
  },
  "nbformat": 4,
  "nbformat_minor": 0
}
